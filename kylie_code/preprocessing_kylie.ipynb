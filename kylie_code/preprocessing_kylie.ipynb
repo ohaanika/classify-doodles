{
 "cells": [
  {
   "cell_type": "code",
   "execution_count": 1,
   "metadata": {},
   "outputs": [],
   "source": [
    "# import necessary libraries\n",
    "import os\n",
    "import numpy as np\n",
    "import pandas as pd\n",
    "import csv\n",
    "import matplotlib.pyplot as plt\n",
    "import cv2"
   ]
  },
  {
   "cell_type": "code",
   "execution_count": 2,
   "metadata": {},
   "outputs": [],
   "source": [
    "# import datasets \n",
    "train_labels = np.array(pd.read_csv(\"datasets/train_labels.csv\", delimiter=\",\", header=0, index_col=0))\n",
    "train_images = np.load(\"datasets/train_images.npy\", encoding=\"latin1\")\n",
    "test_images = np.load(\"datasets/train_images.npy\", encoding=\"latin1\")"
   ]
  },
  {
   "cell_type": "code",
   "execution_count": 3,
   "metadata": {},
   "outputs": [],
   "source": [
    "# reshape images\n",
    "def reshape(dataset):\n",
    "    output = []\n",
    "    for img in dataset:\n",
    "        output.append(img.reshape(100,100))\n",
    "    return np.array(output, dtype=int)"
   ]
  },
  {
   "cell_type": "code",
   "execution_count": 4,
   "metadata": {},
   "outputs": [],
   "source": [
    "# convert greyscale to binary according to threshold\n",
    "def binarize(dataset, threshold):\n",
    "    output = []\n",
    "    for img in dataset:\n",
    "        img[img < threshold] = 0\n",
    "        img[img >= threshold] = 255\n",
    "        output.append(img)\n",
    "    return np.array(output, dtype=int)"
   ]
  },
  {
   "cell_type": "code",
   "execution_count": 10,
   "metadata": {},
   "outputs": [],
   "source": [
    "def prepareToSaveNPY(dataset):\n",
    "    output = []\n",
    "    for i in range(len(dataset)):\n",
    "        output.append((int(i), np.array(dataset[i], dtype=float)))\n",
    "    return np.array(output, dtype=object)"
   ]
  },
  {
   "cell_type": "code",
   "execution_count": 13,
   "metadata": {},
   "outputs": [],
   "source": [
    "def unravel(dataset):\n",
    "    output = []\n",
    "    for img in dataset:\n",
    "        output.append(img.ravel())\n",
    "    return np.array(output, dtype=int)"
   ]
  },
  {
   "cell_type": "code",
   "execution_count": 5,
   "metadata": {},
   "outputs": [],
   "source": [
    "# remove noise surrounding connected component i.e. supposed doodle\n",
    "def denoise(dataset, connectivity):\n",
    "    output = []\n",
    "    for img in dataset:\n",
    "        img_binary = (img > 0).astype(np.uint8)\n",
    "        nb_components, labels, stats, centroids = cv2.connectedComponentsWithStats(img_binary, connectivity, cv2.CV_32S)\n",
    "        areas = stats[:,-1]\n",
    "        max_label = 1\n",
    "        max_area = areas[1]\n",
    "        for j in range(1, nb_components):\n",
    "            if areas[j] > max_area:\n",
    "                max_label = j\n",
    "                max_area = areas[j]\n",
    "        labels[labels != max_label] = 0\n",
    "        output.append(labels)\n",
    "    return np.array(output, dtype=int)"
   ]
  },
  {
   "cell_type": "code",
   "execution_count": 6,
   "metadata": {},
   "outputs": [],
   "source": [
    "train_x = reshape(train_images[:,1])\n",
    "pretrain_x = train_x\n",
    "train_x = binarize(train_x, 175)\n",
    "train_x = denoise(train_x, 8)"
   ]
  },
  {
   "cell_type": "code",
   "execution_count": 7,
   "metadata": {},
   "outputs": [],
   "source": [
    "# check preprocessing results\n",
    "def compare_preprocessing_img(size):\n",
    "    '''\n",
    "    size: number of img to compare, random select\n",
    "    output: compare result\n",
    "    '''\n",
    "    \n",
    "    plot = np.random.randint(0,10000,size)\n",
    "    fig = plt.figure(figsize = (18,12))\n",
    "    for i in range(len(plot)):\n",
    "        \n",
    "        img = train_x[plot[i]]\n",
    "        pre_img = pretrain_x[plot[i]]\n",
    "\n",
    "        label = train_labels[plot[i]]\n",
    "\n",
    "        subplot = fig.add_subplot(size,2,2*i+1,title=label)\n",
    "        subplot.imshow(img, cmap ='gray_r')\n",
    "        subplot.axes.get_xaxis().set_visible(False)\n",
    "        subplot.axes.get_yaxis().set_visible(False)\n",
    "\n",
    "        subplot = fig.add_subplot(size,2,2*(i+1),title=label)\n",
    "        subplot.imshow(pre_img,cmap='gray_r')\n",
    "        subplot.axes.get_xaxis().set_visible(False)\n",
    "        subplot.axes.get_yaxis().set_visible(False)\n",
    "\n",
    "    plt.show()"
   ]
  },
  {
   "cell_type": "code",
   "execution_count": 10,
   "metadata": {},
   "outputs": [
    {
     "data": {
      "image/png": "[encoded data removed]",
      "text/plain": [
       "<Figure size 1296x864 with 10 Axes>"
      ]
     },
     "metadata": {},
     "output_type": "display_data"
    }
   ],
   "source": [
    "compare_preprocessing_img(5)"
   ]
  },
  {
   "cell_type": "code",
   "execution_count": 14,
   "metadata": {},
   "outputs": [
    {
     "ename": "NameError",
     "evalue": "name 'test_x' is not defined",
     "output_type": "error",
     "traceback": [
      "\u001b[0;31m---------------------------------------------------------------------------\u001b[0m",
      "\u001b[0;31mNameError\u001b[0m                                 Traceback (most recent call last)",
      "\u001b[0;32m<ipython-input-14-65ec9dd5b605>\u001b[0m in \u001b[0;36m<module>\u001b[0;34m()\u001b[0m\n\u001b[1;32m      1\u001b[0m \u001b[0mnp\u001b[0m\u001b[0;34m.\u001b[0m\u001b[0msave\u001b[0m\u001b[0;34m(\u001b[0m\u001b[0;34m\"datasets/preprocessed_train_images.npy\"\u001b[0m\u001b[0;34m,\u001b[0m \u001b[0mprepareToSaveNPY\u001b[0m\u001b[0;34m(\u001b[0m\u001b[0munravel\u001b[0m\u001b[0;34m(\u001b[0m\u001b[0mtrain_x\u001b[0m\u001b[0;34m)\u001b[0m\u001b[0;34m)\u001b[0m\u001b[0;34m)\u001b[0m\u001b[0;34m\u001b[0m\u001b[0m\n\u001b[0;32m----> 2\u001b[0;31m \u001b[0mnp\u001b[0m\u001b[0;34m.\u001b[0m\u001b[0msave\u001b[0m\u001b[0;34m(\u001b[0m\u001b[0;34m\"datasets/preprocessed_test_images.npy\"\u001b[0m\u001b[0;34m,\u001b[0m \u001b[0mprepareToSaveNPY\u001b[0m\u001b[0;34m(\u001b[0m\u001b[0munravel\u001b[0m\u001b[0;34m(\u001b[0m\u001b[0mtest_x\u001b[0m\u001b[0;34m)\u001b[0m\u001b[0;34m)\u001b[0m\u001b[0;34m)\u001b[0m\u001b[0;34m\u001b[0m\u001b[0m\n\u001b[0m",
      "\u001b[0;31mNameError\u001b[0m: name 'test_x' is not defined"
     ]
    }
   ],
   "source": [
    "np.save(\"datasets/preprocessed_train_images.npy\", prepareToSaveNPY(unravel(train_x)))\n",
    "np.save(\"datasets/preprocessed_test_images.npy\", prepareToSaveNPY(unravel(test_x)))"
   ]
  },
  {
   "cell_type": "code",
   "execution_count": 20,
   "metadata": {},
   "outputs": [
    {
     "data": {
      "text/plain": [
       "array([[[0, 0, 0, ..., 0, 0, 0],\n",
       "        [0, 0, 0, ..., 0, 0, 0],\n",
       "        [0, 0, 0, ..., 0, 0, 0],\n",
       "        ...,\n",
       "        [0, 0, 0, ..., 0, 0, 0],\n",
       "        [0, 0, 0, ..., 0, 0, 0],\n",
       "        [0, 0, 0, ..., 0, 0, 0]],\n",
       "\n",
       "       [[0, 0, 0, ..., 0, 0, 0],\n",
       "        [0, 0, 0, ..., 0, 0, 0],\n",
       "        [0, 0, 0, ..., 0, 0, 0],\n",
       "        ...,\n",
       "        [0, 0, 0, ..., 0, 0, 0],\n",
       "        [0, 0, 0, ..., 0, 0, 0],\n",
       "        [0, 0, 0, ..., 0, 0, 0]],\n",
       "\n",
       "       [[0, 0, 0, ..., 0, 0, 0],\n",
       "        [0, 0, 0, ..., 0, 0, 0],\n",
       "        [0, 0, 0, ..., 0, 0, 0],\n",
       "        ...,\n",
       "        [0, 0, 0, ..., 0, 0, 0],\n",
       "        [0, 0, 0, ..., 0, 0, 0],\n",
       "        [0, 0, 0, ..., 0, 0, 0]],\n",
       "\n",
       "       ...,\n",
       "\n",
       "       [[0, 0, 0, ..., 0, 0, 0],\n",
       "        [0, 0, 0, ..., 0, 0, 0],\n",
       "        [0, 0, 0, ..., 0, 0, 0],\n",
       "        ...,\n",
       "        [0, 0, 0, ..., 0, 0, 0],\n",
       "        [0, 0, 0, ..., 0, 0, 0],\n",
       "        [0, 0, 0, ..., 0, 0, 0]],\n",
       "\n",
       "       [[0, 0, 0, ..., 0, 0, 0],\n",
       "        [0, 0, 0, ..., 0, 0, 0],\n",
       "        [0, 0, 0, ..., 0, 0, 0],\n",
       "        ...,\n",
       "        [0, 0, 0, ..., 0, 0, 0],\n",
       "        [0, 0, 0, ..., 0, 0, 0],\n",
       "        [0, 0, 0, ..., 0, 0, 0]],\n",
       "\n",
       "       [[0, 0, 0, ..., 0, 0, 0],\n",
       "        [0, 0, 0, ..., 0, 0, 0],\n",
       "        [0, 0, 0, ..., 0, 0, 0],\n",
       "        ...,\n",
       "        [0, 0, 0, ..., 0, 0, 0],\n",
       "        [0, 0, 0, ..., 0, 0, 0],\n",
       "        [0, 0, 0, ..., 0, 0, 0]]])"
      ]
     },
     "execution_count": 20,
     "metadata": {},
     "output_type": "execute_result"
    }
   ],
   "source": [
    "from sklearn.model_selection import train_test_split\n"
   ]
  },
  {
   "cell_type": "code",
   "execution_count": null,
   "metadata": {},
   "outputs": [],
   "source": []
  }
 ],
 "metadata": {
  "kernelspec": {
   "display_name": "Python 3",
   "language": "python",
   "name": "python3"
  },
  "language_info": {
   "codemirror_mode": {
    "name": "ipython",
    "version": 3
   },
   "file_extension": ".py",
   "mimetype": "text/x-python",
   "name": "python",
   "nbconvert_exporter": "python",
   "pygments_lexer": "ipython3",
   "version": "3.6.5"
  }
 },
 "nbformat": 4,
 "nbformat_minor": 2
}
