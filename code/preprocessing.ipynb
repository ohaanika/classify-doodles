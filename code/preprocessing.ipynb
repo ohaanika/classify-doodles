{
 "cells": [
  {
   "cell_type": "code",
   "execution_count": 1,
   "metadata": {
    "collapsed": true
   },
   "outputs": [],
   "source": [
    "# import necessary libraries\n",
    "import os\n",
    "import numpy as np\n",
    "import pandas as pd\n",
    "import csv\n",
    "import matplotlib.pyplot as plt\n",
    "import cv2"
   ]
  },
  {
   "cell_type": "code",
   "execution_count": 2,
   "metadata": {
    "collapsed": true
   },
   "outputs": [],
   "source": [
    "# import datasets \n",
    "train_labels = np.array(pd.read_csv(\"../datasets/train_labels.csv\", delimiter=\",\", header=0, index_col=0))\n",
    "train_images = np.load(\"../datasets/train_images.npy\", encoding=\"latin1\")\n",
    "test_images = np.load(\"../datasets/test_images.npy\", encoding=\"latin1\")"
   ]
  },
  {
   "cell_type": "code",
   "execution_count": 3,
   "metadata": {
    "collapsed": true
   },
   "outputs": [],
   "source": [
    "def reshape(dataset):\n",
    "    '''Reshape images from dimension 10000 --> 100*100\n",
    "    :param dataset: \n",
    "    '''\n",
    "    output = []\n",
    "    for img in dataset:\n",
    "        output.append(img.reshape(100,100))\n",
    "    return np.array(output, dtype=int)"
   ]
  },
  {
   "cell_type": "code",
   "execution_count": 4,
   "metadata": {
    "collapsed": true
   },
   "outputs": [],
   "source": [
    "def unravel(dataset):\n",
    "    '''Reshape images from dimension 100*100 --> 10000\n",
    "    :param dataset: \n",
    "    '''\n",
    "    output = []\n",
    "    for img in dataset:\n",
    "        output.append(img.ravel())\n",
    "    return np.array(output, dtype=int)"
   ]
  },
  {
   "cell_type": "code",
   "execution_count": 5,
   "metadata": {
    "collapsed": true
   },
   "outputs": [],
   "source": [
    "def prepareToSaveNPY(dataset):\n",
    "    '''Convert numpy array to format previously saved in .npy\n",
    "    :param dataset: \n",
    "    '''\n",
    "    output = []\n",
    "    for i in range(len(dataset)):\n",
    "        output.append((int(i), np.array(dataset[i], dtype=float)))\n",
    "    return np.array(output, dtype=object)"
   ]
  },
  {
   "cell_type": "code",
   "execution_count": 6,
   "metadata": {
    "collapsed": true
   },
   "outputs": [],
   "source": [
    "def binarize(dataset, threshold):\n",
    "    '''Convert greyscale to binary according to threshold\n",
    "    :param dataset:\n",
    "    :param threshold:\n",
    "    '''\n",
    "    output = []\n",
    "    for img in dataset:\n",
    "        img[img < threshold] = 0\n",
    "        img[img >= threshold] = 255\n",
    "        output.append(img)\n",
    "    return np.array(output, dtype=int)"
   ]
  },
  {
   "cell_type": "code",
   "execution_count": 7,
   "metadata": {
    "collapsed": true
   },
   "outputs": [],
   "source": [
    "def denoise(dataset, connectivity):\n",
    "    '''Remove noise surrounding connected component i.e. supposed doodle\n",
    "    :param dataset:\n",
    "    :param connectivity:\n",
    "    '''\n",
    "    output = []\n",
    "    for img in dataset:\n",
    "        img_binary = (img > 0).astype(np.uint8)\n",
    "        nb_components, labels, stats, centroids = cv2.connectedComponentsWithStats(img_binary, connectivity, cv2.CV_32S)\n",
    "        areas = stats[:,-1]\n",
    "        max_label = 1\n",
    "        max_area = areas[1]\n",
    "        for j in range(1, nb_components):\n",
    "            if areas[j] > max_area:\n",
    "                max_label = j\n",
    "                max_area = areas[j]\n",
    "        labels[labels != max_label] = 0\n",
    "        output.append(labels)\n",
    "    return np.array(output, dtype=int)"
   ]
  },
  {
   "cell_type": "code",
   "execution_count": 12,
   "metadata": {
    "collapsed": true
   },
   "outputs": [],
   "source": [
    "def square(img, dim):\n",
    "    '''Crop image to a square\n",
    "    :param img: image to be cropped\n",
    "    :param dim: height and width of square image\n",
    "    '''\n",
    "    height, width = img.shape\n",
    "    if height > width:\n",
    "        differ = height\n",
    "    else:\n",
    "        differ = width\n",
    "    differ += 4\n",
    "    mask = np.zeros((differ, differ), dtype=\"uint8\")   \n",
    "    x_pos = int((differ-width)/2)\n",
    "    y_pos = int((differ-height)/2)\n",
    "    mask[y_pos:y_pos+height, x_pos:x_pos+width] = img[0:height, 0:width]\n",
    "    mask = cv2.resize(mask, (dim,dim), interpolation=cv2.INTER_AREA)\n",
    "    return mask\n",
    "\n",
    "def crop(self, dataset):\n",
    "    '''Crop image to contain supposed doodle\n",
    "    :param dataset:\n",
    "    '''\n",
    "    output = []\n",
    "    for img in dataset:\n",
    "        row_mask = np.all(np.isnan(img) | np.equal(img, 0), axis=1)\n",
    "        col_clean = np.transpose(img[~row_mask])\n",
    "        col_mask = np.all(np.isnan(col_clean) | np.equal(col_clean, 0), axis=1)\n",
    "        new_img = np.transpose(col_clean[~col_mask])\n",
    "        new_img = self.get_square(new_img, 35)\n",
    "        output.append(new_img)\n",
    "    return np.array(output, dtype=int)"
   ]
  },
  {
   "cell_type": "code",
   "execution_count": 9,
   "metadata": {
    "collapsed": true
   },
   "outputs": [],
   "source": [
    "def results(original, binarized, denoised, cropped, labels, num):\n",
    "    '''Check preprocessing results\n",
    "    :param num: number of randomly selected images to compare preprocessing results\n",
    "    '''\n",
    "    plot = np.random.randint(0,10000,size)\n",
    "    #plot = [67,150,250,350,450,650,750,850,950,1050,1150,1250]\n",
    "    fig = plt.figure(figsize = (18,12))\n",
    "    for i in range(len(plot)):\n",
    "        img1 = original[plot[i]]\n",
    "        img2 = binarized[plot[i]]\n",
    "        img3 = denoised[plot[i]]\n",
    "        img4 = cropped[plot[i]]\n",
    "        label = train_labels[plot[i]]\n",
    "        # plot original image\n",
    "        subplot = fig.add_subplot(num, 4, 4*i-3, title=label)\n",
    "        subplot.imshow(img1, cmap='gray_r')\n",
    "        subplot.axes.get_xaxis().set_visible(False)\n",
    "        subplot.axes.get_yaxis().set_visible(False)\n",
    "        # plot binarized image\n",
    "        subplot = fig.add_subplot(num, 4, 4*i-2, title=label)\n",
    "        subplot.imshow(img2, cmap='gray_r')\n",
    "        subplot.axes.get_xaxis().set_visible(False)\n",
    "        subplot.axes.get_yaxis().set_visible(False)\n",
    "        # plot denoised image\n",
    "        subplot = fig.add_subplot(num, 4, 4*i-1, title=label)\n",
    "        subplot.imshow(img2, cmap='gray_r')\n",
    "        subplot.axes.get_xaxis().set_visible(False)\n",
    "        subplot.axes.get_yaxis().set_visible(False)\n",
    "        # plot cropped image\n",
    "        subplot = fig.add_subplot(num, 4, 4*i, title=label)\n",
    "        subplot.imshow(img2, cmap='gray_r')\n",
    "        subplot.axes.get_xaxis().set_visible(False)\n",
    "        subplot.axes.get_yaxis().set_visible(False)\n",
    "    plt.show()"
   ]
  },
  {
   "cell_type": "code",
   "execution_count": 13,
   "metadata": {},
   "outputs": [
    {
     "ename": "TypeError",
     "evalue": "crop() missing 1 required positional argument: 'dataset'",
     "output_type": "error",
     "traceback": [
      "\u001b[1;31m---------------------------------------------------------------------------\u001b[0m",
      "\u001b[1;31mTypeError\u001b[0m                                 Traceback (most recent call last)",
      "\u001b[1;32m<ipython-input-13-2c1efc7a12d9>\u001b[0m in \u001b[0;36m<module>\u001b[1;34m()\u001b[0m\n\u001b[0;32m      3\u001b[0m \u001b[0mtrain_x1\u001b[0m \u001b[1;33m=\u001b[0m \u001b[0mbinarize\u001b[0m\u001b[1;33m(\u001b[0m\u001b[0mtrain_x0\u001b[0m\u001b[1;33m,\u001b[0m \u001b[1;36m100\u001b[0m\u001b[1;33m)\u001b[0m\u001b[1;33m\u001b[0m\u001b[0m\n\u001b[0;32m      4\u001b[0m \u001b[0mtrain_x2\u001b[0m \u001b[1;33m=\u001b[0m \u001b[0mdenoise\u001b[0m\u001b[1;33m(\u001b[0m\u001b[0mtrain_x1\u001b[0m\u001b[1;33m,\u001b[0m \u001b[1;36m8\u001b[0m\u001b[1;33m)\u001b[0m\u001b[1;33m\u001b[0m\u001b[0m\n\u001b[1;32m----> 5\u001b[1;33m \u001b[0mtrain_x\u001b[0m \u001b[1;33m=\u001b[0m \u001b[0mcrop\u001b[0m\u001b[1;33m(\u001b[0m\u001b[0mtrain_x2\u001b[0m\u001b[1;33m)\u001b[0m\u001b[1;33m\u001b[0m\u001b[0m\n\u001b[0m\u001b[0;32m      6\u001b[0m \u001b[0mtest_x0\u001b[0m \u001b[1;33m=\u001b[0m \u001b[0mreshape\u001b[0m\u001b[1;33m(\u001b[0m\u001b[0mtest_images\u001b[0m\u001b[1;33m[\u001b[0m\u001b[1;33m:\u001b[0m\u001b[1;33m,\u001b[0m\u001b[1;36m1\u001b[0m\u001b[1;33m]\u001b[0m\u001b[1;33m)\u001b[0m\u001b[1;33m\u001b[0m\u001b[0m\n\u001b[0;32m      7\u001b[0m \u001b[0mtest_x1\u001b[0m \u001b[1;33m=\u001b[0m \u001b[0mbinarize\u001b[0m\u001b[1;33m(\u001b[0m\u001b[0mtest_x0\u001b[0m\u001b[1;33m,\u001b[0m \u001b[1;36m100\u001b[0m\u001b[1;33m)\u001b[0m\u001b[1;33m\u001b[0m\u001b[0m\n",
      "\u001b[1;31mTypeError\u001b[0m: crop() missing 1 required positional argument: 'dataset'"
     ]
    }
   ],
   "source": [
    "# preprocess datasets of images\n",
    "train_x0 = reshape(train_images[:,1])\n",
    "train_x1 = binarize(train_x0, 100)\n",
    "train_x2 = denoise(train_x1, 8)\n",
    "train_x = crop(train_x2)\n",
    "test_x0 = reshape(test_images[:,1])\n",
    "test_x1 = binarize(test_x0, 100)\n",
    "test_x2 = denoise(test_x1, 8)\n",
    "test_x = crop(test_x2)"
   ]
  },
  {
   "cell_type": "code",
   "execution_count": null,
   "metadata": {
    "collapsed": true
   },
   "outputs": [],
   "source": [
    "# check preprocessing results\n",
    "results(train_x0, train_x1, train_x2, train_x, train_labels, 12)"
   ]
  },
  {
   "cell_type": "code",
   "execution_count": null,
   "metadata": {
    "collapsed": true
   },
   "outputs": [],
   "source": [
    "# save preprocessed images\n",
    "np.save(\"datasets/preprocessed_train_images.npy\", prepareToSaveNPY(unravel(train_x)))\n",
    "np.save(\"datasets/preprocessed_test_images.npy\", prepareToSaveNPY(unravel(test_x)))"
   ]
  },
  {
   "cell_type": "code",
   "execution_count": null,
   "metadata": {
    "collapsed": true
   },
   "outputs": [],
   "source": []
  },
  {
   "cell_type": "code",
   "execution_count": null,
   "metadata": {
    "collapsed": true
   },
   "outputs": [],
   "source": []
  },
  {
   "cell_type": "code",
   "execution_count": null,
   "metadata": {},
   "outputs": [],
   "source": [
    "# check preprocessing results\n",
    "plot = [67,150,250,350,450,650,750,850,950,1050,1150,1250]\n",
    "fig = plt.figure(figsize = (18,12))\n",
    "for i in range(len(plot)):\n",
    "    img = train_x[plot[i]]\n",
    "    label = train_labels[plot[i]]\n",
    "    subplot = fig.add_subplot(3,2,i+1)\n",
    "    subplot.imshow(img, cmap ='gray_r')\n",
    "    plt.title(label)\n",
    "    subplot.axes.get_xaxis().set_visible(False)\n",
    "    subplot.axes.get_yaxis().set_visible(False)\n",
    "plt.show()"
   ]
  },
  {
   "cell_type": "code",
   "execution_count": null,
   "metadata": {
    "collapsed": true
   },
   "outputs": [],
   "source": [
    "def results(original, binarized, denoised, cropped, size):\n",
    "    '''Check preprocessing results\n",
    "    :param num: number of randomly selected images to compare preprocessing results\n",
    "    '''\n",
    "    \n",
    "    plot = np.random.randint(0,10000,size)\n",
    "    fig = plt.figure(figsize = (18,12))\n",
    "    for i in range(len(plot)):\n",
    "        img = train_x[plot[i]]\n",
    "        pre_img = pretrain_x[plot[i]]\n",
    "\n",
    "        label = train_labels[plot[i]]\n",
    "\n",
    "        subplot = fig.add_subplot(size,2,2*i+1,title=label)\n",
    "        subplot.imshow(img, cmap ='gray_r')\n",
    "        subplot.axes.get_xaxis().set_visible(False)\n",
    "        subplot.axes.get_yaxis().set_visible(False)\n",
    "\n",
    "        subplot = fig.add_subplot(size,2,2*(i+1),title=label)\n",
    "        subplot.imshow(pre_img,cmap='gray_r')\n",
    "        subplot.axes.get_xaxis().set_visible(False)\n",
    "        subplot.axes.get_yaxis().set_visible(False)\n",
    "\n",
    "    plt.show()"
   ]
  },
  {
   "cell_type": "code",
   "execution_count": null,
   "metadata": {},
   "outputs": [],
   "source": []
  },
  {
   "cell_type": "code",
   "execution_count": null,
   "metadata": {
    "collapsed": true
   },
   "outputs": [],
   "source": []
  }
 ],
 "metadata": {
  "kernelspec": {
   "display_name": "Python 3",
   "language": "python",
   "name": "python3"
  },
  "language_info": {
   "codemirror_mode": {
    "name": "ipython",
    "version": 3
   },
   "file_extension": ".py",
   "mimetype": "text/x-python",
   "name": "python",
   "nbconvert_exporter": "python",
   "pygments_lexer": "ipython3",
   "version": "3.6.1"
  }
 },
 "nbformat": 4,
 "nbformat_minor": 2
}
