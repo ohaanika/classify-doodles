{
 "cells": [
  {
   "cell_type": "code",
   "execution_count": 14,
   "metadata": {},
   "outputs": [],
   "source": [
    "from sklearn.model_selection import GridSearchCV\n",
    "from sklearn.svm import LinearSVC\n",
    "import numpy as np\n",
    "from pandas import read_csv"
   ]
  },
  {
   "cell_type": "code",
   "execution_count": 10,
   "metadata": {},
   "outputs": [],
   "source": [
    "TRAIN_DIR = '../datasets/train_images.npy'\n",
    "TRAIN_LABEL_DIR = '../datasets/train_labels.csv'\n",
    "TEST_DIR = '../datasets/test_images.npy'\n",
    "TRAIN_DIR_PRE = '../datasets/train_images_cropped.npy'\n",
    "TEST_DIR_PRE = '../datasets/test_images_cropped.npy'"
   ]
  },
  {
   "cell_type": "code",
   "execution_count": 15,
   "metadata": {},
   "outputs": [],
   "source": [
    "train_images = np.load(TRAIN_DIR_PRE, encoding=\"latin1\")\n",
    "test_images = np.load(TEST_DIR_PRE, encoding=\"latin1\")\n",
    "train_labels = np.array(read_csv(TRAIN_LABEL_DIR, delimiter=\",\"))"
   ]
  },
  {
   "cell_type": "code",
   "execution_count": 40,
   "metadata": {},
   "outputs": [],
   "source": [
    "def svm_linear_tuning(X,Y,param,verbose=0):\n",
    "    \n",
    "    grid_search_clf = GridSearchCV(LinearSVC(),param,cv = 3,verbose=verbose,scoring = 'f1_micro',return_train_score=True)\n",
    "    grid_search_clf.fit(X, Y)\n",
    "    return grid_search_clf"
   ]
  },
  {
   "cell_type": "code",
   "execution_count": 23,
   "metadata": {},
   "outputs": [],
   "source": [
    "train_X = train_images[:,1]\n",
    "train_Y = train_labels[:,1]"
   ]
  },
  {
   "cell_type": "code",
   "execution_count": 41,
   "metadata": {},
   "outputs": [
    {
     "name": "stdout",
     "output_type": "stream",
     "text": [
      "Fitting 3 folds for each of 5 candidates, totalling 15 fits\n",
      "[CV] C=1e-08 .........................................................\n",
      "[CV] .......................................... C=1e-08, total=  10.6s\n",
      "[CV] C=1e-08 .........................................................\n"
     ]
    },
    {
     "name": "stderr",
     "output_type": "stream",
     "text": [
      "[Parallel(n_jobs=1)]: Done   1 out of   1 | elapsed:   11.1s remaining:    0.0s\n"
     ]
    },
    {
     "name": "stdout",
     "output_type": "stream",
     "text": [
      "[CV] .......................................... C=1e-08, total=  10.8s\n",
      "[CV] C=1e-08 .........................................................\n",
      "[CV] .......................................... C=1e-08, total=  10.7s\n",
      "[CV] C=0.5000000075000001 ............................................\n",
      "[CV] ............................. C=0.5000000075000001, total= 1.6min\n",
      "[CV] C=0.5000000075000001 ............................................\n",
      "[CV] ............................. C=0.5000000075000001, total= 1.7min\n",
      "[CV] C=0.5000000075000001 ............................................\n",
      "[CV] ............................. C=0.5000000075000001, total= 1.7min\n",
      "[CV] C=1.000000005 ...................................................\n",
      "[CV] .................................... C=1.000000005, total= 1.6min\n",
      "[CV] C=1.000000005 ...................................................\n",
      "[CV] .................................... C=1.000000005, total= 1.7min\n",
      "[CV] C=1.000000005 ...................................................\n",
      "[CV] .................................... C=1.000000005, total= 1.7min\n",
      "[CV] C=1.5000000025 ..................................................\n",
      "[CV] ................................... C=1.5000000025, total= 1.6min\n",
      "[CV] C=1.5000000025 ..................................................\n",
      "[CV] ................................... C=1.5000000025, total= 1.7min\n",
      "[CV] C=1.5000000025 ..................................................\n",
      "[CV] ................................... C=1.5000000025, total= 1.7min\n",
      "[CV] C=2.0 ...........................................................\n",
      "[CV] ............................................ C=2.0, total= 1.6min\n",
      "[CV] C=2.0 ...........................................................\n",
      "[CV] ............................................ C=2.0, total= 1.7min\n",
      "[CV] C=2.0 ...........................................................\n",
      "[CV] ............................................ C=2.0, total= 1.7min\n"
     ]
    },
    {
     "name": "stderr",
     "output_type": "stream",
     "text": [
      "[Parallel(n_jobs=1)]: Done  15 out of  15 | elapsed: 20.6min finished\n"
     ]
    }
   ],
   "source": [
    "svm_param = {'C' : np.linspace(0.00000001,2,5,endpoint=True)}\n",
    "SVM = svm_linear_tuning(list(train_X),train_Y,svm_param,verbose=2)"
   ]
  },
  {
   "cell_type": "code",
   "execution_count": 48,
   "metadata": {},
   "outputs": [],
   "source": [
    "with open('../models/svm_best_param.txt','w') as f:\n",
    "    f.write(str(SVM.best_estimator_))"
   ]
  },
  {
   "cell_type": "code",
   "execution_count": 43,
   "metadata": {},
   "outputs": [
    {
     "data": {
      "text/plain": [
       "{'C': 1e-08}"
      ]
     },
     "execution_count": 43,
     "metadata": {},
     "output_type": "execute_result"
    }
   ],
   "source": [
    "SVM.best_params_"
   ]
  },
  {
   "cell_type": "code",
   "execution_count": null,
   "metadata": {},
   "outputs": [],
   "source": []
  }
 ],
 "metadata": {
  "kernelspec": {
   "display_name": "Environment (conda_tensorflow_p36)",
   "language": "python",
   "name": "conda_tensorflow_p36"
  },
  "language_info": {
   "codemirror_mode": {
    "name": "ipython",
    "version": 3
   },
   "file_extension": ".py",
   "mimetype": "text/x-python",
   "name": "python",
   "nbconvert_exporter": "python",
   "pygments_lexer": "ipython3",
   "version": "3.6.5"
  }
 },
 "nbformat": 4,
 "nbformat_minor": 2
}
