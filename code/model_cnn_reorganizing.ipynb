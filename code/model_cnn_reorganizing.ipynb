{
 "cells": [
  {
   "cell_type": "code",
   "execution_count": 1,
   "metadata": {},
   "outputs": [],
   "source": [
    "# import necessary libraries\n",
    "import os\n",
    "import csv\n",
    "import pandas as pd\n",
    "import numpy as np\n",
    "import matplotlib.pyplot as plt\n",
    "from tqdm import tqdm\n",
    "import pprint\n",
    "import cv2"
   ]
  },
  {
   "cell_type": "code",
   "execution_count": 2,
   "metadata": {},
   "outputs": [
    {
     "name": "stderr",
     "output_type": "stream",
     "text": [
      "Using TensorFlow backend.\n"
     ]
    }
   ],
   "source": [
    "from sklearn import preprocessing\n",
    "from sklearn.model_selection import GridSearchCV\n",
    "from sklearn.metrics import accuracy_score\n",
    "\n",
    "import tensorflow as tf\n",
    "import tflearn\n",
    "from tflearn.layers.conv import conv_2d, max_pool_2d\n",
    "from tflearn.layers.core import input_data, dropout, fully_connected\n",
    "from tflearn.layers.estimator import regression\n",
    "\n",
    "from keras.models import Sequential\n",
    "from keras.layers import Dense, Dropout, Conv2D, MaxPooling2D, Flatten\n",
    "from keras.optimizers import *\n",
    "from keras.wrappers.scikit_learn import KerasClassifier"
   ]
  },
  {
   "cell_type": "code",
   "execution_count": 3,
   "metadata": {},
   "outputs": [],
   "source": [
    "# note filepaths\n",
    "PATH_TRAIN_LABELS = '../datasets/train_labels.csv'\n",
    "PATH_TRAIN_RAW = '../datasets/train_images.npy'\n",
    "PATH_TEST_RAW = '../datasets/test_images.npy'\n",
    "PATH_TRAIN = '../datasets/train_images_cropped.npy'\n",
    "PATH_TEST = '../datasets/test_images_cropped.npy'"
   ]
  },
  {
   "cell_type": "code",
   "execution_count": null,
   "metadata": {},
   "outputs": [],
   "source": [
    "# import datasets \n",
    "train_labels = np.array(pd.read_csv(PATH_TRAIN_LABELS, delimiter=\",\", header=0, index_col=0))\n",
    "train_images = np.load(PATH_TRAIN, encoding=\"latin1\")\n",
    "test_images = np.load(PATH_TEST, encoding=\"latin1\")"
   ]
  },
  {
   "cell_type": "code",
   "execution_count": 4,
   "metadata": {},
   "outputs": [],
   "source": [
    "# note constants\n",
    "IMG_SIZE = 100\n",
    "LR = 1e-3"
   ]
  },
  {
   "cell_type": "code",
   "execution_count": 5,
   "metadata": {},
   "outputs": [
    {
     "name": "stdout",
     "output_type": "stream",
     "text": [
      "['apple', 'empty', 'moustache', 'mouth', 'mug', 'nail', 'nose', 'octagon', 'paintbrush', 'panda', 'parrot', 'peanut', 'pear', 'pencil', 'penguin', 'pillow', 'pineapple', 'pool', 'rabbit', 'rhinoceros', 'rifle', 'rollerskates', 'sailboat', 'scorpion', 'screwdriver', 'shovel', 'sink', 'skateboard', 'skull', 'spoon', 'squiggle']\n",
      "\n",
      "{0: 'apple', 1: 'empty', 2: 'moustache', 3: 'mouth', 4: 'mug', 5: 'nail', 6: 'nose', 7: 'octagon', 8: 'paintbrush', 9: 'panda', 10: 'parrot', 11: 'peanut', 12: 'pear', 13: 'pencil', 14: 'penguin', 15: 'pillow', 16: 'pineapple', 17: 'pool', 18: 'rabbit', 19: 'rhinoceros', 20: 'rifle', 21: 'rollerskates', 22: 'sailboat', 23: 'scorpion', 24: 'screwdriver', 25: 'shovel', 26: 'sink', 27: 'skateboard', 28: 'skull', 29: 'spoon', 30: 'squiggle'}\n",
      "\n",
      "['apple' 'empty' 'moustache' 'mouth' 'mug' 'nail' 'nose' 'octagon'\n",
      " 'paintbrush' 'panda' 'parrot' 'peanut' 'pear' 'pencil' 'penguin' 'pillow'\n",
      " 'pineapple' 'pool' 'rabbit' 'rhinoceros' 'rifle' 'rollerskates'\n",
      " 'sailboat' 'scorpion' 'screwdriver' 'shovel' 'sink' 'skateboard' 'skull'\n",
      " 'spoon' 'squiggle']\n"
     ]
    }
   ],
   "source": [
    "# define labels\n",
    "cat0 = sorted(['sink','pear','moustache','nose','skateboard','penguin','peanut','skull','panda',\n",
    "        'paintbrush','nail','apple','rifle','mug','sailboat','pineapple','spoon','rabbit',\n",
    "        'shovel','rollerskates','screwdriver','scorpion','rhinoceros','pool','octagon',\n",
    "        'pillow','parrot','squiggle','mouth','empty','pencil'])\n",
    "cat1 = {i: cat0[i] for i in range(len(cat0))}\n",
    "lb = preprocessing.LabelBinarizer()\n",
    "lb.fit(cat0)\n",
    "\n",
    "# check labels\n",
    "print(cat0)\n",
    "print()\n",
    "print(cat1)\n",
    "print()\n",
    "print(lb.classes_)"
   ]
  },
  {
   "cell_type": "code",
   "execution_count": null,
   "metadata": {},
   "outputs": [],
   "source": []
  },
  {
   "cell_type": "code",
   "execution_count": null,
   "metadata": {},
   "outputs": [],
   "source": []
  }
 ],
 "metadata": {
  "kernelspec": {
   "display_name": "Environment (conda_tensorflow_p36)",
   "language": "python",
   "name": "conda_tensorflow_p36"
  },
  "language_info": {
   "codemirror_mode": {
    "name": "ipython",
    "version": 3
   },
   "file_extension": ".py",
   "mimetype": "text/x-python",
   "name": "python",
   "nbconvert_exporter": "python",
   "pygments_lexer": "ipython3",
   "version": "3.6.5"
  }
 },
 "nbformat": 4,
 "nbformat_minor": 2
}
