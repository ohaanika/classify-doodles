{
 "cells": [
  {
   "cell_type": "code",
   "execution_count": 1,
   "metadata": {
    "colab": {},
    "colab_type": "code",
    "collapsed": true,
    "id": "2cG_17Tgkw-u"
   },
   "outputs": [],
   "source": [
    "# import necessary libraries\n",
    "import os\n",
    "import numpy as np\n",
    "import pandas as pd\n",
    "import csv\n",
    "import matplotlib.pyplot as plt\n",
    "import requests\n",
    "from io import StringIO\n",
    "import cv2\n",
    "# preprocessing\n",
    "from sklearn import preprocessing\n",
    "from sklearn.model_selection import train_test_split"
   ]
  },
  {
   "cell_type": "code",
   "execution_count": 2,
   "metadata": {
    "colab": {},
    "colab_type": "code",
    "collapsed": true,
    "id": "96MP5IhOkw-z"
   },
   "outputs": [],
   "source": [
    "# import datasets \n",
    "train_labels = pd.read_csv(\"datasets/train_labels.csv\", delimiter=\",\", header=0, index_col=0)\n",
    "train_images = np.load(\"datasets/train_images.npy\", encoding=\"latin1\")\n",
    "test_images = np.load(\"datasets/train_images.npy\", encoding=\"latin1\")"
   ]
  },
  {
   "cell_type": "code",
   "execution_count": 3,
   "metadata": {
    "colab": {},
    "colab_type": "code",
    "collapsed": true,
    "id": "CK6kKKp6kw-2"
   },
   "outputs": [],
   "source": [
    "# store copies, may wish to retrieve original datasets\n",
    "copy_train_labels = np.copy(train_labels)\n",
    "copy_train_images = np.copy(train_images)\n",
    "copy_test_images = np.copy(test_images)\n",
    " \n",
    "# restore original datasets\n",
    "def restore():\n",
    "    train_labels = np.copy(copy_train_labels)\n",
    "    train_images = np.copy(copy_train_images)\n",
    "    test_images = np.copy(copy_test_images)\n",
    "    return train_labels, train_images, test_images"
   ]
  },
  {
   "cell_type": "code",
   "execution_count": 4,
   "metadata": {
    "colab": {
     "base_uri": "https://localhost:8080/",
     "height": 68
    },
    "colab_type": "code",
    "id": "iDuZqErakw-4",
    "outputId": "c0937375-b61a-4388-b6ad-7f4d9c2b2ab7"
   },
   "outputs": [
    {
     "name": "stdout",
     "output_type": "stream",
     "text": [
      "(10000, 1)\n",
      "(10000, 2)\n",
      "(10000, 2)\n"
     ]
    }
   ],
   "source": [
    "# check shape\n",
    "print(train_labels.shape)\n",
    "print(train_images.shape)\n",
    "print(test_images.shape)"
   ]
  },
  {
   "cell_type": "code",
   "execution_count": 5,
   "metadata": {
    "colab": {},
    "colab_type": "code",
    "collapsed": true,
    "id": "bKG9UmRqkw-9"
   },
   "outputs": [],
   "source": [
    "# RUN FROM FROM HERE IF DATASETS NEED TO BE RESTORED\n",
    "train_labels, train_images, test_images = restore()"
   ]
  },
  {
   "cell_type": "code",
   "execution_count": 6,
   "metadata": {
    "colab": {},
    "colab_type": "code",
    "collapsed": true,
    "id": "wuvvlNNikw-_"
   },
   "outputs": [],
   "source": [
    "# reshape labels to 1d array, encode labels to integers\n",
    "train_labels = np.array(train_labels).reshape(-1)\n",
    "le = preprocessing.LabelEncoder()\n",
    "le.fit(train_labels)\n",
    "train_y = le.transform(train_labels)"
   ]
  },
  {
   "cell_type": "code",
   "execution_count": 7,
   "metadata": {
    "colab": {
     "base_uri": "https://localhost:8080/",
     "height": 51
    },
    "colab_type": "code",
    "id": "dYuAZTo1kw_B",
    "outputId": "214104e0-c1f5-4e1c-9d19-8ec054845e89"
   },
   "outputs": [
    {
     "name": "stdout",
     "output_type": "stream",
     "text": [
      "['shovel' 'rifle' 'scorpion' ..., 'rollerskates' 'mouth' 'pencil']\n",
      "[25 20 23 ..., 21  3 13]\n"
     ]
    }
   ],
   "source": [
    "# check labels\n",
    "print(train_labels)\n",
    "print(train_y)"
   ]
  },
  {
   "cell_type": "code",
   "execution_count": 8,
   "metadata": {
    "colab": {},
    "colab_type": "code",
    "collapsed": true,
    "id": "gIjduGfHkw_G"
   },
   "outputs": [],
   "source": [
    "# reshape images\n",
    "train_x = []\n",
    "for i in train_images[:,1]:\n",
    "    train_x.append(i.reshape(100,100))\n",
    "train_x = np.array(train_x, dtype=float) "
   ]
  },
  {
   "cell_type": "code",
   "execution_count": 9,
   "metadata": {
    "colab": {
     "base_uri": "https://localhost:8080/",
     "height": 34
    },
    "colab_type": "code",
    "id": "3L8rkq-7kw_I",
    "outputId": "fd07616b-81e8-4375-8215-fdb393679b54"
   },
   "outputs": [
    {
     "name": "stdout",
     "output_type": "stream",
     "text": [
      "(10000, 100, 100)\n"
     ]
    }
   ],
   "source": [
    "# check shape\n",
    "print(train_x.shape)"
   ]
  },
  {
   "cell_type": "markdown",
   "metadata": {
    "colab_type": "text",
    "id": "1kxM1cf3kw_L"
   },
   "source": [
    "# Noise Reduction"
   ]
  },
  {
   "cell_type": "code",
   "execution_count": 10,
   "metadata": {
    "colab": {
     "base_uri": "https://localhost:8080/",
     "height": 34
    },
    "colab_type": "code",
    "collapsed": true,
    "id": "TqOxJo30kw_L",
    "outputId": "9bc17c18-db17-48f5-a52a-c7bd62a1437b"
   },
   "outputs": [],
   "source": [
    "def preprocessing0(dataset):\n",
    "    output = []\n",
    "    for i in range(len(dataset)):\n",
    "        temp = dataset[i]\n",
    "        temp[temp < 240] = 0\n",
    "        temp[temp >= 240] = 255\n",
    "        output.append(temp)\n",
    "    return np.array(output)"
   ]
  },
  {
   "cell_type": "code",
   "execution_count": 11,
   "metadata": {
    "colab": {},
    "colab_type": "code",
    "collapsed": true,
    "id": "oSl_2nbrkw_O"
   },
   "outputs": [],
   "source": [
    "p0_train_x = preprocessing0(train_x)"
   ]
  },
  {
   "cell_type": "code",
   "execution_count": 16,
   "metadata": {},
   "outputs": [
    {
     "name": "stdout",
     "output_type": "stream",
     "text": [
      "pineapple\n"
     ]
    },
    {
     "data": {
      "image/png": "[encoded data removed]",
      "text/plain": [
       "<matplotlib.figure.Figure at 0x22a61724e80>"
      ]
     },
     "metadata": {},
     "output_type": "display_data"
    }
   ],
   "source": [
    "print(train_labels[67])\n",
    "plt.imshow(train_x[67])\n",
    "plt.show()"
   ]
  },
  {
   "cell_type": "code",
   "execution_count": 24,
   "metadata": {},
   "outputs": [
    {
     "name": "stdout",
     "output_type": "stream",
     "text": [
      "paintbrush\n"
     ]
    },
    {
     "data": {
      "image/png": "[encoded data removed]",
      "text/plain": [
       "<matplotlib.figure.Figure at 0x22a616ed2e8>"
      ]
     },
     "metadata": {},
     "output_type": "display_data"
    }
   ],
   "source": [
    "print(train_labels[83])\n",
    "plt.imshow(p0_train_x[83], cmap='gray_r')\n",
    "plt.show()"
   ]
  },
  {
   "cell_type": "code",
   "execution_count": 17,
   "metadata": {
    "collapsed": true
   },
   "outputs": [],
   "source": [
    "def preprocessing1a(dataset):\n",
    "    output = []\n",
    "    for j in range(len(dataset)):\n",
    "        thresh = cv2.threshold(dataset[j], 240, 255, cv2.THRESH_BINARY)[1]\n",
    "        img, cnts, heir = cv2.findContours(thresh.astype(np.uint8), cv2.RETR_TREE, cv2.CHAIN_APPROX_SIMPLE)\n",
    "        area_list = []\n",
    "        for c in cnts:\n",
    "            (x_i, y_i, w, h) = cv2.boundingRect(c)\n",
    "            temp_roi = thresh[y_i:(y_i+h), x_i:(x_i+w)]\n",
    "            squareDim = np.max(temp_roi.shape)\n",
    "            area_list.append(squareDim**2)\n",
    "        idx = area_list.index(max(area_list)) \n",
    "        (x_i, y_i, w, h) = cv2.boundingRect(cnts[idx])\n",
    "        new_roi = thresh[y_i:(y_i+h), x_i:(x_i+w)]\n",
    "        temp = dataset[j] \n",
    "        temp[temp > -1] = 0  \n",
    "        temp[((100-new_roi.shape[0])//2):(((100-new_roi.shape[0])//2)+new_roi.shape[0]), ((100-new_roi.shape[1])//2):(((100-new_roi.shape[1])//2)+new_roi.shape[1])] = new_roi\n",
    "        output.append(temp)\n",
    "    return output"
   ]
  },
  {
   "cell_type": "code",
   "execution_count": 18,
   "metadata": {
    "colab": {
     "base_uri": "https://localhost:8080/",
     "height": 400
    },
    "colab_type": "code",
    "collapsed": true,
    "id": "BQw4ESLskw_R",
    "outputId": "b099ee7a-8cf2-4c3d-8f33-1d4f074d65f7"
   },
   "outputs": [],
   "source": [
    "p1a_train_x = preprocessing1a(train_x)"
   ]
  },
  {
   "cell_type": "code",
   "execution_count": 19,
   "metadata": {
    "colab": {},
    "colab_type": "code",
    "id": "tzRu621olxmc"
   },
   "outputs": [
    {
     "name": "stdout",
     "output_type": "stream",
     "text": [
      "pineapple\n"
     ]
    },
    {
     "data": {
      "image/png": "[encoded data removed]",
      "text/plain": [
       "<matplotlib.figure.Figure at 0x22a61916ba8>"
      ]
     },
     "metadata": {},
     "output_type": "display_data"
    }
   ],
   "source": [
    "print(train_labels[67])\n",
    "plt.imshow(p1a_train_x[67], cmap='gray_r')\n",
    "plt.show()"
   ]
  },
  {
   "cell_type": "code",
   "execution_count": null,
   "metadata": {
    "colab": {},
    "colab_type": "code",
    "collapsed": true,
    "id": "0nsvRGygnSzy"
   },
   "outputs": [],
   "source": [
    "def preprocessing1b(dataset):\n",
    "    output = []\n",
    "    for j in range(len(dataset)):\n",
    "        thresh = cv2.threshold(dataset[j], 240, 255, cv2.THRESH_BINARY)[1]\n",
    "        img, cnts, heir = cv2.findContours(thresh.astype(np.uint8), cv2.RETR_TREE, cv2.CHAIN_APPROX_SIMPLE)\n",
    "        area_list = []\n",
    "        for c in cnts:\n",
    "            (x_i, y_i, w, h) = cv2.boundingRect(c)\n",
    "            temp_roi = thresh[y_i:(y_i+h), x_i:(x_i+w)]\n",
    "            squareDim = np.max(temp_roi.shape)\n",
    "            area_list.append(squareDim**2)\n",
    "        idx = area_list.index(max(area_list)) \n",
    "        ii = np.where(area_list == max(area_list))[0]\n",
    "        if len(ii) > 1:\n",
    "            smallestContourArea = cv2.boundingRect(cnts[ii[0]])\n",
    "            sca_idx = ii[0]\n",
    "            for i in range(1,len(ii)):\n",
    "                if smallestContourArea > cv2.boundingRect(cnts[ii[i]]):\n",
    "                    smallestContourArea = cv2.boundingRect(cnts[ii[i]])\n",
    "                    sca_idx = ii[i]\n",
    "            idx = sca_idx\n",
    "        (x_i, y_i, w, h) = cv2.boundingRect(cnts[idx])\n",
    "        new_roi = thresh[y_i:(y_i+h), x_i:(x_i+w)]\n",
    "        temp = dataset[j] \n",
    "        temp[temp > -1] = 0  \n",
    "        temp[((100-new_roi.shape[0])//2):(((100-new_roi.shape[0])//2)+new_roi.shape[0]), ((100-new_roi.shape[1])//2):(((100-new_roi.shape[1])//2)+new_roi.shape[1])] = new_roi\n",
    "        output.append(temp)\n",
    "    return output"
   ]
  },
  {
   "cell_type": "code",
   "execution_count": null,
   "metadata": {
    "colab": {},
    "colab_type": "code",
    "collapsed": true,
    "id": "nnI-_y8pm_74"
   },
   "outputs": [],
   "source": [
    "p1b_train_x = preprocessing1b(train_x)"
   ]
  },
  {
   "cell_type": "code",
   "execution_count": null,
   "metadata": {
    "colab": {
     "base_uri": "https://localhost:8080/",
     "height": 34
    },
    "colab_type": "code",
    "collapsed": true,
    "id": "36kuTPRjnHZ5",
    "outputId": "f5808a38-dd9c-4b38-ee35-06e05adaa202"
   },
   "outputs": [],
   "source": [
    "print(train_labels[67])\n",
    "plt.imshow(p1b_train_x[67], cmap='gray_r')\n",
    "plt.show()"
   ]
  },
  {
   "cell_type": "code",
   "execution_count": null,
   "metadata": {
    "colab": {
     "base_uri": "https://localhost:8080/",
     "height": 306
    },
    "colab_type": "code",
    "collapsed": true,
    "id": "YriC-2V5kw_U",
    "outputId": "5051510e-a777-42cb-ddb5-470b5f7f60e4"
   },
   "outputs": [],
   "source": [
    "def deskew(img):\n",
    "    SZ=100\n",
    "    affine_flags = cv2.WARP_INVERSE_MAP|cv2.INTER_LINEAR\n",
    "    m = cv2.moments(img)\n",
    "    if abs(m['mu02']) < 1e-2:\n",
    "        return img.copy()\n",
    "    skew = m['mu11']/m['mu02']\n",
    "    M = np.float32([[1, skew, -0.5*SZ*skew], [0, 1, 0]])\n",
    "    img = cv2.warpAffine(img,M,(SZ, SZ),flags=affine_flags)\n",
    "    return img"
   ]
  },
  {
   "cell_type": "code",
   "execution_count": null,
   "metadata": {
    "colab": {},
    "colab_type": "code",
    "collapsed": true,
    "id": "sbT5bCOGoTFu"
   },
   "outputs": [],
   "source": [
    "def preprocessing2a(dataset):\n",
    "    output = []\n",
    "    for j in range(len(dataset)):\n",
    "        thresh = cv2.threshold(dataset[j], 251, 255, cv2.THRESH_BINARY)[1]\n",
    "        img, cnts, heir = cv2.findContours(thresh.astype(np.uint8), cv2.RETR_TREE, cv2.CHAIN_APPROX_SIMPLE)\n",
    "        area_list = []\n",
    "        for c in cnts:\n",
    "            (x_i, y_i, w, h) = cv2.boundingRect(c)\n",
    "            temp_roi = thresh[y_i:(y_i+h), x_i:(x_i+w)]\n",
    "            squareDim = np.max(temp_roi.shape)\n",
    "            area_list.append(squareDim**2)\n",
    "        idx = area_list.index(max(area_list)) \n",
    "        ii = np.where(area_list == max(area_list))[0]\n",
    "        if len(ii) > 1:\n",
    "            smallestContourArea = cv2.boundingRect(cnts[ii[0]])\n",
    "            sca_idx = ii[0]\n",
    "            for i in range(1,len(ii)):\n",
    "                if smallestContourArea > cv2.boundingRect(cnts[ii[i]]):\n",
    "                    smallestContourArea = cv2.boundingRect(cnts[ii[i]])\n",
    "                    sca_idx = ii[i]\n",
    "            idx = sca_idx\n",
    "        (x_i, y_i, w, h) = cv2.boundingRect(cnts[idx])\n",
    "        new_roi = thresh[y_i:(y_i+h), x_i:(x_i+w)]\n",
    "        temp = dataset[j] \n",
    "        temp[temp > -1] = 0  \n",
    "        temp[((100-new_roi.shape[0])//2):(((100-new_roi.shape[0])//2)+new_roi.shape[0]), ((100-new_roi.shape[1])//2):(((100-new_roi.shape[1])//2)+new_roi.shape[1])] = new_roi\n",
    "        coords = np.column_stack(np.where(temp > 0))\n",
    "        angle = cv2.minAreaRect(coords)[-1]\n",
    "        if angle < -45:\n",
    "            angle = -(90 + angle)\n",
    "        else:\n",
    "            angle = -angle\n",
    "        # rotate the image to deskew it\n",
    "        (h, w) = temp.shape[:2]\n",
    "        center = (w // 2, h // 2)\n",
    "        M = cv2.getRotationMatrix2D(center, angle, 1.0)\n",
    "        rotated = cv2.warpAffine(temp, M, (w, h), flags=cv2.INTER_CUBIC, borderMode=cv2.BORDER_REPLICATE)\n",
    "        final = deskew(rotated)\n",
    "        output.append(final)\n",
    "    return output"
   ]
  },
  {
   "cell_type": "code",
   "execution_count": null,
   "metadata": {
    "colab": {},
    "colab_type": "code",
    "collapsed": true,
    "id": "uyk-xz7alV7a"
   },
   "outputs": [],
   "source": [
    "p2a_train_x = preprocessing2a(train_x)"
   ]
  },
  {
   "cell_type": "code",
   "execution_count": null,
   "metadata": {
    "collapsed": true
   },
   "outputs": [],
   "source": [
    "print(train_labels[67])\n",
    "plt.imshow(p2a_train_x[67], cmap='gray_r')\n",
    "plt.show()"
   ]
  },
  {
   "cell_type": "code",
   "execution_count": null,
   "metadata": {
    "collapsed": true
   },
   "outputs": [],
   "source": [
    "def preprocessing2b(dataset):\n",
    "    output = []\n",
    "    for j in range(len(dataset)):\n",
    "        thresh = cv2.threshold(dataset[j], 251, 255, cv2.THRESH_BINARY)[1]\n",
    "        img, cnts, heir = cv2.findContours(thresh.astype(np.uint8), cv2.RETR_TREE, cv2.CHAIN_APPROX_SIMPLE)\n",
    "        area_list = []\n",
    "        for c in cnts:\n",
    "            (x_i, y_i, w, h) = cv2.boundingRect(c)\n",
    "            temp_roi = thresh[y_i:(y_i+h), x_i:(x_i+w)]\n",
    "            squareDim = np.max(temp_roi.shape)\n",
    "            area_list.append(squareDim**2)\n",
    "        idx = area_list.index(max(area_list)) \n",
    "        ii = np.where(area_list == max(area_list))[0]\n",
    "        if len(ii) > 1:\n",
    "            smallestContourArea = cv2.boundingRect(cnts[ii[0]])\n",
    "            sca_idx = ii[0]\n",
    "            for i in range(1,len(ii)):\n",
    "                if smallestContourArea > cv2.boundingRect(cnts[ii[i]]):\n",
    "                    smallestContourArea = cv2.boundingRect(cnts[ii[i]])\n",
    "                    sca_idx = ii[i]\n",
    "            idx = sca_idx\n",
    "        (x_i, y_i, w, h) = cv2.boundingRect(cnts[idx])\n",
    "        new_roi = thresh[y_i:(y_i+h), x_i:(x_i+w)]\n",
    "        temp = dataset[j] \n",
    "        temp[temp > -1] = 0  \n",
    "        temp[((100-new_roi.shape[0])//2):(((100-new_roi.shape[0])//2)+new_roi.shape[0]), ((100-new_roi.shape[1])//2):(((100-new_roi.shape[1])//2)+new_roi.shape[1])] = new_roi     \n",
    "        angles = np.linspace(-45, 45, num=91).astype(int)\n",
    "        rotate_area_list = [] \n",
    "        for i in range(len(angles)):\n",
    "            rotateTest = temp\n",
    "            (h, w) = rotateTest.shape[:2]\n",
    "            center = (w // 2, h // 2)\n",
    "            M = cv2.getRotationMatrix2D(center, angles[i], 1.0)\n",
    "            rotated = cv2.warpAffine(temp, M, (w, h), flags=cv2.INTER_CUBIC, borderMode=cv2.BORDER_REPLICATE)\n",
    "            img, cnts, heir = cv2.findContours(rotated.astype(np.uint8), cv2.RETR_TREE, cv2.CHAIN_APPROX_SIMPLE)\n",
    "            cnt_w = []\n",
    "            for c in cnts:\n",
    "                (x_i, y_i, w, h) = cv2.boundingRect(c)\n",
    "                cnt_w.append(w)\n",
    "            rotate_area_list.append(max(cnt_w))\n",
    "        rotate_idx = rotate_area_list.index(min(rotate_area_list))\n",
    "        (h, w) = temp.shape[:2]\n",
    "        center = (w // 2, h // 2)\n",
    "        M = cv2.getRotationMatrix2D(center, angles[rotate_idx], 1.0)\n",
    "        rotated = cv2.warpAffine(temp, M, (w, h), flags=cv2.INTER_CUBIC, borderMode=cv2.BORDER_REPLICATE)\n",
    "        final = deskew(rotated)\n",
    "        output.append(final)\n",
    "        #print(j)\n",
    "    return output"
   ]
  },
  {
   "cell_type": "code",
   "execution_count": null,
   "metadata": {
    "collapsed": true
   },
   "outputs": [],
   "source": [
    "p2b_train_x = preprocessing2b(train_x)"
   ]
  },
  {
   "cell_type": "code",
   "execution_count": null,
   "metadata": {
    "collapsed": true
   },
   "outputs": [],
   "source": [
    "print(train_labels[67])\n",
    "plt.imshow(p2b_train_x[67], cmap='gray_r')\n",
    "plt.show()"
   ]
  },
  {
   "cell_type": "code",
   "execution_count": null,
   "metadata": {
    "collapsed": true
   },
   "outputs": [],
   "source": [
    "def preprocessing2c(dataset):\n",
    "    output = []\n",
    "    for j in range(len(dataset)):\n",
    "        thresh = cv2.threshold(dataset[j], 251, 255, cv2.THRESH_BINARY)[1]\n",
    "        img, cnts, heir = cv2.findContours(thresh.astype(np.uint8), cv2.RETR_TREE, cv2.CHAIN_APPROX_SIMPLE)\n",
    "        area_list = []\n",
    "        #temp2 = dataset[j]\n",
    "        temp2 = np.zeros((100,100))\n",
    "        bestAng = []\n",
    "        for c in cnts:\n",
    "            (x_i, y_i, w, h) = cv2.boundingRect(c)\n",
    "            temp_roi = thresh[y_i:(y_i+h), x_i:(x_i+w)]\n",
    "            temp2[temp2 > -1] = 0 \n",
    "            temp2[((100-temp_roi.shape[0])//2):(((100-temp_roi.shape[0])//2)+temp_roi.shape[0]), ((100-temp_roi.shape[1])//2):(((100-temp_roi.shape[1])//2)+temp_roi.shape[1])] = temp_roi\n",
    "            angles = np.linspace(-45, 45, num=91).astype(int)\n",
    "            rotate_w, rotate_h = [], []\n",
    "            for i in range(len(angles)):\n",
    "                rotateTest = temp2\n",
    "                (h, w) = rotateTest.shape[:2]\n",
    "                center = (w // 2, h // 2)\n",
    "                M = cv2.getRotationMatrix2D(center, angles[i], 1.0)\n",
    "                rotated = cv2.warpAffine(rotateTest, M, (w, h), flags=cv2.INTER_CUBIC, borderMode=cv2.BORDER_REPLICATE)\n",
    "                img2, cnts2, heir2 = cv2.findContours(rotated.astype(np.uint8), cv2.RETR_TREE, cv2.CHAIN_APPROX_SIMPLE)\n",
    "                cnt_w = []\n",
    "                cnt_h = []\n",
    "                for c1 in cnts2:\n",
    "                    (x_i, y_i, w, h) = cv2.boundingRect(c1)\n",
    "                    cnt_w.append(w)\n",
    "                    cnt_h.append(h)\n",
    "                rotate_w.append(max(cnt_w))\n",
    "                rotate_h.append(cnt_h[cnt_w.index(max(cnt_w))])          \n",
    "            rotate_idx = rotate_w.index(min(rotate_w))\n",
    "            minW = rotate_w[rotate_idx]\n",
    "            hFromMinW = rotate_h[rotate_idx]\n",
    "            squareDim = max(minW, hFromMinW)\n",
    "            area_list.append(squareDim**2)\n",
    "            bestAng.append(angles[rotate_idx])\n",
    "        idx = area_list.index(max(area_list))\n",
    "        ii = np.where(area_list == max(area_list))[0]\n",
    "        (x_i, y_i, w, h) = cv2.boundingRect(cnts[idx])\n",
    "        new_roi = thresh[y_i:(y_i+h), x_i:(x_i+w)]\n",
    "        temp = np.zeros((100,100))\n",
    "        temp[temp > -1] = 0  \n",
    "        temp[((100-new_roi.shape[0])//2):(((100-new_roi.shape[0])//2)+new_roi.shape[0]), ((100-new_roi.shape[1])//2):(((100-new_roi.shape[1])//2)+new_roi.shape[1])] = new_roi\n",
    "        angles = np.linspace(-45, 45, num=91).astype(int)\n",
    "        rotate_area_list = []\n",
    "        (h, w) = temp.shape[:2]\n",
    "        center = (w // 2, h // 2)\n",
    "        M = cv2.getRotationMatrix2D(center, bestAng[idx], 1.0)\n",
    "        rotated = cv2.warpAffine(temp, M, (w, h), flags=cv2.INTER_CUBIC, borderMode=cv2.BORDER_REPLICATE)\n",
    "        final = deskew(rotated)\n",
    "        output.append(final)\n",
    "        print(j)\n",
    "    return output"
   ]
  },
  {
   "cell_type": "code",
   "execution_count": null,
   "metadata": {
    "collapsed": true
   },
   "outputs": [],
   "source": [
    "p2c_train_x = preprocessing2c(train_x)"
   ]
  },
  {
   "cell_type": "code",
   "execution_count": null,
   "metadata": {
    "collapsed": true
   },
   "outputs": [],
   "source": [
    "print(train_labels[67])\n",
    "plt.imshow(p2c_train_x[67], cmap='gray_r')\n",
    "plt.show()"
   ]
  },
  {
   "cell_type": "markdown",
   "metadata": {},
   "source": [
    "### ANOTHER ATTEMPT"
   ]
  },
  {
   "cell_type": "code",
   "execution_count": 12,
   "metadata": {
    "collapsed": true
   },
   "outputs": [],
   "source": [
    "from sklearn.preprocessing import StandardScaler\n",
    "from sklearn.decomposition import PCA\n",
    "from sklearn.preprocessing import MinMaxScaler\n",
    "from plotly.offline import download_plotlyjs, init_notebook_mode, plot, iplot\n",
    "from plotly.graph_objs import *"
   ]
  },
  {
   "cell_type": "code",
   "execution_count": 14,
   "metadata": {},
   "outputs": [
    {
     "ename": "MemoryError",
     "evalue": "",
     "output_type": "error",
     "traceback": [
      "\u001b[1;31m---------------------------------------------------------------------------\u001b[0m",
      "\u001b[1;31mMemoryError\u001b[0m                               Traceback (most recent call last)",
      "\u001b[1;32m<ipython-input-14-06a430eb4a19>\u001b[0m in \u001b[0;36m<module>\u001b[1;34m()\u001b[0m\n\u001b[0;32m      2\u001b[0m \u001b[0mtrain_x2\u001b[0m \u001b[1;33m=\u001b[0m \u001b[1;33m[\u001b[0m\u001b[1;33m]\u001b[0m\u001b[1;33m\u001b[0m\u001b[0m\n\u001b[0;32m      3\u001b[0m \u001b[1;32mfor\u001b[0m \u001b[0mi\u001b[0m \u001b[1;32min\u001b[0m \u001b[0mtrain_images\u001b[0m\u001b[1;33m[\u001b[0m\u001b[1;33m:\u001b[0m\u001b[1;33m,\u001b[0m\u001b[1;36m1\u001b[0m\u001b[1;33m]\u001b[0m\u001b[1;33m:\u001b[0m\u001b[1;33m\u001b[0m\u001b[0m\n\u001b[1;32m----> 4\u001b[1;33m     \u001b[0mtrain_x2\u001b[0m\u001b[1;33m.\u001b[0m\u001b[0mappend\u001b[0m\u001b[1;33m(\u001b[0m\u001b[0mnp\u001b[0m\u001b[1;33m.\u001b[0m\u001b[0marray\u001b[0m\u001b[1;33m(\u001b[0m\u001b[0mi\u001b[0m\u001b[1;33m)\u001b[0m\u001b[1;33m)\u001b[0m\u001b[1;33m\u001b[0m\u001b[0m\n\u001b[0m\u001b[0;32m      5\u001b[0m \u001b[0mtrain_x2\u001b[0m \u001b[1;33m=\u001b[0m \u001b[0mnp\u001b[0m\u001b[1;33m.\u001b[0m\u001b[0marray\u001b[0m\u001b[1;33m(\u001b[0m\u001b[0mtrain_x2\u001b[0m\u001b[1;33m,\u001b[0m \u001b[0mdtype\u001b[0m\u001b[1;33m=\u001b[0m\u001b[0mfloat\u001b[0m\u001b[1;33m)\u001b[0m\u001b[1;33m\u001b[0m\u001b[0m\n",
      "\u001b[1;31mMemoryError\u001b[0m: "
     ]
    }
   ],
   "source": [
    "# reshape train_x (10000*10000) i.e. 10000 rows with 10000 pixels each\n",
    "train_x2 = []\n",
    "for i in train_images[:,1]:\n",
    "    train_x2.append(np.array(i))\n",
    "train_x2 = np.array(train_x2, dtype=float)"
   ]
  },
  {
   "cell_type": "code",
   "execution_count": null,
   "metadata": {
    "collapsed": true
   },
   "outputs": [],
   "source": [
    "cov_mat = np.cov(train_x2.T)\n",
    "eig_vals, eig_vecs = np.linalg.eig(cov_mat)\n",
    "eig_pairs = [(np.abs(eig_vals[i]), eig_vecs[:,i]) for i in range(len(eig_vals))]\n",
    "eig_pairs.sort()\n",
    "eig_pairs.reverse()"
   ]
  }
 ],
 "metadata": {
  "colab": {
   "name": "final.ipynb",
   "provenance": [],
   "toc_visible": true,
   "version": "0.3.2"
  },
  "kernelspec": {
   "display_name": "Python 3",
   "language": "python",
   "name": "python3"
  },
  "language_info": {
   "codemirror_mode": {
    "name": "ipython",
    "version": 3
   },
   "file_extension": ".py",
   "mimetype": "text/x-python",
   "name": "python",
   "nbconvert_exporter": "python",
   "pygments_lexer": "ipython3",
   "version": "3.6.1"
  }
 },
 "nbformat": 4,
 "nbformat_minor": 1
}
