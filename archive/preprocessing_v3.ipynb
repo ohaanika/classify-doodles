{
 "cells": [
  {
   "cell_type": "code",
   "execution_count": null,
   "metadata": {
    "colab": {},
    "colab_type": "code",
    "collapsed": true,
    "id": "2cG_17Tgkw-u"
   },
   "outputs": [],
   "source": [
    "# import necessary libraries\n",
    "import os\n",
    "import numpy as np\n",
    "import pandas as pd\n",
    "import csv\n",
    "import matplotlib.pyplot as plt\n",
    "import cv2\n",
    "# preprocessing\n",
    "from sklearn import preprocessing\n",
    "from sklearn.model_selection import train_test_split"
   ]
  },
  {
   "cell_type": "code",
   "execution_count": null,
   "metadata": {
    "colab": {},
    "colab_type": "code",
    "collapsed": true,
    "id": "96MP5IhOkw-z"
   },
   "outputs": [],
   "source": [
    "# import datasets \n",
    "train_labels = pd.read_csv(\"datasets/train_labels.csv\", delimiter=\",\", header=0, index_col=0)\n",
    "train_images = np.load(\"datasets/train_images.npy\", encoding=\"latin1\")\n",
    "test_images = np.load(\"datasets/train_images.npy\", encoding=\"latin1\")"
   ]
  },
  {
   "cell_type": "code",
   "execution_count": null,
   "metadata": {
    "colab": {},
    "colab_type": "code",
    "collapsed": true,
    "id": "CK6kKKp6kw-2"
   },
   "outputs": [],
   "source": [
    "# store copies, may wish to retrieve original datasets\n",
    "copy_train_labels = np.copy(train_labels)\n",
    "copy_train_images = np.copy(train_images)\n",
    "copy_test_images = np.copy(test_images)\n",
    " \n",
    "# restore original datasets\n",
    "def restore():\n",
    "    train_labels = np.copy(copy_train_labels)\n",
    "    train_images = np.copy(copy_train_images)\n",
    "    test_images = np.copy(copy_test_images)\n",
    "    return train_labels, train_images, test_images"
   ]
  },
  {
   "cell_type": "code",
   "execution_count": null,
   "metadata": {
    "colab": {
     "base_uri": "https://localhost:8080/",
     "height": 68
    },
    "colab_type": "code",
    "id": "iDuZqErakw-4",
    "outputId": "c0937375-b61a-4388-b6ad-7f4d9c2b2ab7"
   },
   "outputs": [],
   "source": [
    "# check shape\n",
    "print(train_labels.shape)\n",
    "print(train_images.shape)\n",
    "print(test_images.shape)"
   ]
  },
  {
   "cell_type": "code",
   "execution_count": null,
   "metadata": {
    "colab": {},
    "colab_type": "code",
    "collapsed": true,
    "id": "bKG9UmRqkw-9"
   },
   "outputs": [],
   "source": [
    "# RUN FROM FROM HERE IF DATASETS NEED TO BE RESTORED\n",
    "train_labels, train_images, test_images = restore()"
   ]
  },
  {
   "cell_type": "code",
   "execution_count": null,
   "metadata": {
    "colab": {},
    "colab_type": "code",
    "collapsed": true,
    "id": "wuvvlNNikw-_"
   },
   "outputs": [],
   "source": [
    "# reshape labels to 1d array, encode labels to integers\n",
    "train_labels = np.array(train_labels).reshape(-1)\n",
    "le = preprocessing.LabelEncoder()\n",
    "le.fit(train_labels)\n",
    "train_y = le.transform(train_labels)"
   ]
  },
  {
   "cell_type": "code",
   "execution_count": null,
   "metadata": {
    "colab": {
     "base_uri": "https://localhost:8080/",
     "height": 51
    },
    "colab_type": "code",
    "id": "dYuAZTo1kw_B",
    "outputId": "214104e0-c1f5-4e1c-9d19-8ec054845e89"
   },
   "outputs": [],
   "source": [
    "# check labels\n",
    "print(train_labels)\n",
    "print(train_y)"
   ]
  },
  {
   "cell_type": "code",
   "execution_count": null,
   "metadata": {
    "colab": {},
    "colab_type": "code",
    "collapsed": true,
    "id": "gIjduGfHkw_G"
   },
   "outputs": [],
   "source": [
    "# reshape images\n",
    "train_x = []\n",
    "for i in train_images[:,1]:\n",
    "    train_x.append(i.reshape(100,100))\n",
    "train_x = np.array(train_x, dtype=float) "
   ]
  },
  {
   "cell_type": "code",
   "execution_count": null,
   "metadata": {
    "colab": {
     "base_uri": "https://localhost:8080/",
     "height": 34
    },
    "colab_type": "code",
    "id": "3L8rkq-7kw_I",
    "outputId": "fd07616b-81e8-4375-8215-fdb393679b54"
   },
   "outputs": [],
   "source": [
    "# check shape\n",
    "print(train_x.shape)"
   ]
  },
  {
   "cell_type": "markdown",
   "metadata": {
    "colab_type": "text",
    "id": "1kxM1cf3kw_L"
   },
   "source": [
    "# Noise Reduction"
   ]
  },
  {
   "cell_type": "code",
   "execution_count": null,
   "metadata": {
    "collapsed": true
   },
   "outputs": [],
   "source": [
    "from sklearn.preprocessing import StandardScaler\n",
    "from sklearn.decomposition import PCA\n",
    "from sklearn.preprocessing import MinMaxScaler\n",
    "from plotly.offline import download_plotlyjs, init_notebook_mode, plot, iplot\n",
    "from plotly.graph_objs import *"
   ]
  },
  {
   "cell_type": "code",
   "execution_count": null,
   "metadata": {
    "collapsed": true
   },
   "outputs": [],
   "source": [
    "# reshape train_x (10000*10000) i.e. 10000 rows with 10000 pixels each\n",
    "train_x2 = []\n",
    "for i in train_images[:,1][:5]:\n",
    "    train_x2.append(np.array(i))\n",
    "train_x2 = np.array(train_x2, dtype=float)"
   ]
  },
  {
   "cell_type": "code",
   "execution_count": null,
   "metadata": {
    "collapsed": true
   },
   "outputs": [],
   "source": [
    "cov_mat = np.cov(train_x2.T)\n",
    "eig_vals, eig_vecs = np.linalg.eig(cov_mat)\n",
    "eig_pairs = [(np.abs(eig_vals[i]), eig_vecs[:,i]) for i in range(len(eig_vals))]\n",
    "eig_pairs.sort()\n",
    "eig_pairs.reverse()"
   ]
  },
  {
   "cell_type": "code",
   "execution_count": null,
   "metadata": {
    "collapsed": true
   },
   "outputs": [],
   "source": [
    "init_notebook_mode(connected=True)\n",
    "tot = sum(eig_vals)\n",
    "var_exp = [(i / tot)*100 for i in sorted(eig_vals, reverse=True)]\n",
    "cum_var_exp = np.cumsum(var_exp)\n",
    "trace1 = Bar(\n",
    "        x=['PC %s' %i for i in range(1,4095)],\n",
    "        y=var_exp,\n",
    "        showlegend=False)\n",
    "trace2 = Scatter(\n",
    "        x=['PC %s' %i for i in range(1,4095)], \n",
    "        y=cum_var_exp,\n",
    "        name='cumulative explained variance')\n",
    "data = Data([trace1, trace2])\n",
    "layout=Layout(\n",
    "        yaxis=YAxis(title='Explained variance in percent'),\n",
    "        title='Explained variance by different principal components')\n",
    "fig = Figure(data=data, layout=layout)\n",
    "iplot(fig)"
   ]
  },
  {
   "cell_type": "code",
   "execution_count": null,
   "metadata": {
    "collapsed": true
   },
   "outputs": [],
   "source": [
    "scaler = MinMaxScaler()  # Default behavior is to scale to [0,1]\n",
    "norm_train_x2 = scaler.fit_transform(train_x2) #Normalize train_x2\n",
    "norm_test_x = scaler.transform(test_x) #Normalize test_x\n",
    "\n",
    "X_std = StandardScaler().fit_transform(train_x2)\n",
    "pca = PCA(n_components=1024)\n",
    "pca_train_x2 = pca.fit_transform(X_std)\n",
    "pca_test_x = pca.transform(test_x)"
   ]
  },
  {
   "cell_type": "code",
   "execution_count": null,
   "metadata": {
    "colab": {
     "base_uri": "https://localhost:8080/",
     "height": 34
    },
    "colab_type": "code",
    "collapsed": true,
    "id": "TqOxJo30kw_L",
    "outputId": "9bc17c18-db17-48f5-a52a-c7bd62a1437b"
   },
   "outputs": [],
   "source": []
  },
  {
   "cell_type": "code",
   "execution_count": null,
   "metadata": {
    "colab": {},
    "colab_type": "code",
    "collapsed": true,
    "id": "oSl_2nbrkw_O"
   },
   "outputs": [],
   "source": [
    "p0_train_x = preprocessing0(train_x)"
   ]
  },
  {
   "cell_type": "code",
   "execution_count": null,
   "metadata": {
    "collapsed": true
   },
   "outputs": [],
   "source": [
    "print(train_labels[67])\n",
    "plt.imshow(p0_train_x[67], cmap='gray_r')\n",
    "plt.show()"
   ]
  }
 ],
 "metadata": {
  "colab": {
   "name": "final.ipynb",
   "provenance": [],
   "toc_visible": true,
   "version": "0.3.2"
  },
  "kernelspec": {
   "display_name": "Python 3",
   "language": "python",
   "name": "python3"
  },
  "language_info": {
   "codemirror_mode": {
    "name": "ipython",
    "version": 3
   },
   "file_extension": ".py",
   "mimetype": "text/x-python",
   "name": "python",
   "nbconvert_exporter": "python",
   "pygments_lexer": "ipython3",
   "version": "3.6.1"
  }
 },
 "nbformat": 4,
 "nbformat_minor": 1
}
