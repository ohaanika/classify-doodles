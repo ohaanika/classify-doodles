{
 "cells": [
  {
   "cell_type": "code",
   "execution_count": 2,
   "metadata": {},
   "outputs": [],
   "source": [
    "import cv2\n",
    "import numpy as np\n",
    "import os\n",
    "from tqdm import tqdm\n",
    "import pandas as pd\n",
    "import matplotlib.pyplot as plt\n",
    "\n",
    "TRAIN_DIR = 'datasets/train_images.npy'\n",
    "TEST_DIR = 'datasets/test_images.npy'\n",
    "IMG_SIZE = 100\n",
    "LR = 1e-3\n",
    "\n",
    "MODEL_NAME  = 'hand-drawn-{}-{}.model'.format(LR, '2conv-basic')"
   ]
  },
  {
   "cell_type": "code",
   "execution_count": null,
   "metadata": {},
   "outputs": [],
   "source": [
    "#label for images something like this [0000010000000]"
   ]
  },
  {
   "cell_type": "code",
   "execution_count": 3,
   "metadata": {},
   "outputs": [],
   "source": [
    "train_data = np.load(TRAIN_DIR, encoding = 'latin1')"
   ]
  },
  {
   "cell_type": "code",
   "execution_count": null,
   "metadata": {},
   "outputs": [],
   "source": [
    "import tflearn\n",
    "from tflearn.layers.conv import conv_2d, max_pool_2d\n",
    "from tflearn.layers.core import input_data, dropout, fully_connected\n",
    "\n",
    "convent = input_data(shape = [None, IMG_SIZE, IMG_SIZE, 1],name = 'input')\n",
    "\n",
    "convent = conv_2d(convent, 32, 2, activation = 'relu')\n",
    "convent = max_pool_2d(convent, 2)\n",
    "\n",
    "convent = conv_2d(convent, 64, 2, activation = 'relu')\n",
    "convent = max_pool_2d(convent, 2)\n",
    "\n",
    "convent = fully_connvected(convent, 1024, activation = 'relu')\n",
    "convent = dropout(convent, 0.8)\n",
    "\n",
    "convent = fully_connected(convent, 2, activation ='softmax')\n",
    "convent = regression(convent, optimizer = 'adam', learning_rate = LR, loss='categorical_crossentropy', name = 'target')\n",
    "\n",
    "model = tflearn.DNN(convent, tensorboard_dir = 'log')\n"
   ]
  },
  {
   "cell_type": "code",
   "execution_count": null,
   "metadata": {},
   "outputs": [],
   "source": [
    "if os.path.exist('{}.meta'.format(MODEL_NAME)):\n",
    "    model.load(MODEL_NAME)\n",
    "    print('model loaded!')"
   ]
  }
 ],
 "metadata": {
  "kernelspec": {
   "display_name": "Python 3",
   "language": "python",
   "name": "python3"
  },
  "language_info": {
   "codemirror_mode": {
    "name": "ipython",
    "version": 3
   },
   "file_extension": ".py",
   "mimetype": "text/x-python",
   "name": "python",
   "nbconvert_exporter": "python",
   "pygments_lexer": "ipython3",
   "version": "3.7.0"
  }
 },
 "nbformat": 4,
 "nbformat_minor": 2
}
