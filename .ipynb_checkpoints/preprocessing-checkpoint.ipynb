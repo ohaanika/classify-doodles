{
 "cells": [
  {
   "cell_type": "code",
   "execution_count": 1,
   "metadata": {
    "collapsed": true
   },
   "outputs": [],
   "source": [
    "# import necessary libraries\n",
    "import os\n",
    "import numpy as np\n",
    "import pandas as pd\n",
    "import csv\n",
    "import matplotlib.pyplot as plt\n",
    "import cv2"
   ]
  },
  {
   "cell_type": "code",
   "execution_count": 2,
   "metadata": {
    "collapsed": true
   },
   "outputs": [],
   "source": [
    "# import datasets \n",
    "train_labels = np.array(pd.read_csv(\"datasets/train_labels.csv\", delimiter=\",\", header=0, index_col=0))\n",
    "train_images = np.load(\"datasets/train_images.npy\", encoding=\"latin1\")\n",
    "test_images = np.load(\"datasets/train_images.npy\", encoding=\"latin1\")"
   ]
  },
  {
   "cell_type": "code",
   "execution_count": 3,
   "metadata": {
    "collapsed": true
   },
   "outputs": [],
   "source": [
    "# reshape images (10000 --> 100*100)\n",
    "def reshape(dataset):\n",
    "    output = []\n",
    "    for img in dataset:\n",
    "        output.append(img.reshape(100,100))\n",
    "    return np.array(output, dtype=int)"
   ]
  },
  {
   "cell_type": "code",
   "execution_count": 4,
   "metadata": {
    "collapsed": true
   },
   "outputs": [],
   "source": [
    "# unravel images (100*100 --> 10000)\n",
    "def unravel(dataset):\n",
    "    output = []\n",
    "    for img in dataset:\n",
    "        output.append(img.ravel())\n",
    "    return np.array(output, dtype=int)"
   ]
  },
  {
   "cell_type": "code",
   "execution_count": 5,
   "metadata": {
    "collapsed": true
   },
   "outputs": [],
   "source": [
    "def prepareToSaveNPY(dataset):\n",
    "    output = []\n",
    "    for i in range(len(dataset)):\n",
    "        output.append((int(i), np.array(dataset[i], dtype=float)))\n",
    "    return np.array(output, dtype=object)"
   ]
  },
  {
   "cell_type": "code",
   "execution_count": 6,
   "metadata": {
    "collapsed": true
   },
   "outputs": [],
   "source": [
    "# convert greyscale to binary according to threshold\n",
    "def binarize(dataset, threshold):\n",
    "    output = []\n",
    "    for img in dataset:\n",
    "        img[img < threshold] = 0\n",
    "        img[img >= threshold] = 255\n",
    "        output.append(img)\n",
    "    return np.array(output, dtype=int)"
   ]
  },
  {
   "cell_type": "code",
   "execution_count": 7,
   "metadata": {
    "collapsed": true
   },
   "outputs": [],
   "source": [
    "# remove noise surrounding connected component i.e. supposed doodle\n",
    "def denoise(dataset, connectivity):\n",
    "    output = []\n",
    "    for img in dataset:\n",
    "        img_binary = (img > 0).astype(np.uint8)\n",
    "        nb_components, labels, stats, centroids = cv2.connectedComponentsWithStats(img_binary, connectivity, cv2.CV_32S)\n",
    "        areas = stats[:,-1]\n",
    "        max_label = 1\n",
    "        max_area = areas[1]\n",
    "        for j in range(1, nb_components):\n",
    "            if areas[j] > max_area:\n",
    "                max_label = j\n",
    "                max_area = areas[j]\n",
    "        labels[labels != max_label] = 0\n",
    "        output.append(labels)\n",
    "    return np.array(output, dtype=int)"
   ]
  },
  {
   "cell_type": "code",
<<<<<<< HEAD
   "execution_count": null,
   "metadata": {},
   "outputs": [],
   "source": [
    "# check preprocessing results\n",
    "def compare_preprocessing_img(size):\n",
    "    '''\n",
    "    size: number of img to compare, random select\n",
    "    output: compare result\n",
    "    '''\n",
    "    \n",
    "    plot = np.random.randint(0,10000,size)\n",
    "    fig = plt.figure(figsize = (18,12))\n",
    "    for i in range(len(plot)):\n",
    "        \n",
    "        img = train_x[plot[i]]\n",
    "        pre_img = pretrain_x[plot[i]]\n",
    "\n",
    "        label = train_labels[plot[i]]\n",
    "\n",
    "        subplot = fig.add_subplot(size,2,2*i+1,title=label)\n",
    "        subplot.imshow(img, cmap ='gray_r')\n",
    "        subplot.axes.get_xaxis().set_visible(False)\n",
    "        subplot.axes.get_yaxis().set_visible(False)\n",
    "\n",
    "        subplot = fig.add_subplot(size,2,2*(i+1),title=label)\n",
    "        subplot.imshow(pre_img,cmap='gray_r')\n",
    "        subplot.axes.get_xaxis().set_visible(False)\n",
    "        subplot.axes.get_yaxis().set_visible(False)\n",
    "\n",
    "    plt.show()"
   ]
  },
  {
   "cell_type": "code",
   "execution_count": null,
=======
   "execution_count": 8,
>>>>>>> 175b0f36a8ec11ade24b85f8da8e3806172ced78
   "metadata": {
    "collapsed": true
   },
   "outputs": [],
   "source": [
    "# preprocess datasets of images\n",
    "train_x = reshape(train_images[:,1])\n",
    "train_x = binarize(train_x, 100)\n",
    "train_x = denoise(train_x, 8)\n",
    "test_x = reshape(test_images[:,1])\n",
    "test_x = binarize(test_x, 100)\n",
    "test_x = denoise(test_x, 8)"
   ]
  },
  {
   "cell_type": "code",
   "execution_count": 9,
   "metadata": {},
   "outputs": [
    {
     "data": {
      "image/png": "iVBORw0KGgoAAAANSUhEUgAAA+cAAAKuCAYAAADD3m2sAAAABHNCSVQICAgIfAhkiAAAAAlwSFlz\nAAALEgAACxIB0t1+/AAAIABJREFUeJzs3Xm0dVdZJ+rfC4HQBQIEkQDylXSCKHIdgDiwYAAqCmh5\nFURADCUqKlIIiEUnQen0XmwQSykUgvSdUgLqRbRSiNIlXvEKBdIlhhCaBAJJgADhvX+sdWBnc853\nmu+cM0/zPGMwOGevZs/zjay512++c65d3R0AAABgnCuMbgAAAAAcdsI5AAAADCacAwAAwGDCOQAA\nAAwmnAMAAMBgwjkAAAAMJpyvoaq6qi6pqqdt4djvqar37US7tktVHZn/xuM2edzxVXVxVX2pqp66\nU+0DAIDD6liyyDG+7+lV9dBVXpcBdoFwfnS37e4nJF8Ns2dt5KDu/vvuvuWOtmwXVdUpVXVaknT3\npd19jSQvGdsq2Hlb/WCsqlOr6sU71a6l9zqrqu6xG++1ynvftao+ssa2p8z/dpseBIS9bNQN8whb\nHchf41x/V1VfqKq3bEfb4JDYUhbZLjLA7hPOAY5uVz8Y5xvhm+3ke+yUeaDgSJJ095OTfOvQBsHO\nGXrDvJ6Rg3YLbbjcv0t33y3Jw8a1CGDvE863aP7ge1xVvaeqPl1VL6iqq8zbLldNmvd9TFX9S1V9\npqpesbLvvP3eVfXPVXVhVf1jVX37wrb/WlUfrKqL5vf6kYVtp1TVP1TVc+bzvreq7r6w/fSqekZV\nvaOqPltV/6OqrrPG33OtqvqTqjqvqs6tqqdW1RW3+98N2J9UvwFg7zhaFpm3/0xVfaCqPlVVf1FV\nJy9s++6qeuecH95ZVd895q9gmXC+Qd19VncfWXr5gUm+P8lNk9wiyROPcor7Jblnkv+Q5NuTnJIk\nVXW7JM9P8nNJrpvkuUn+oqqOn4/7YJLvSXKtJE9J8uKqusHCee8473NSkicn+bOlAP7gJP85yQ2S\nfDnJs9do32nz9psluV2S70vy0PlvP627TznK3waHUlX96jyYdVFVvW9xcGxhnytV1cuq6jVVdeWq\nukNVvXUejDtvHly78rzvm+fD3jWv6/rx+fU1B/Bmt9/ih/PvVdU58+DdmVX1PQvbTq2qV1fVi6vq\ns0lOqaqrVtVp8/u8J8ntt+9fEw6G+Yb5V+YB+Uvmge/rV9VfzX3Fm6rq2gv7/1BVvXu+vk+vqlst\nbLvcTJr5+nvq/PNJVfX6+bhPVdXfV9UVqupFSb4pyevmfuSx8/6vqqqPzTfjb66qb10471Wr6llV\ndfa8/S1VddWFP+uBVfXvVXV+VT1h4bgr1NeKCBdU1SvXKgIAx2YzWaSq7pbkGZnyxw2SnJ3k5fO2\n6yR5Q6ZMcN0kv53kDVV13VXeUwbYZcL5sXlOd5/T3Z9K8rQkP3GUfZ/d3R+d931dku+YX//ZJM/t\n7rd392Xd/cIklyb5riTp7lfNx32lu1+R5P1J7rBw3k8k+d3u/tK8/X1J7rWw/UXd/a/dfUmSJyW5\n33JFvKqun+QHkzyyuy/p7k8k+Z0k99/KPwocVIsfjFV1yyQPT3L77j4h04fjWYv7zze3r810Td+v\nu7+Y5LIkv5xpQO1OSe6e5Bfm8//H+dDbdvc1uvsVGxjAS7bw4Tx7Z6a+6DpJXprkVYvBPskPJ3l1\nkhMzrTF78vweN53f76eW/n2OdPfl/g3goFvjhvlHk3xvpuvxPkn+Ksnjk1wv073XI5Kkqm6R5GVJ\nHjlv+8tMofrKG3jrRyf5yHzc9efzd3f/ZJJ/T3KfuR/5rXn/v0py8yTfkOSfcvl1o/93ku9M8t2Z\n+oPHJvnKwvY7J7llpv7q1xYGEH4pyX9KcpckJyf5dJI/OMq/C7C91soiD0zy/O7+p+6+NMnjktyp\npqVn90ry/u5+UXd/ubtfluS9mfoqBhPOj805Cz+fnemDaS0fW/j5c0muMf98kySPnke+L6yqC5Pc\neOVcVfXghYrZhUluk+mmfsW53d1HacdyG6+0dPxKG66U5LyF93lupg9wYHWXJTk+ya2r6krzjegH\nF7ZfM8lfZ5rZ8pDuvixJuvvM7n7b/IF4VqZr7S5HeZ+jDuDNtvLhnO5+cXdfMLflWfPfs/gwy7d2\n92vnwcHPZwr5T+vuT3X3OVl7Jg4cdr/f3R/v7nOT/H2St3f3/9vdX0jy55lmqCXJjyd5Q3f/TXd/\nKVNIvmqmkLyeL2UadLvJPED/90v3A5fT3c/v7ovmvuDUJLetaUnbFTLNsPsv3X3u3M/847zfiqd0\n9+e7+11J3pXktvPrD0vyhO7+yMJ5f6wsg4HdslYWOXn+PUnS3RcnuSDJDZe3LRx7w51rJhslnB+b\nGy/8/E1JPrqFc5yT6Wb3xIX/Xa27X1ZVN0nyvEzVuet294lJ/jVJLRx/w6pa/H25Hctt/FKS81dp\nw6VJTlpowzW728OcYA3d/YFM1a5Tk3yiql6+OGU8U3j+9iTPXLxhrqpbzFNRPzZPF396vn7AbNFR\nB/BmW/lwTk3Pwvjf8zTWCzMtn1lsy+J5V863/F7A1/v4ws+fX+X3lQH65Wv0K5musY3cJP9fST6Q\n5I1V9aGq+q9r7VhVV6yqZ87Tzz+br83yOWn+31UyDSSu5WgFhj9f6Jv+d6aBy+tvoP3AsVsri3w0\n0/WZJKmqq2eafXfu8raFY8/duWayUcL5sfnFqrrRvHbjCUlesYVzPC/Jw6rqjjW5elXdq6pOSHL1\nJJ3kk0lSVQ/JVDlf9A1JHlHTutb7JrlVpmlxKx5UVbeuqqsl+fUkr16p4K3o7vOSvDHJs6rqmvMa\nsptW1dGqeXDodfdLu/vOmT7kOslvLmx+Y6Yp5X87Lx1Z8YeZpo/dvLuvmWkq6uIA27I1B/AW9tn0\nh3NN68sfm6kafu158O8zS21ZrsKdt8p7AVu3fI1Wpmts5Sb5c0mutrD/N678MFfBH93d35zkh5I8\nqr723Ivla/cBmZap3CPTINyRlbfMNGD/hUzLVTbrnCQ/sNQ/XWWeMQDsvLWyyMuSPKSqvmNeBvf0\nTDN4zsqUE25RVQ+oquNqer7NrZO8fkD7WSKcH5uXZroB/1CmEeenbvYE3X1Gkp9J8pxMa7U+kPlh\ncd39niTPSvLWTKPu35bkH5ZO8fZMa8jOzzSd9ce6+4KF7S/K9LC3j2UaGX/EGk15cJIrJ3nP3I5X\nZ5ouB6yiqm5ZVXebP/S+kKkatrhGM/Naz5dmCugrFekTknw2ycVV9S1Jfn7p1B9P8s0Lvx9tAG/F\nVj6cT8j0EMhPJjmuqn4t01T8o3llksdV1bWr6kaZ1psCW/fKJPeqqrtX1ZUyrSO/NMk/ztv/OckD\n5sr3PbOwBKamB0XebA70n8lUsV7pg5b7kRPm816QKew/fWXDXK1/fpLfrqqT5/e609JzLdbyR0me\nNs/0S1Vdr6p+eJP/BsDWrZpFuvtNmZ419ZpMA+s3zfwsqTkn3DtTf3NBpoH6e3f38sxaBhDO13Zp\nkjOr6jeOss87u/vW80jxT3X355Kku0/v7hut7DQ/JOlNC7+f2t0PWvj9r7v79vN5btDd9+3ui+Zt\nT+ju63T3Sd39qO6+S3f/8UIbursf3t3X6u5bdPcbl9r4we6+wzxN/T4rF968Pra6+8vz75/p7p/v\n7hvN57pdd7986VypquPnqWv3zTRFHg6r45M8M9PA2McyzWJ53PJO3f0bmR4K96Y5PD8mUxXrokzB\ne3nGzalJXjhPE73f0QbwFmz6wznJ/5NpTfy/ZZpW+4V8/TT2ZU+Z9/3w/H4vWmd/4Ci6+31JHpTk\n9zP1JffJ9CC3L867/Jf5tQszPUPitQuH3zzJm5JcnGkQ/7919/+ctz0jyRPnfuQxSf4007V7bqZB\n+LctNeUxSf6/TA+J/FSmWUAbuUf8vSR/kWlq/UXzee+4oT8eWM+Ws0iSdPcfdfdN5xxx7+7+yMK2\nt3T3d873/N/Z3W9Z2HbXpayRRAbYLXWUZ4dwFFV1VpKHLobuAW04ZW7DndfYfnqSF692gQHrq6ov\nZPpwfHZ3P2l0e/aTqnpykkdlGsS4+vJyGtiv9AtbU1V/k+lZHO/o7q/72klgc/ZCFmH7eZomwBq6\n+yrr78VquvspmSrtcKDoF7amu793dBsA9jqVcwAAABjMmnMAAAAYTDgHAACAwTa15vykk07qI0eO\n7FBTYG8788wzz+/u641ux16jX+Aw0y+sTr/AYaZfWJ1+gcNso/3CpsL5kSNHcsYZZ2y9VbCPVdXZ\no9uwF+kXOMz0C6vTL3CY6RdWp1/gMNtov2BaOwAAAAwmnAMAAMBgwjkAAAAMJpwDAADAYMI5AAAA\nDCacAwAAwGDCOQAAAAwmnAMAAMBgwjkAAAAMJpwDAADAYMI5AAAADCacAwAAwGDCOQAAAAwmnAMA\nAMBgwjkAAAAMJpwDAADAYMI5AAAADCacAwAAwGDCOQAAAAwmnAMAAMBgwjkAAAAMdtzoBmxVVX31\n5+4e2BIAAAA4NirnAAAAMJhwDgAAAIMJ5wAAADDYvltzbq05AAAAB43KOQAAAAy2byrnixXzRNUc\nAACAg0PlHAAAAAYbXjnfbEV8IxVzVXYAgP1p+T5uhfs54KBTOQcAAIDBhlfOV0ZB1xolXbay32qj\npxs9BwAAe8Nm7wFXqKQDB43KOQAAAAw2vHK+7GiV8e069wojrgAAY2x2bfny/ou/u6eD/eNYrt3t\nmCm9l/uLPRPOl6e3byakr9e5C+UAAHvbZh8KbDkjHDy7cV3v5YdOmtYOAAAAg+2ZyvlOUDEHANh5\nxzLjcav3Z4szJHdyWSSwvbr762ZLb+SY7bLWe+6F7KhyDgAAAIPtucr5WmvPVzNipAUAgNWtVsHe\n6fWdW6nCbXcbgO2x1rMl1qpqH+2aX+v63spDJzdy/HZQOQcAAIDB9lzlfKM2MjJqNBQAYPdtpZp1\nLDzJHQ6mtSrk660P38yzKNba72hr03cqZ6qcAwAAwGB7tnK+kXUE6x0LAMDOW6viNOqezL0g7E/b\ntc57K8+i2AvPM1M5BwAAgMH2bOV8K4ySAgCMs9q6UPdnwHrWW+898jkSxzKje7NUzgEAAGCwPVs5\n38rIxOj1TQAAXL7S5P4MWMtGv4t8N6rWG/3+852kcg4AAACD7bnK+VrfWbfed9kt7mOEFgBg97n3\nAnbCYelbVM4BAABgsD1XOT8Wy1V2FXQAgHHcgwHLRj55fa9TOQcAAIDB9kzlfCNrygEAADgYzHS+\nPJVzAAAAGGx45XytNQfLoyibGU1Z6wnvAAAAjNPdX5fTjjW3HZTKu8o5AAAADDascm6NOQAAwOGz\nXvbbbCX9oMyYVjkHAACAwYavOVcxBwAAYMV2ZMT9WE3f9XC+H/+RAAAA2D/2YxHYtHYAAAAYbPi0\n9p2gOg8AAMB+onIOAAAAgwnnAAAAMJhwDgAAAIMdqDXny2vN9+MT+gAAADh8VM4BAABgsANROfd0\ndgAAAPYzlXMAAAAYbF9XzteqmFtrDgAAwH6icg4AAACDDa+cr1S/N1rtPtr6chVzgMNjo88b8dkA\nAOwHKucAAAAw2K5XzlcqGMsVj608cV01BOBg2Ylv31g+p88OAGAvUjkHAACAwYatOV+uXGx27TkA\n+9dWK+Rb+YxYa6aWzxsAYC9ROQcAAIDBhj+tfYUKBsDBtV6lfCc/A9aaqQUAsJeonAMAAMBge6Zy\nDsDBs1aVei/MlrL2HADYS1TOAQAAYDCVcwC2zV6ulC/bi20CAA4v4RyAbbEYzPdi8PUgOABgLzOt\nHQAAAAZTOQfgmKiYAwAcO5VzAAAAGEzlHIB9TWUcADgIVM4BAABgMJVzALbFbqw3VyUHAA4qlXMA\nAAAYTOUcgG2xWlV7uZqu8g0AsDqVcwAAABhM5RyAY7JSHV+tKr5dlfK9+P3pAADbSeUcAAAABlM5\nB2BbLFa316uYr1VtVyEHAA4rlXMAAAAYTOUcgF2jMg4AsDqVcwAAABhM5RyAXbPWWnQVdQDgsFM5\nBwAAgMFUzgHYdus9jX3ldRVzAICJyjkAAAAMpnIOwI5ZrpQvV9JV0AEAJirnAAAAMJjKOQA7TmUc\nAODoVM4BAABgMOEcAAAABhPOAQAAYDDhHAAAAAYTzgEAAGAw4RwAAAAGE84BAABgMOEcAAAABhPO\nAQAAYDDhHAAAAAYTzgEAAGAw4RwAAAAGE84BAABgMOEcAAAABhPOAQAAYDDhHAAAAAYTzgEAAGAw\n4RwAAAAGE84BAABgMOEcAAAABhPOAQAAYDDhHAAAAAYTzgEAAGAw4RwAAAAGE84BAABgMOEcAAAA\nBhPOAQAAYDDhHAAAAAYTzgEAAGAw4RwAAAAGE84BAABgMOEcAAAABhPOAQAAYDDhHAAAAAYTzgEA\nAGAw4RwAAAAGE84BAABgMOEcAAAABhPOAQAAYDDhHAAAAAYTzgEAAGAw4RwAAAAGE84BAABgMOEc\nAAAABhPOAQAAYDDhHAAAAAYTzgEAAGAw4RwAAAAGE84BAABgMOEcAAAABhPOAQAAYDDhHAAAAAYT\nzgEAAGAw4RwAAAAGE84BAABgMOEcAAAABhPOAQAAYDDhHAAAAAYTzgEAAGAw4RwAAAAGE84BAABg\nMOEcAAAABhPOAQAAYDDhHAAAAAYTzgEAAGAw4RwAAAAGE84BAABgMOEcAAAABhPOAQAAYDDhHAAA\nAAYTzgEAAGAw4RwAAAAGE84BAABgMOEcAAAABhPOAQAAYDDhHAAAAAYTzgEAAGAw4RwAAAAGE84B\nAABgMOEcAAAABhPOAQAAYDDhHAAAAAYTzgEAAGAw4RwAAAAGE84BAABgsOruje9c9ckkZ+9cc2BP\nu0l3X290I/Ya/QKHnH5hFfoFDjn9wir0CxxyG+oXNhXOAQAAgO1nWjsAAAAMJpwDAADAYMI5AAAA\nDCacAwAAwGDCOQAAAAwmnAMAAMBgwjkAAAAMJpwDAADAYMI5AAAADCacAwAAwGDCOQAAAAwmnAMA\nAMBgwjkAAAAMJpwDAADAYMI5AAAADCacAwAAwGDCOQAAAAwmnAMAAMBgwjkAAAAMJpwDAADAYML5\nJlRVV9UlVfW00W3ZjKq6uKq+eQvHnVZVn6+qj+xEu+Ag20v9RVWdVVX32MJx+gAAgF0inG/ebbv7\nCUlSVUeq6qzB7VlXd1+juz+0kX2rqheOOyXJD+xUu+AQ2Hf9hT4AxtjKgF5Vvbuq7jr/XFX1gqr6\ndFW9o6ruupWBtaq6xTyof1lVPXSzxwPbY6uD/FX1+Kr64w3ue2pVvXgD++kXdslxoxsAAECSaUDv\nA8k0oJfk9O4+stbO3f2tC7/eOcn3JrlRd1+yEto3oqpOnc93anf/W5JrVNXpm2w7sP021SckSXc/\nfTveWL8whsr5Npqnjj6uqt4zj1y/oKqusrD93lX1z1V1YVX9Y1V9+9Kxj6mqf6mqz1TVK5aOfWxV\nnVdVH62qh86jaTebt52+OIpVVadU1VsWfl/c97Sq+oOqekNVXVRVb6+qm+70vw1weUfrL6rq2lX1\n+qr65Lzt9VV1o4VjT6+q36iqf5iv4zdW1UkL23+yqs6uqguq6glL73uHqnrr3A+dV1XPqaor795f\nDhyrqlqtuHKTJGd19yW73R4Atodwfgy6+6xVRq8emOT7k9w0yS2SPDFJqup2SZ6f5OeSXDfJc5P8\nRVUdv3Ds/ZLcM8l/SPLtSU6Zj71nkkcluUeSmyW56zE2/f5JnpLk2kk+kOSr02W6u47x3MAqNtNf\nZOqbX5DpZvubknw+yXOWjn1Akock+YYkV07ymCSpqlsn+cMkP5nk5Ez9zY0WjrssyS8nOSnJnZLc\nPckvLLRTHwB70Dyg96tV9S9JLqmq41aeJ1FVP53kj5PcaZ56+pRVjj+5ql4zD/p9uKoeset/BLBt\n5v7g3HmQ/n1Vdff59a9OVa9pSV1X1U9V1b9X1fnLg/YL57tSVb1s7icM2g8inG+/53T3Od39qUyh\n9yfm1382yXO7++3dfVl3vzDJpUm+a+HYZ3f3R+djX5fkO+bX75fkBd397u7+XJJTj7GNf97d7+ju\nLyd5ycL7ALtr1f6iuy/o7td09+e6+6J5212Wjn1Bd/9bd38+ySvztev4x5K8vrvf3N2XJnlSkq+s\nHNTdZ3b327r7y919VqaBwuVzA4OtMaD3E0nuleTE+TN8Zd8/SfKwJG+dnzPz5MWDquoKme4r3pXk\nhpkG5R5ZVd8/H39qd5+6U38LcOwW+4SqumWShye5fXefkGmg/6yjHH7nJLfMdO3/WlXdanFjVV01\nyWszZZP7dfcX9QtjCOfb75yFn8/OVLlKpgrYo+eppBdW1YVJbrywPUk+tvDz55JcY/755KXzLv68\nFWu9D7C7Vu0vqupqVfXceWr6Z5O8OcmJVXXFhf031F/MU1wvWPl9fqjL66vqY/O5n56pig7sfc+e\nB/Q+v8njbp/ket396/NN94eSPC/TTDpg/7ksyfFJbl1VV5qD+wePsv9Tuvvz3f2uTIN0t13Yds0k\nf53kg0ke0t2X7VirWZdwvv1uvPDzNyX56PzzOUme1t0nLvzvat39sg2c87xcflrqjZe2X5Lkagu/\nf+NmGw0MsVZ/8ehMI9x37O5rJvmP8+sbmXJ+3uJ5q+pqmaa2r/jDJO9NcvP53I/f4HmB8bY6OH+T\nJCcvFQgen+T629c0YLfMD4l7ZKbZtJ+oqpdX1clHOeRohbnvyrSc9pnd3WEo4Xz7/WJV3aiqrpPk\nCUleMb/+vCQPq6o71uTqVXWvqjphA+d8ZZKHVNWt5hvtJy1t/+ck/+dcbbtZkp/erj8G2FFr9Rcn\nZFpnfuG87clrnWAVr05y76q687xm7Ndz+b7+hCSfTXJxVX1Lkp8/1j8C2DVbvXE+J8mHlwoEJ3T3\nD25n44Dd090v7e47Zxp86yS/ucVTvTHJM5L8bVUZsBtMON9+L830H/mHMk0PeWqSdPcZSX4m00Od\nPp3pQWynbOSE3f1XSZ6d5H/Ox71t3nTp/P+/k+SLST6e5IWZ1pEDe9+q/UWS301y1STnZ7re/3qj\nJ+zudyf5xfnc52Xqbxa/6/gxmR4md1GmQcNXLJ8DOHDekeSi+QFSV62qK1bVbarq9qMbBmxeVd2y\nqu42P1j6C5kG9L+yzmFr6u7fynTf8LeL3/7C7vM955tzaZIzq+rZ3b1cvV7xzu5+xmobuvuvs8ZN\n9vJDX5YfwDCf8xlJMj/E4SuZbrzT3ecn+b6lU566cGwt/HzK0nlPz+WnzH9VVf1Jkvsm+cRq24Gj\n2nJ/0d0fzdd/K8NzF7bfdWn/05KctvD7CzMN1K1Y/EaGNyf5lqVz/9pqjdMHwMHQ3ZdV1b2TPCvJ\nhzOtVX1fvvYNEcD+cnySZya5VZIvJfnHTA+f3rLu/o057L+pqu42P6yWXVaWFmyfqjoryUO7+007\ncO4fSfKXmdaWvzDJV7r7P233+wC7Yyf7C2D/qaovZBrUO9qA3m604+ZJ3pnpKxp/YR78A3bZXukT\n5rboF3aJyvn+8XOZKmOXJflfWfheYgBgf+vuq4xuQ5J09/uTnDi6HXDY7ZU+IdEv7CaVcwAAABjM\nA+EAAABgMOEcAAAABtvUmvOTTjqpjxw5skNNgb3tzDPPPL+7rze6HXuNfoHDTL+wOv0Ch5l+YXX6\nBQ6zjfYLmwrnR44cyRlnnLH1VsE+VlVnj27DXqRf4DDTL6xOv8Bhpl9YnX6Bw2yj/YJp7QAAADCY\ncA4AAACDCecAAAAwmHAOAAAAgwnnAAAAMJhwDgAAAIMJ5wAAADCYcA4AAACDCecAAAAwmHAOAAAA\ngwnnAAAAMJhwDgAAAIMJ5wAAADCYcA4AAACDCecAAAAwmHAOAAAAgwnnAAAAMJhwDgAAAIMJ5wAA\nADCYcA4AAACDCecAAAAwmHAOAAAAgwnnAAAAMJhwDgAAAIMJ5wAAADCYcA4AAACDCecAAAAwmHAO\nAAAAgwnnAAAAMJhwDgAAAIMJ5wAAADCYcA4AAACDCecAAAAwmHAOAAAAgwnnAAAAMJhwDgAAAIMJ\n5wAAADCYcA4AAACDCecAAAAwmHAOAAAAgwnnAAAAMJhwDgAAAIMJ5wAAADCYcA4AAACDCecAAAAw\nmHAOAAAAgwnnAAAAMJhwDgAAAIMJ5wAAADCYcA4AAACDCecAAAAwmHAOAAAAgwnnAAAAMJhwDgAA\nAIMJ5wAAADCYcA4AAACDCecAAAAwmHAOAAAAgx03ugEAh01VrbtPd+9CSwAA2CuEc4Adtl4YXwzi\nK/uu/L+QDgBwOJjWDgAAAIOpnAPskLUq5kerhq9sU0EHADhcVM4BAABgMJVzgG22XDFX9QYAYD0q\n5wAAADCYyjnANtnOivny2nMAAA42lXMAAAAYTDgHAACAwYRzAAAAGEw4BwAAgMGEcwAAABjM09oB\ntsl2PmHdU9oBAA4XlXMAAAAYTOUcYIds5/eeAwBwsKmcAwAAwGAq5wC7ZCvryFXbAQAOB5VzAAAA\nGEzlHGCbbOcT1lXMAQAOF5VzAAAAGEw4B9gh3b3lCnhV+a5zAIBDRDgHAACAwaw5BzhG2/l95ivH\nrpxz5f+tQQcAONiEc4A9ZDmMm9oOAHA4mNYOAAAAgwnnAPuAB8QBABxswjkAAAAMZs05wDZZfmib\nSjcAABulcg4AAACDqZwDbBNfewYAsHXrzTo86PdYKucAAAAwmMo5wA7ZyneVL48I+75zAOCg2uz9\nzUGfpahyDgAAAIOpnAPsEauNAquYAwAHzWbvb5ZnEh7UCrrKOQAAAAymcg6www7aqC4AwHZY69k6\na1XKDzqVcwAAABhM5RzgGO3mOqjD/v2fAMDBsVbFfC0H/VtsVM4BAABgMJVzgB1yLBX09dZeLb8O\nALBfHPQK+FapnAMAAMBgKucA22StUeDNVLvX21elHABgslblfb/eL6mcAwAAwGAq5wDbbHm0dr1K\n+kbOAQCwl22lir3ePdOxtGU/3kupnAMAAMBgKucAO2ytkVtPXgcA9rvtqHZ7avtE5RwAAAAGUzkH\nGESlHABmuNJBAAAWRUlEQVTY7zY6Q3C917fbfnySu3AOAADAjtpKKF/ra2qP5UFyK/vuxZBuWjsA\nAAAMpnIOAADAttpo1Xsz59rq9tXasRcr6CrnAAAAMJjKOQAAADtqdIV6rUr+Xqqgq5wDAADAYCrn\nAAAAbKvd+sq0zdrLFXSVcwAAABhMOAcAAOBQ6e49sc58kXAOAAAAg1lzDgAAwI7Ya9XpZWutQR9B\n5RwAAAAGUzkHAABgW+yFCvSxOJb2H+ssAZVzAAAAGEzlHAAAgG2xvIZ7L3x/+Gb4nnMAAAA4xFTO\nAQAA2FF7tYK+l9bIq5wDAADAYCrnAAAAbKu1vj/8aJXq3aiq76VK+TKVcwAAABhM5XwP2KvrLwAA\nAI7FcsY5WuV6RFV7L2UwlXMAAAAYTOV8kNVGhZZf20ujOAAAAMdqMxlnOyrp+ylTCee7bLX/wNZ7\nWMJ++g8KAABgOxy2HGRaOwAAAAymcj7Q8kjQZh6WAAAAwMGhcg4AAACDqZzvkmN52Ju15wAAAAeb\nyjkAAAAMJpzvI1VlHToAAMABJJwDAADAYNac77CjrTXf6jp0a9ABAAAOFpVzAAAAGEzlfIestzZ8\nte3rVcRXXrfuHAAA4GBROQcAAIDBVM532WLVWyUcAACAROUcAAAAhlM530dU2AEAAA4mlXMAAAAY\nTOV8m6luAwAAsFkq5wAAADCYcL5LunvN7y8HAADgcBPOAQAAYDDhfB9QdQcAADjYhHMAAAAYTDgH\nAACAwYRzAAAAGMz3nO9BvisdAADgcBHOd9hOPMht5ZzrhXgPkQMAANgfTGsHAACAwVTOB1qufK9V\nEV+rQq4yDsBBtRtLvNb7HN1KG3w2A7BVKucAAAAwmMr5DlsZdV8ZSV8cUV/etmKja8oBAAA4GFTO\nAQAAYDCV82223rrxxSr5csXc09cBYLKTn3krn7cbnaHm8xeA3aByDgAAAIOpnO+QzVTQrS0HAAA4\n3FTOAQAAYDCV8x222e8uP9o5AIBj53MVgL1I5RwAAAAGUznfJauN0ltrDgAAQKJyDgAAAMMJ5wAA\nADCYcA4AAACDCecAAAAwmHAOAAAAg3la+0BrfQf68nYAAAAONpVzAAAAGEzlfA9QIQcAADjcVM4B\nAABgMOEcAAAABhPOAQAAYDDhHAAAAAYTzgEAAGAw4RwAAAAGE84BAABgMOEcAAAABhPOAQAAYDDh\nHAAAAAYTzgEAAGAw4RwAAAAGE84BAABgMOEcAAAABqvu3vjOVZ9McvbONQf2tJt09/VGN2Kv0S9w\nyOkXVqFf4JDTL6xCv8Aht6F+YVPhHAAAANh+prUDAADAYMI5AAAADCacAwAAwGDCOQAAAAwmnAMA\nAMBgwjkAAAAMJpwDAADAYMI5AAAADCacAwAAwGDCOQAAAAwmnAMAAMBgwjkAAAAMJpwDAADAYMI5\nAAAADCacAwAAwGDCOQAAAAwmnAMAAMBgwjkAAAAMJpwDAADAYMI5AAAADCacAwAAwGDCOcAOqqqu\nqkuq6mm7/L5H5vc+bpPHHV9VF1fVl6rqqTvVPgBgbQPvH06vqoeu8rr7g10gnG/STl0o83/s3zz/\nfNrKf/RVddeq+sh2vtcm2vR3VfWFqnrLiPeHA+S23f2E5Kuh+azB7bmcqjqlqk5Lku6+tLuvkeQl\nY1sFe8t2f/7vxmf9VgfpdpJ7C9iUofcP7g92n3C+Ndt+oXT3Nbr7Q8fcsk2oqrOq6h4Lv1/ub+nu\nuyV52G62CQD2sD090LadFgcPjvE87i0ANkg4Bxioqv5rVX2wqi6qqvdU1Y8sbDulqv6hqp5TVZ+p\nqvdW1d0Xtp9eVc+oqndU1Wer6n9U1XXWeJ9rVdWfVNV5VXVuVT21qq64G38jHDa7WaneS1VxYPfM\nRbbHzfcOn66qF1TVVRa2/0xVfaCqPlVVf1FVJy9s++6qeud8b/HOqvruMX8Fy4TzbVZVvzrf+F5U\nVe9buZGuqjtU1Vur6sL55vg5VXXlheO6qm52lPM+vqrOny/EBy68fq2q+tOq+mRVnV1VT6yqK8zb\nbjpPH7tgPvYlVXXivO1FSb4pyevmKfWP3al/E+Bruvus7j6y8NIHk3xPkmsleUqSF1fVDRa233He\n56QkT07yZ0sB/MFJ/nOSGyT5cpJnr/HWp83bb5bkdkm+L8lD5zad1t2nHMvfBYfd/Pn8q1X1L0ku\nqarjqupW8yDahVX17qr6oQ2e6+Sqes382f7hqnrEwrZTq+rVVfXiqvpsklPme4wz5kG6j1fVb69x\n3h+d23mb+fdXVdXH5hv0N1fVt86v/2ySByZ57HyP8LoNtGtDbQC2ZpX7h2S6Tr8/yU2T3CLJE5Ok\nqu6W5BlJ7pfp/uDsJC+ft10nyRsy3S9cN8lvJ3lDVV13lfd0f7DLhPNjtHihVNUtkzw8ye27+4RM\nF8tZ866XJfnlTDfYd0py9yS/sMG3+cb5uBsm+akk/31+ryT5/Uw39d+c5C6ZbtQfMm+rTBfmyUlu\nleTGSU6d2/2TSf49yX3mKfW/tcZFD+yg7n5Vd3+0u7/S3a9I8v4kd1jY5RNJfre7vzRvf1+Sey1s\nf1F3/2t3X5LkSUnut1wRr6rrJ/nBJI/s7ku6+xNJfifJ/XfwT4MDbY3PzJ/IdH2emOkz+HVJ3pjk\nG5L8UpKXLHx+r2oeYH9dkndl+ty/e5JHVtX3L+z2w0lePb/PS5L8XpLf6+5rZrpJf+Uq531Ikt9M\nco/u/tf55b9KcvO5ff80nyvd/d/nn39rvke4zwbatWob3FvAjnpOd5/T3Z9K8rRMfVAyhfbnd/c/\ndfelSR6X5E5VdSRTH/X+7n5Rd3+5u1+W5L1J7rP7zWeZcL69LktyfJJbV9WV5g+kDyZJd5/Z3W+b\nL4Kzkjw3U5jeqCfND2L4X5lGu1ZuwO+f5HHdfdF83mcl+cn5PT/Q3X8zH/fJTCNjm3lPYIdV1YOr\n6p/nytqFSW6TaTBuxbnd3Qu/n51pwG3FOUvbrrR0fJLcZH79vIX3eW6mG3Jg+zx7vlH+fJLvSnKN\nJM/s7i92998leX2+dvO8ltsnuV53//p83IeSPC+XH0x7a3e/dh7U+3ySLyW5WVWd1N0Xd/fbls75\nyCS/kuSu3f2BlRe7+/nz/cOlmQbvb1tV19piu9ZrA7D9lu8BVu4PTp5/T5J098VJLsg0sHa5bQvH\n3nDnmslGCefbaP7Ae2SmD7hPVNXLV9Z3VNUtqur18/SxzyZ5er7+Bnotn56rYitWLr6TMt1wn720\n7Ybze15/bsO583u+eBPvCeywqrpJppvbhye5bnefmORfM1XcVtywqhZ//6YkH134/cZL276U5Pyl\ntzonyaVJTuruE+f/XbO7v3Wb/hRgsnijfHKSc7r7KwuvbeQG+CZJTl4ZSJsH0x6f5PprvE+S/HSm\nKa3vndeP3ntp+68k+YPu/uoT4avqilX1zJqeefHZfG2m31r3Ceu1a702ANtv+R5g5f7go5mu2SRJ\nVV090xT2c5e3LRx77s41k40SzrdZd7+0u++c6T/6zjSFLEn+MNOUkZvPU74en8vfgB/NteeLasXK\nxXd+phvxmyxtW7m4nj634dvm93zQ0nsuVuOA3Xf1TNfhJ5OvTju9zdI+35DkEVV1paq6b6YlKn+5\nsP1BVXXrqrpakl9P8uruvmzxBN19Xqaptc+qqmtW1RXmZ1KYSQPba/Fz9aNJbrzyHJjZRm6Az0ny\n4YWBtBO7+4Tu/sE13ifd/f7u/olM/cVvJnn10n3D9yV5YlX96MJrD8g0Pf4emZbHHZlfX7lPWL5H\nOGq7NtAGYPv9YlXdaF5H/oQkr5hff1mSh1TVd1TV8ZkywdvnWbZ/meQWVfWA+dkYP57k1plm9jCY\ncL6NquqWVXW3+SL4QpLPJ1kZMT8hyWeTXFxV35Lk5zd5+qdU1ZWr6nuS3DvJq+Yb8FcmeVpVnTBX\n4R6VqUK+8p4XJ/lMVd0w08j5oo9nWqsODNDd78m0FOWtma7Hb0vyD0u7vT3TmtDzM60n+7HuvmBh\n+4syPeztY0mukuQRWd2Dk1w5yXuSfDrTetUbrLEvcOzenuRzmR6qdqWqumumNZ0vX+e4dyS5qKaH\ny111rnDfpqpuv9YBVfWgqrreXKW/cH55sWL/7iT3TPIH9bWH0p2QaUbNBUmulunmfdHyPcJR27WB\nNgDb76WZBt8/lOnhsU9Nku5+U6bn0LwmyXmZngNx/3nbBZmyxKMzXf+PTXLv7l6edccAwvn2Oj7J\nMzPdRH8s0+jx4+Ztj8k0Sn1Rpmmsr1jtBGv4WKab6Y9mekDLw7r7vfO2X0pySaaL8i2ZLtLnz9ue\nkuT/SPKZTOvU/2zpvM/INJJ+YVU9ZhPtATbu0iRnVtVvrLaxu5/Q3dfp7pO6+1HdfZfu/uPL79IP\n7+5rdfctuvuNS6f4YHffYZ6mfp+VD9f5mRfV3V+ef/9Md/98d99oPtftuvvrQkJVHT9PV71vppk5\nwBZ09xczhfEfyHRf8N+SPHjh83ut4y7LdOP8HUk+PB/7x5mq22u5Z5J3V9XFmR7Mdv95Lfried81\nn/d5VfUDSf400zT7czMN2i2vEf+TTM/QubCqXruBdq3bBmBTjnr/MHtnd996nsnyU939uZUN3f1H\n3X3T+R7j3ovLWrr7Ld39nfP9wHd291sWtt116T4kifuD3VKXf84Q66mqL2S6WJ7d3U8a3Z6dVFV/\nk+mBNu/o7ruvtz+wvarqlCQPnZfKrLb99CQvXu1DFNheh+nzfye5t4DtUVVnZbpHeNPotrB9jhvd\ngP2mu68yug27pbu/d3QbAGAvOEyf/zvJvQXA2lTOAQAAYDBrzgEAAGCwTU1rP+mkk/rIkSM71BTY\n284888zzu/t6o9ux1+gXOMz0C6vTL3CY6RdWp1/gMNtov7CpcH7kyJGcccYZW28V7GNVdfboNuxF\n+gUOM/3C6vQLHGb6hdXpFzjMNtovmNYOAAAAgwnnAAAAMJhwDgAAAIMJ5wAAADCYcA4AAACDCecA\nAAAwmHAOAAAAgwnnAAAAMJhwDgAAAIMJ5wAAADCYcA4AAACDCecAAAAwmHAOAAAAgwnnAAAAMJhw\nDgAAAIMJ5wAAADCYcA4AAACDCecAAAAwmHAOAAAAgwnnAAAAMJhwDgAAAIMdN7oBAABsXFWt+np3\n73JLANhOKucAAAAwmMo5AMA+sFbFfHm7Cjps3nrX117iGj+4VM4BAABgMJVzAIB9YKVatlzhW35d\nBR22305cT/upWs/uUDkHAACAwVTOAQD2sbWqbyrosHm7eb1s9L1U2A8PlXMAAAAYTOUcAOAA873o\nAPuDyjkAAAAMpnIOALCPrVcBtyYdjt1G1327njgWKucAAAAwmMo5AMA+sF4FfNlKBW+5kufJz7C2\nY70+tjIjZbPvubi/Sv3BIpwDAOxhWw0LQjisb/k62W9h1/KUg8W0dgAAABhMOAcA2MO6W1UM4BAQ\nzgEAAGAwa84BAPaBler5dq0lV42H/cv1ezCpnAMAAMBgKucAAPuIihkcLBu9pn0Dw8Gncg4AAACD\nCecAAMCh5NsQ2EuEcwAAABhMOAcAAIDBhHMAAAAYzNPaAQAAsjeeiG4N/OGlcg4AAACDqZwDAADs\nEetV71XWDy6VcwAAABhM5RwAADjUVKPZC1TOAQAAYDDhHAAAAAYTzgEAAGAw4RwAAAAGE84BAABg\nMOEcAAAABhPOAQAAYDDhHAAAAAYTzgEAAGAw4RwAAAAGE84BAABgMOEcAAAABhPOAQAAYDDhHAAA\nAAYTzgEAAGAw4RwAAAAGE84BAABgMOEcAAAABhPOAQAAYDDhHAAAAAYTzgEAAGAw4RwAAAAGE84B\nAABgMOEcAAAABhPOAQAAYDDhHAAAAAYTzgEAAGAw4RwAAAAGE84BAABgMOEcAAAABhPOAQAAYDDh\nHAAAAAYTzgEAAGAw4RwAAAAGE84BAABgMOEcAAAABhPOAQAAYDDhHAAAAAYTzgEAAGAw4RwAAAAG\nE84BAABgsONGN2C/qqpVX+/uXW4JAAAA+53KOQAAAAwmnG9Rd69aJa+qNavqwMGy1vWuHwAAYLOE\ncwAAABjMmvMdslw1sxYd9rejVcLX2rbyuusfAID1qJwDAADAYCrnW7TR9aQqZrC/bOTaXuu6NmMG\nAICtUjkHAACAwVTON0nFHA6Xo13La/UHrn8AADZL5RwAAAAGUznfoPXWkvpOY9jf1nvi+kaomAMA\nsFUq5wAAADCYyjnAFqmUAwCwXVTOAQAAYDCV83X43mLY33byeRBb7R/0K/D/t3fvOG7DABBArUOk\nzv2PlTqHUCoDhkIuqZ9HEt/rFmsLakh4MPwAAEvCeSc/nuFeWtecrQ3tpTlg+Yz337X5QigHAKDG\nsnYAAAAI05z/YMsVSu/vtBo04By97XTrOsSesVt7xnL8u2oRAIAWzTkAAACEac4LPlsuzTfcx13G\n7pXfDQCADM05AAAAhGnOT2bvOZzvKo25sycAANhKcw4AAABhmvMPpdOa956yrDGD8xx5b7ixCgBA\nkuYcAAAAwjTnr/odxFvuOQe2a4252r3hxh8AAHenOQcAAIAwzfnr/zaup4Xbuxcd2E9jDgDAU2jO\nAQAAIOyRzfnWVlsLB9/Vu8e89/MAAHBXmnMAAAAIe2RzvtTbvv3Uym1t1WvP1NJD25pzIAAA4M40\n5wAAABA2RHO+1GrhSm13a6/r2r2w0zRpA2HhqWNi7d56AADGozkHAACAsCGb85ZSi7W2Ga81YU6b\nhnG85wHjHgCAFs05AAAAhA3RnB9x4rM9oXC8p42r3tsZnEIPAMDSI8N5bSmpH8TAFZiDAABYsqwd\nAAAAwh7ZnL99s0F34BOcbzmmr7oa5mrvAwDA9WnOAQAAIOzRzflb7TCmVtv9+b2jm3HNGmxXa9A/\n//dNVs4AALCX5hwAAADChmjOl2rNWm1v+pZnAecrnSvxzX3oGnMAAI6iOQcAAICwIZvzmtLedM04\nXF/pfIhaq33mmDZfAACwleYcAAAAwjTnP9CCwf2U9qF/OmOfuLkCAIC9NOcAAAAQpjkHHqn3Voaj\nngsAAHtozgEAACBMcw4MRfMNAMAVac4BAAAgTDgHAACAMOEcAAAAwoRzAAAACBPOAQAAIEw4BwAA\ngDDhHAAAAMKEcwAAAAgTzgEAACBMOAcAAIAw4RwAAADChHMAAAAIE84BAAAgTDgHAACAMOEcAAAA\nwoRzAAAACBPOAQAAIEw4BwAAgDDhHAAAAMKEcwAAAAgTzgEAACBMOAcAAIAw4RwAAADChHMAAAAI\nE84BAAAgTDgHAACAMOEcAAAAwoRzAAAACBPOAQAAIEw4BwAAgDDhHAAAAMKEcwAAAAgTzgEAACBM\nOAcAAIAw4RwAAADChHMAAAAIE84BAAAgTDgHAACAMOEcAAAAwoRzAAAACBPOAQAAIEw4BwAAgDDh\nHAAAAMKEcwAAAAgTzgEAACBsmue5/8PT9Pf1ev0573Xg0n7P8/wr/RJXY15gcOaFAvMCgzMvFJgX\nGFzXvLAqnAMAAADHs6wdAAAAwoRzAAAACBPOAQAAIEw4BwAAgDDhHAAAAMKEcwAAAAgTzgEAACBM\nOAcAAIAw4RwAAADC/gFXb4PE6MMehwAAAABJRU5ErkJggg==\n",
      "text/plain": [
       "<matplotlib.figure.Figure at 0x2777fd427b8>"
      ]
     },
     "metadata": {},
     "output_type": "display_data"
    }
   ],
   "source": [
    "# check preprocessing results\n",
    "plot = [67,150,250,350,450,650,750,850,950,1050,1150,1250]\n",
    "fig = plt.figure(figsize = (18,12))\n",
    "for i in range(len(plot)):\n",
    "    img = train_x[plot[i]]\n",
    "    label = train_labels[plot[i]]\n",
    "    subplot = fig.add_subplot(3,4,i+1)\n",
    "    subplot.imshow(img, cmap ='gray_r')\n",
    "    plt.title(label)\n",
    "    subplot.axes.get_xaxis().set_visible(False)\n",
    "    subplot.axes.get_yaxis().set_visible(False)\n",
    "plt.show()"
   ]
  },
  {
   "cell_type": "code",
   "execution_count": 10,
   "metadata": {
    "collapsed": true
   },
   "outputs": [],
   "source": [
    "np.save(\"datasets/preprocessed_train_images.npy\", prepareToSaveNPY(unravel(train_x)))\n",
    "np.save(\"datasets/preprocessed_test_images.npy\", prepareToSaveNPY(unravel(test_x)))"
   ]
  },
  {
   "cell_type": "code",
   "execution_count": null,
   "metadata": {
    "collapsed": true
   },
   "outputs": [],
   "source": []
  }
 ],
 "metadata": {
  "kernelspec": {
   "display_name": "Python 3",
   "language": "python",
   "name": "python3"
  },
  "language_info": {
   "codemirror_mode": {
    "name": "ipython",
    "version": 3
   },
   "file_extension": ".py",
   "mimetype": "text/x-python",
   "name": "python",
   "nbconvert_exporter": "python",
   "pygments_lexer": "ipython3",
   "version": "3.6.5"
  }
 },
 "nbformat": 4,
 "nbformat_minor": 2
}
