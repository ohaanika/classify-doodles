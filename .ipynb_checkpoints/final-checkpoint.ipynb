{
 "cells": [
  {
   "cell_type": "code",
   "execution_count": 1,
   "metadata": {
    "collapsed": true
   },
   "outputs": [],
   "source": [
    "# import necessary libraries\n",
    "import os\n",
    "import numpy as np\n",
    "import pandas as pd\n",
    "import matplotlib.pyplot as plt\n",
    "import cv2\n",
    "# preprocessing\n",
    "from sklearn import preprocessing\n",
    "from sklearn.model_selection import train_test_split"
   ]
  },
  {
   "cell_type": "code",
   "execution_count": 2,
   "metadata": {
    "collapsed": true
   },
   "outputs": [],
   "source": [
    "# import datasets \n",
    "train_labels = pd.read_csv(\"datasets/train_labels.csv\", delimiter=\",\", header=0, index_col=0)\n",
    "train_images = np.load(\"datasets/train_images.npy\", encoding=\"latin1\")\n",
    "test_images = np.load(\"datasets/train_images.npy\", encoding=\"latin1\")"
   ]
  },
  {
   "cell_type": "code",
   "execution_count": 3,
   "metadata": {},
   "outputs": [],
   "source": [
    "# store copies, may wish to retrieve original datasets\n",
    "copy_train_labels = np.copy(train_labels)\n",
    "copy_train_images = np.copy(train_images)\n",
    "copy_test_images = np.copy(test_images)\n",
    " \n",
    "# restore original datasets\n",
    "def restore():\n",
    "    train_labels = np.copy(copy_train_labels)\n",
    "    train_images = np.copy(copy_train_images)\n",
    "    test_images = np.copy(copy_test_images)\n",
    "    return train_labels, train_images, test_images"
   ]
  },
  {
   "cell_type": "code",
   "execution_count": 4,
   "metadata": {},
   "outputs": [
    {
     "name": "stdout",
     "output_type": "stream",
     "text": [
      "(10000, 1)\n",
      "(10000, 2)\n",
      "(10000, 2)\n"
     ]
    }
   ],
   "source": [
    "# check shape\n",
    "print(train_labels.shape)\n",
    "print(train_images.shape)\n",
    "print(test_images.shape)"
   ]
  },
  {
   "cell_type": "code",
   "execution_count": 62,
   "metadata": {
    "collapsed": true
   },
   "outputs": [],
   "source": [
    "# RUN FROM FROM HERE IF DATASETS NEED TO BE RESTORED\n",
    "train_labels, train_images, test_images = restore()"
   ]
  },
  {
   "cell_type": "code",
   "execution_count": 6,
   "metadata": {},
   "outputs": [],
   "source": [
    "# reshape labels to 1d array, encode labels to integers\n",
    "train_labels = np.array(train_labels).reshape(-1)\n",
    "le = preprocessing.LabelEncoder()\n",
    "le.fit(train_labels)\n",
    "train_y = le.transform(train_labels)"
   ]
  },
  {
   "cell_type": "code",
   "execution_count": 7,
   "metadata": {},
   "outputs": [
    {
     "name": "stdout",
     "output_type": "stream",
     "text": [
      "['shovel' 'rifle' 'scorpion' ..., 'rollerskates' 'mouth' 'pencil']\n",
      "[25 20 23 ..., 21  3 13]\n"
     ]
    }
   ],
   "source": [
    "# check labels\n",
    "print(train_labels)\n",
    "print(train_y)"
   ]
  },
  {
   "cell_type": "code",
   "execution_count": 70,
   "metadata": {},
   "outputs": [
    {
     "name": "stdout",
     "output_type": "stream",
     "text": [
      "[3 array([ 0.,  0.,  0., ...,  0.,  0.,  0.])]\n"
     ]
    }
   ],
   "source": [
    "print(train_images[3])"
   ]
  },
  {
   "cell_type": "code",
   "execution_count": 59,
   "metadata": {},
   "outputs": [
    {
     "name": "stdout",
     "output_type": "stream",
     "text": [
      "(2,)\n",
      "(10000, 2)\n",
      "[[0 array([ 0.,  0.,  0., ...,  0.,  0.,  0.])]\n",
      " [1 array([ 0.,  0.,  0., ...,  0.,  0.,  0.])]\n",
      " [2 array([ 0.,  0.,  0., ...,  0.,  0.,  0.])]\n",
      " ..., \n",
      " [9997 array([ 0.,  0.,  0., ...,  0.,  0.,  0.])]\n",
      " [9998 array([ 255.,  255.,  255., ...,    0.,    0.,    0.])]\n",
      " [9999 array([ 0.,  0.,  0., ...,  0.,  0.,  0.])]]\n"
     ]
    }
   ],
   "source": [
    "print(train_images[0].shape)\n",
    "print(train_images.shape)\n",
    "print(train_images)"
   ]
  },
  {
   "cell_type": "code",
   "execution_count": 60,
   "metadata": {},
   "outputs": [],
   "source": [
    "# reshape images\n",
    "train_images = train_images.reshape(-1, 10000)\n",
    "train_images = train_images.reshape(-1, 100, 100)"
   ]
  },
  {
   "cell_type": "code",
   "execution_count": 61,
   "metadata": {},
   "outputs": [
    {
     "name": "stdout",
     "output_type": "stream",
     "text": [
      "(2, 100, 100)\n",
      "[[[0 array([ 0.,  0.,  0., ...,  0.,  0.,  0.]) 1 ...,\n",
      "   array([ 0.,  0.,  0., ...,  0.,  0.,  0.]) 49\n",
      "   array([ 0.,  0.,  0., ...,  0.,  0.,  0.])]\n",
      "  [50 array([ 0.,  0.,  0., ...,  0.,  0.,  0.]) 51 ...,\n",
      "   array([ 0.,  0.,  0., ...,  0.,  0.,  0.]) 99\n",
      "   array([ 0.,  0.,  0., ...,  0.,  0.,  0.])]\n",
      "  [100 array([ 0.,  0.,  0., ...,  0.,  0.,  0.]) 101 ...,\n",
      "   array([ 0.,  0.,  0., ...,  0.,  0.,  0.]) 149\n",
      "   array([ 0.,  0.,  0., ...,  0.,  0.,  0.])]\n",
      "  ..., \n",
      "  [4850 array([ 0.,  0.,  0., ...,  0.,  0.,  0.]) 4851 ...,\n",
      "   array([ 0.,  0.,  0., ...,  0.,  0.,  0.]) 4899\n",
      "   array([ 255.,   73.,   23., ...,    0.,    0.,    0.])]\n",
      "  [4900 array([ 0.,  0.,  0., ...,  0.,  0.,  0.]) 4901 ...,\n",
      "   array([ 0.,  0.,  0., ...,  0.,  0.,  0.]) 4949\n",
      "   array([ 0.,  0.,  0., ...,  0.,  0.,  0.])]\n",
      "  [4950 array([ 0.,  0.,  0., ...,  0.,  0.,  0.]) 4951 ...,\n",
      "   array([ 0.,  0.,  0., ...,  0.,  0.,  0.]) 4999\n",
      "   array([ 14.,   0.,   0., ...,   0.,   0.,   0.])]]\n",
      "\n",
      " [[5000 array([ 0.,  0.,  0., ...,  0.,  0.,  0.]) 5001 ...,\n",
      "   array([ 0.,  0.,  0., ...,  0.,  0.,  0.]) 5049\n",
      "   array([ 0.,  0.,  0., ...,  0.,  0.,  0.])]\n",
      "  [5050 array([ 0.,  0.,  0., ...,  0.,  0.,  0.]) 5051 ...,\n",
      "   array([ 0.,  0.,  0., ...,  0.,  0.,  0.]) 5099\n",
      "   array([ 0.,  0.,  0., ...,  0.,  0.,  0.])]\n",
      "  [5100 array([ 0.,  0.,  0., ...,  0.,  0.,  0.]) 5101 ...,\n",
      "   array([ 0.,  0.,  0., ...,  0.,  0.,  0.]) 5149\n",
      "   array([ 0.,  0.,  0., ...,  0.,  0.,  0.])]\n",
      "  ..., \n",
      "  [9850 array([ 0.,  0.,  0., ...,  0.,  0.,  0.]) 9851 ...,\n",
      "   array([ 0.,  0.,  0., ...,  0.,  0.,  0.]) 9899\n",
      "   array([ 0.,  0.,  0., ...,  0.,  0.,  0.])]\n",
      "  [9900 array([ 0.,  0.,  0., ...,  0.,  0.,  0.]) 9901 ...,\n",
      "   array([ 0.,  0.,  0., ...,  0.,  0.,  0.]) 9949\n",
      "   array([ 0.,  0.,  0., ...,  0.,  0.,  0.])]\n",
      "  [9950 array([ 0.,  0.,  0., ...,  0.,  0.,  0.]) 9951 ...,\n",
      "   array([ 255.,  255.,  255., ...,    0.,    0.,    0.]) 9999\n",
      "   array([ 0.,  0.,  0., ...,  0.,  0.,  0.])]]]\n"
     ]
    }
   ],
   "source": [
    "#print(train_images[0].shape)\n",
    "print(train_images.shape)\n",
    "print(train_images)"
   ]
  },
  {
   "cell_type": "code",
   "execution_count": null,
   "metadata": {
    "collapsed": true
   },
   "outputs": [],
   "source": []
  },
  {
   "cell_type": "code",
   "execution_count": null,
   "metadata": {},
   "outputs": [],
   "source": []
  },
  {
   "cell_type": "code",
   "execution_count": 42,
   "metadata": {},
   "outputs": [
    {
     "name": "stdout",
     "output_type": "stream",
     "text": [
      "100\n"
     ]
    }
   ],
   "source": [
    "print(train_images[0][2][0])"
   ]
  },
  {
   "cell_type": "code",
   "execution_count": null,
   "metadata": {},
   "outputs": [],
   "source": []
  },
  {
   "cell_type": "code",
   "execution_count": 30,
   "metadata": {},
   "outputs": [
    {
     "ename": "TypeError",
     "evalue": "Image data can not convert to float",
     "output_type": "error",
     "traceback": [
      "\u001b[1;31m---------------------------------------------------------------------------\u001b[0m",
      "\u001b[1;31mTypeError\u001b[0m                                 Traceback (most recent call last)",
      "\u001b[1;32m<ipython-input-30-fe8a239967f9>\u001b[0m in \u001b[0;36m<module>\u001b[1;34m()\u001b[0m\n\u001b[1;32m----> 1\u001b[1;33m \u001b[0mplt\u001b[0m\u001b[1;33m.\u001b[0m\u001b[0mimshow\u001b[0m\u001b[1;33m(\u001b[0m\u001b[0mtrain_images\u001b[0m\u001b[1;33m[\u001b[0m\u001b[1;36m0\u001b[0m\u001b[1;33m]\u001b[0m\u001b[1;33m,\u001b[0m \u001b[0mcmap\u001b[0m\u001b[1;33m=\u001b[0m\u001b[1;34m'gray_r'\u001b[0m\u001b[1;33m)\u001b[0m\u001b[1;33m\u001b[0m\u001b[0m\n\u001b[0m",
      "\u001b[1;32mC:\\Users\\AanikaRahman\\Anaconda3\\lib\\site-packages\\matplotlib\\pyplot.py\u001b[0m in \u001b[0;36mimshow\u001b[1;34m(X, cmap, norm, aspect, interpolation, alpha, vmin, vmax, origin, extent, shape, filternorm, filterrad, imlim, resample, url, hold, data, **kwargs)\u001b[0m\n\u001b[0;32m   3155\u001b[0m                         \u001b[0mfilternorm\u001b[0m\u001b[1;33m=\u001b[0m\u001b[0mfilternorm\u001b[0m\u001b[1;33m,\u001b[0m \u001b[0mfilterrad\u001b[0m\u001b[1;33m=\u001b[0m\u001b[0mfilterrad\u001b[0m\u001b[1;33m,\u001b[0m\u001b[1;33m\u001b[0m\u001b[0m\n\u001b[0;32m   3156\u001b[0m                         \u001b[0mimlim\u001b[0m\u001b[1;33m=\u001b[0m\u001b[0mimlim\u001b[0m\u001b[1;33m,\u001b[0m \u001b[0mresample\u001b[0m\u001b[1;33m=\u001b[0m\u001b[0mresample\u001b[0m\u001b[1;33m,\u001b[0m \u001b[0murl\u001b[0m\u001b[1;33m=\u001b[0m\u001b[0murl\u001b[0m\u001b[1;33m,\u001b[0m \u001b[0mdata\u001b[0m\u001b[1;33m=\u001b[0m\u001b[0mdata\u001b[0m\u001b[1;33m,\u001b[0m\u001b[1;33m\u001b[0m\u001b[0m\n\u001b[1;32m-> 3157\u001b[1;33m                         **kwargs)\n\u001b[0m\u001b[0;32m   3158\u001b[0m     \u001b[1;32mfinally\u001b[0m\u001b[1;33m:\u001b[0m\u001b[1;33m\u001b[0m\u001b[0m\n\u001b[0;32m   3159\u001b[0m         \u001b[0max\u001b[0m\u001b[1;33m.\u001b[0m\u001b[0m_hold\u001b[0m \u001b[1;33m=\u001b[0m \u001b[0mwashold\u001b[0m\u001b[1;33m\u001b[0m\u001b[0m\n",
      "\u001b[1;32mC:\\Users\\AanikaRahman\\Anaconda3\\lib\\site-packages\\matplotlib\\__init__.py\u001b[0m in \u001b[0;36minner\u001b[1;34m(ax, *args, **kwargs)\u001b[0m\n\u001b[0;32m   1895\u001b[0m                     warnings.warn(msg % (label_namer, func.__name__),\n\u001b[0;32m   1896\u001b[0m                                   RuntimeWarning, stacklevel=2)\n\u001b[1;32m-> 1897\u001b[1;33m             \u001b[1;32mreturn\u001b[0m \u001b[0mfunc\u001b[0m\u001b[1;33m(\u001b[0m\u001b[0max\u001b[0m\u001b[1;33m,\u001b[0m \u001b[1;33m*\u001b[0m\u001b[0margs\u001b[0m\u001b[1;33m,\u001b[0m \u001b[1;33m**\u001b[0m\u001b[0mkwargs\u001b[0m\u001b[1;33m)\u001b[0m\u001b[1;33m\u001b[0m\u001b[0m\n\u001b[0m\u001b[0;32m   1898\u001b[0m         \u001b[0mpre_doc\u001b[0m \u001b[1;33m=\u001b[0m \u001b[0minner\u001b[0m\u001b[1;33m.\u001b[0m\u001b[0m__doc__\u001b[0m\u001b[1;33m\u001b[0m\u001b[0m\n\u001b[0;32m   1899\u001b[0m         \u001b[1;32mif\u001b[0m \u001b[0mpre_doc\u001b[0m \u001b[1;32mis\u001b[0m \u001b[1;32mNone\u001b[0m\u001b[1;33m:\u001b[0m\u001b[1;33m\u001b[0m\u001b[0m\n",
      "\u001b[1;32mC:\\Users\\AanikaRahman\\Anaconda3\\lib\\site-packages\\matplotlib\\axes\\_axes.py\u001b[0m in \u001b[0;36mimshow\u001b[1;34m(self, X, cmap, norm, aspect, interpolation, alpha, vmin, vmax, origin, extent, shape, filternorm, filterrad, imlim, resample, url, **kwargs)\u001b[0m\n\u001b[0;32m   5122\u001b[0m                               resample=resample, **kwargs)\n\u001b[0;32m   5123\u001b[0m \u001b[1;33m\u001b[0m\u001b[0m\n\u001b[1;32m-> 5124\u001b[1;33m         \u001b[0mim\u001b[0m\u001b[1;33m.\u001b[0m\u001b[0mset_data\u001b[0m\u001b[1;33m(\u001b[0m\u001b[0mX\u001b[0m\u001b[1;33m)\u001b[0m\u001b[1;33m\u001b[0m\u001b[0m\n\u001b[0m\u001b[0;32m   5125\u001b[0m         \u001b[0mim\u001b[0m\u001b[1;33m.\u001b[0m\u001b[0mset_alpha\u001b[0m\u001b[1;33m(\u001b[0m\u001b[0malpha\u001b[0m\u001b[1;33m)\u001b[0m\u001b[1;33m\u001b[0m\u001b[0m\n\u001b[0;32m   5126\u001b[0m         \u001b[1;32mif\u001b[0m \u001b[0mim\u001b[0m\u001b[1;33m.\u001b[0m\u001b[0mget_clip_path\u001b[0m\u001b[1;33m(\u001b[0m\u001b[1;33m)\u001b[0m \u001b[1;32mis\u001b[0m \u001b[1;32mNone\u001b[0m\u001b[1;33m:\u001b[0m\u001b[1;33m\u001b[0m\u001b[0m\n",
      "\u001b[1;32mC:\\Users\\AanikaRahman\\Anaconda3\\lib\\site-packages\\matplotlib\\image.py\u001b[0m in \u001b[0;36mset_data\u001b[1;34m(self, A)\u001b[0m\n\u001b[0;32m    594\u001b[0m         if (self._A.dtype != np.uint8 and\n\u001b[0;32m    595\u001b[0m                 not np.can_cast(self._A.dtype, np.float)):\n\u001b[1;32m--> 596\u001b[1;33m             \u001b[1;32mraise\u001b[0m \u001b[0mTypeError\u001b[0m\u001b[1;33m(\u001b[0m\u001b[1;34m\"Image data can not convert to float\"\u001b[0m\u001b[1;33m)\u001b[0m\u001b[1;33m\u001b[0m\u001b[0m\n\u001b[0m\u001b[0;32m    597\u001b[0m \u001b[1;33m\u001b[0m\u001b[0m\n\u001b[0;32m    598\u001b[0m         if (self._A.ndim not in (2, 3) or\n",
      "\u001b[1;31mTypeError\u001b[0m: Image data can not convert to float"
     ]
    }
   ],
   "source": [
    "plt.imshow(train_images[0], cmap='gray_r')"
   ]
  },
  {
   "cell_type": "code",
   "execution_count": null,
   "metadata": {},
   "outputs": [],
   "source": []
  },
  {
   "cell_type": "code",
   "execution_count": null,
   "metadata": {
    "collapsed": true
   },
   "outputs": [],
   "source": []
  }
 ],
 "metadata": {
  "kernelspec": {
   "display_name": "Python 3",
   "language": "python",
   "name": "python3"
  },
  "language_info": {
   "codemirror_mode": {
    "name": "ipython",
    "version": 3
   },
   "file_extension": ".py",
   "mimetype": "text/x-python",
   "name": "python",
   "nbconvert_exporter": "python",
   "pygments_lexer": "ipython3",
   "version": "3.6.1"
  }
 },
 "nbformat": 4,
 "nbformat_minor": 2
}
