{
 "cells": [
  {
   "cell_type": "markdown",
   "metadata": {
    "colab_type": "text",
    "id": "view-in-github"
   },
   "source": [
    "<a href=\"https://colab.research.google.com/github/ohaanika/classify-doodles/blob/master/model_cnn.ipynb\" target=\"_parent\"><img src=\"https://colab.research.google.com/assets/colab-badge.svg\" alt=\"Open In Colab\"/></a>"
   ]
  },
  {
   "cell_type": "code",
   "execution_count": 1,
   "metadata": {
    "colab": {},
    "colab_type": "code",
    "id": "XJtGwzKHxtIG"
   },
   "outputs": [],
   "source": [
    "import cv2\n",
    "import numpy as np\n",
    "import os\n",
    "from tqdm import tqdm\n",
    "import pandas as pd\n",
    "import matplotlib.pyplot as plt\n",
    "\n",
    "TRAIN_DIR = 'datasets/train_images.npy'\n",
    "TRAIN_LABEL_DIR = 'datasets/train_labels.csv'\n",
    "TEST_DIR = 'datasets/test_images.npy'\n",
    "TRAIN_DIR_PRE = 'datasets/preprocessed_train_images.npy'\n",
    "TEST_DIR_PRE = 'datasets/preprocessed_test_images.npy'\n",
    "IMG_SIZE = 100\n",
    "LR = 1e-3\n",
    "\n",
    "#MODEL_NAME  = 'hand-drawn-{}-{}.model'.format(LR, '2conv-basic')\n",
    "MODEL_NAME  = 'hand-drawn-{}-{}.model'.format(LR, '6conv-basic')"
   ]
  },
  {
   "cell_type": "code",
   "execution_count": 2,
   "metadata": {
    "colab": {
     "base_uri": "https://localhost:8080/",
     "height": 88
    },
    "colab_type": "code",
    "id": "q9dki06wjT4S",
    "outputId": "23bcb4e0-00e8-4df9-f3a8-5a8ba6427f6d"
   },
   "outputs": [
    {
     "name": "stdout",
     "output_type": "stream",
     "text": [
      "[['sink', 0], ['pear', 1], ['moustache', 2], ['nose', 3], ['skateboard', 4], ['penguin', 5], ['peanut', 6], ['skull', 7], ['panda', 8], ['paintbrush', 9], ['nail', 10], ['apple', 11], ['rifle', 12], ['mug', 13], ['sailboat', 14], ['pineapple', 15], ['spoon', 16], ['rabbit', 17], ['shovel', 18], ['rollerskates', 19], ['screwdriver', 20], ['scorpion', 21], ['rhinoceros', 22], ['pool', 23], ['octagon', 24], ['pillow', 25], ['parrot', 26], ['squiggle', 27], ['mouth', 28], ['empty', 29], ['pencil', 30]]\n"
     ]
    },
    {
     "data": {
      "text/plain": [
       "array([0])"
      ]
     },
     "execution_count": 2,
     "metadata": {},
     "output_type": "execute_result"
    }
   ],
   "source": [
    "cate = ['sink','pear','moustache','nose','skateboard','penguin'\n",
    "              ,'peanut','skull','panda','paintbrush','nail','apple',\n",
    "              'rifle','mug','sailboat','pineapple','spoon','rabbit',\n",
    "              'shovel','rollerskates','screwdriver','scorpion','rhinoceros'\n",
    "              ,'pool','octagon','pillow','parrot','squiggle','mouth',\n",
    "               'empty','pencil']\n",
    "categories = []\n",
    "i=0\n",
    "for name in cate:\n",
    "  categories.append([name,i])\n",
    "  i+=1\n",
    "print(categories)\n",
    "from sklearn import preprocessing\n",
    "#This will give a 1-of-k coding scheme with alphbat sequence\n",
    "lb = preprocessing.LabelBinarizer()\n",
    "lb.fit(cate)\n",
    "lb.transform(['apple']).argmax(axis=-1)"
   ]
  },
  {
   "cell_type": "code",
   "execution_count": 3,
   "metadata": {},
   "outputs": [
    {
     "data": {
      "text/plain": [
       "array([ 0, 12])"
      ]
     },
     "execution_count": 3,
     "metadata": {},
     "output_type": "execute_result"
    }
   ],
   "source": [
    "lb.transform(['apple','pear']).argmax(axis=-1)"
   ]
  },
  {
   "cell_type": "code",
   "execution_count": 4,
   "metadata": {
    "colab": {},
    "colab_type": "code",
    "id": "Dt9xGTuVxtIO"
   },
   "outputs": [],
   "source": [
    "#train_row = np.load(TRAIN_DIR, encoding = 'latin1')\n",
    "#Notice here preprocessed image as input\n",
    "train_row = np.load(TRAIN_DIR_PRE, encoding = 'latin1')\n",
    "train_label = np.array(pd.read_csv(TRAIN_LABEL_DIR, delimiter=\",\"))"
   ]
  },
  {
   "cell_type": "code",
   "execution_count": 5,
   "metadata": {},
   "outputs": [],
   "source": [
    "final_test = np.load(TEST_DIR_PRE,encoding='latin1')"
   ]
  },
  {
   "cell_type": "code",
   "execution_count": 6,
   "metadata": {
    "colab": {
     "base_uri": "https://localhost:8080/",
     "height": 224
    },
    "colab_type": "code",
    "id": "O5p9yl0Khwg4",
    "outputId": "b0e60550-0456-4250-9e26-34d2e8245dd9"
   },
   "outputs": [],
   "source": [
    "train_labels = train_label[:,1]\n",
    "train_x = train_row[:,1]\n",
    "train_data = []\n",
    "for i in range(len(train_labels)):\n",
    "  encoded = lb.transform([train_labels[i]])\n",
    "  train_data.append([np.array(train_x[i]), encoded[0]])"
   ]
  },
  {
   "cell_type": "code",
   "execution_count": 7,
   "metadata": {
    "colab": {},
    "colab_type": "code",
    "id": "8ipOCjIUxtIR"
   },
   "outputs": [],
   "source": [
    "import tflearn\n",
    "from tflearn.layers.conv import conv_2d, max_pool_2d\n",
    "from tflearn.layers.core import input_data, dropout, fully_connected\n",
    "from tflearn.layers.estimator import regression\n",
    "\n",
    "import tensorflow as tf\n"
   ]
  },
  {
   "cell_type": "code",
   "execution_count": 8,
   "metadata": {
    "colab": {},
    "colab_type": "code",
    "id": "8ipOCjIUxtIR",
    "scrolled": true
   },
   "outputs": [
    {
     "name": "stdout",
     "output_type": "stream",
     "text": [
      "WARNING:tensorflow:From /home/ubuntu/anaconda3/envs/tensorflow_p36/lib/python3.6/site-packages/tflearn/initializations.py:119: UniformUnitScaling.__init__ (from tensorflow.python.ops.init_ops) is deprecated and will be removed in a future version.\n",
      "Instructions for updating:\n",
      "Use tf.initializers.variance_scaling instead with distribution=uniform to get equivalent behavior.\n",
      "WARNING:tensorflow:From /home/ubuntu/anaconda3/envs/tensorflow_p36/lib/python3.6/site-packages/tflearn/objectives.py:66: calling reduce_sum (from tensorflow.python.ops.math_ops) with keep_dims is deprecated and will be removed in a future version.\n",
      "Instructions for updating:\n",
      "keep_dims is deprecated, use keepdims instead\n"
     ]
    }
   ],
   "source": [
    "tf.reset_default_graph()\n",
    "convent = input_data(shape = [None, IMG_SIZE, IMG_SIZE, 1],name = 'input')\n",
    "\n",
    "convent = conv_2d(convent, 32, 2, activation = 'relu')\n",
    "convent = max_pool_2d(convent, 2)\n",
    "\n",
    "convent = conv_2d(convent, 64, 2, activation = 'relu')\n",
    "convent = max_pool_2d(convent, 2)\n",
    "\n",
    "convent = conv_2d(convent, 32, 2, activation = 'relu')\n",
    "convent = max_pool_2d(convent, 2)\n",
    "\n",
    "convent = conv_2d(convent, 64, 2, activation = 'relu')\n",
    "convent = max_pool_2d(convent, 2)\n",
    "\n",
    "convent = conv_2d(convent, 32, 2, activation = 'relu')\n",
    "convent = max_pool_2d(convent, 2)\n",
    "\n",
    "convent = conv_2d(convent, 64, 2, activation = 'relu')\n",
    "convent = max_pool_2d(convent, 2)\n",
    "\n",
    "convent = fully_connected(convent, 1024, activation = 'relu')\n",
    "convent = dropout(convent, 0.8)\n",
    "\n",
    "convent = fully_connected(convent, 31, activation ='softmax')\n",
    "convent = regression(convent, optimizer = 'adam', learning_rate = LR, loss='categorical_crossentropy', name = 'target')\n",
    "\n",
    "model = tflearn.DNN(convent, tensorboard_dir = 'log')"
   ]
  },
  {
   "cell_type": "code",
   "execution_count": 9,
   "metadata": {
    "colab": {},
    "colab_type": "code",
    "id": "EA-tJGn_xtIW"
   },
   "outputs": [
    {
     "name": "stdout",
     "output_type": "stream",
     "text": [
      "INFO:tensorflow:Restoring parameters from /home/ubuntu/Documents/comp551/classify-doodles/hand-drawn-0.001-6conv-basic.model\n",
      "model loaded!\n"
     ]
    }
   ],
   "source": [
    "if os.path.exists('{}.meta'.format(MODEL_NAME)):\n",
    "    model.load(MODEL_NAME)\n",
    "    print('model loaded!')"
   ]
  },
  {
   "cell_type": "code",
   "execution_count": 10,
   "metadata": {
    "colab": {
     "base_uri": "https://localhost:8080/",
     "height": 51
    },
    "colab_type": "code",
    "id": "nhUX-k1bYv8Y",
    "outputId": "5316de63-0360-408e-c61a-a5b21f022eda"
   },
   "outputs": [],
   "source": [
    "train = train_data[:7000]\n",
    "valid = train_data[7000:9000]\n",
    "test = train_data[9000:]"
   ]
  },
  {
   "cell_type": "code",
   "execution_count": 11,
   "metadata": {},
   "outputs": [
    {
     "data": {
      "text/plain": [
       "(1000, 2)"
      ]
     },
     "execution_count": 11,
     "metadata": {},
     "output_type": "execute_result"
    }
   ],
   "source": [
    "np.asarray(test).shape"
   ]
  },
  {
   "cell_type": "code",
   "execution_count": 12,
   "metadata": {},
   "outputs": [],
   "source": [
    "# the shape of preprocessed test set is (10000,2) idx 0: img, idx 1:id\n",
    "final_test = final_test[:,1]"
   ]
  },
  {
   "cell_type": "code",
   "execution_count": 13,
   "metadata": {},
   "outputs": [],
   "source": [
    "final_test_x = np.array([i for i in final_test]).reshape(-1,IMG_SIZE,IMG_SIZE,1)"
   ]
  },
  {
   "cell_type": "code",
   "execution_count": 14,
   "metadata": {
    "colab": {},
    "colab_type": "code",
    "id": "PM5PSMGTZFIw"
   },
   "outputs": [],
   "source": [
    "X = np.array([i[0] for i in train]).reshape(-1, IMG_SIZE, IMG_SIZE, 1)\n",
    "Y = [i[1] for i in train]\n",
    "Y = np.reshape(Y,(-1,31))\n",
    "\n",
    "\n",
    "valid_x = np.array([i[0] for i in valid]).reshape(-1, IMG_SIZE, IMG_SIZE, 1)\n",
    "valid_y = np.array([i[1] for i in valid]).reshape(-1,31)\n",
    "\n",
    "test_x = np.array([i[0] for i in test]).reshape(-1, IMG_SIZE, IMG_SIZE, 1)\n",
    "test_y = np.array([i[1] for i in test]).reshape(-1,31)"
   ]
  },
  {
   "cell_type": "code",
   "execution_count": 15,
   "metadata": {
    "colab": {
     "base_uri": "https://localhost:8080/",
     "height": 68
    },
    "colab_type": "code",
    "id": "zvpRyJYyrfCc",
    "outputId": "d9cb4c31-2f63-45b1-e41c-05b2206ecb2e"
   },
   "outputs": [
    {
     "name": "stdout",
     "output_type": "stream",
     "text": [
      "(7000, 100, 100, 1)\n",
      "(7000, 31)\n",
      "(100, 100, 1)\n"
     ]
    }
   ],
   "source": [
    "print(X.shape)\n",
    "print(Y.shape)\n",
    "print(valid_x[0].shape)"
   ]
  },
  {
   "cell_type": "code",
   "execution_count": 33,
   "metadata": {
    "colab": {
     "base_uri": "https://localhost:8080/",
     "height": 102
    },
    "colab_type": "code",
    "id": "9AxzMX1iZo94",
    "outputId": "6157bc65-e280-44ff-b6bc-334749a1c403",
    "scrolled": true
   },
   "outputs": [
    {
     "name": "stdout",
     "output_type": "stream",
     "text": [
      "Training Step: 1649  | total loss: \u001b[1m\u001b[32m0.72717\u001b[0m\u001b[0m | time: 14.403s\n",
      "| Adam | epoch: 015 | loss: 0.72717 - acc: 0.7669 -- iter: 6976/7000\n",
      "Training Step: 1650  | total loss: \u001b[1m\u001b[32m0.74721\u001b[0m\u001b[0m | time: 15.794s\n",
      "| Adam | epoch: 015 | loss: 0.74721 - acc: 0.7636 | val_loss: 2.84847 - val_acc: 0.4230 -- iter: 7000/7000\n",
      "--\n"
     ]
    }
   ],
   "source": [
    "model.fit(X, Y, n_epoch = 15, validation_set = (valid_x,valid_y),\n",
    "          snapshot_step=500, show_metric=True, run_id=MODEL_NAME)"
   ]
  },
  {
   "cell_type": "code",
   "execution_count": 27,
   "metadata": {
    "colab": {
     "base_uri": "https://localhost:8080/",
     "height": 34
    },
    "colab_type": "code",
    "id": "d1v2boVQcFNB",
    "outputId": "6c482f3c-dd30-42ac-b772-86c45a5b5b6b"
   },
   "outputs": [
    {
     "name": "stdout",
     "output_type": "stream",
     "text": [
      "INFO:tensorflow:/home/ubuntu/Documents/comp551/classify-doodles/hand-drawn-0.001-6conv-basic.model is not in all_model_checkpoint_paths. Manually adding it.\n"
     ]
    }
   ],
   "source": [
    "model.save(MODEL_NAME)"
   ]
  },
  {
   "cell_type": "code",
   "execution_count": 24,
   "metadata": {},
   "outputs": [],
   "source": [
    "categories = {0:'apple',1:'empty',2:'moustache', 3:'mouth', 4:'mug', 5:'nail', 6:'nose'\\\n",
    "              ,7:'octagon', 8:'paintbrush', 9:'panda', 10:'parrot',11:'peanut',\\\n",
    "              12:'pear', 13:'pencil', 14:'penguin',15:'pillow',16:'pineapple',17:'pool'\\\n",
    "              ,18:'rabbit', 19:'rhinoceros',20:'rifle',21:'rollerskates',22:'sailboat',\\\n",
    "              23:'scorpion',24:'screwdriver', 25:'shovel', 26:'sink', 27:'skateboard',\\\n",
    "              28:'skull',29:'spoon',30:'squiggle'}"
   ]
  },
  {
   "cell_type": "code",
   "execution_count": 27,
   "metadata": {
    "colab": {
     "base_uri": "https://localhost:8080/",
     "height": 549
    },
    "colab_type": "code",
    "id": "LOW5STu9eOVR",
    "outputId": "c601ea31-2cc7-46a8-fce2-cadbceb1d504"
   },
   "outputs": [
    {
     "data": {
      "image/png": "[encoded data removed]",
      "text/plain": [
       "<Figure size 432x288 with 15 Axes>"
      ]
     },
     "metadata": {},
     "output_type": "display_data"
    }
   ],
   "source": [
    "fig = plt.figure()\n",
    "# print(test[:12])\n",
    "for num, data in enumerate(final_test[-15:]):\n",
    "  #img_num = data[1]\n",
    "  img_data = data\n",
    "  \n",
    "  y = fig.add_subplot(3,5, num+1)\n",
    "  orig = img_data.reshape(IMG_SIZE, IMG_SIZE)\n",
    "  data = img_data.reshape(IMG_SIZE, IMG_SIZE, 1)\n",
    "  \n",
    "  model_out = model.predict([data])[0]\n",
    "  #print(model_out)\n",
    "  \n",
    "  name = model_out.argmax(axis=-1)\n",
    "  #name = lb.inverse_transform(name)\n",
    "\n",
    "  y.imshow(orig, cmap ='gray')\n",
    "  plt.title([name,(categories.get(name))])\n",
    "  y.axes.get_xaxis().set_visible(False)\n",
    "  y.axes.get_yaxis().set_visible(False)\n",
    "plt.show()"
   ]
  },
  {
   "cell_type": "code",
   "execution_count": 16,
   "metadata": {
    "colab": {},
    "colab_type": "code",
    "id": "qMA7GzO03LvV"
   },
   "outputs": [
    {
     "name": "stdout",
     "output_type": "stream",
     "text": [
      "0.446\n"
     ]
    }
   ],
   "source": [
    "acc = 0\n",
    "for num, data in enumerate(test):\n",
    "  img_num = data[1]\n",
    "  img_data = data[0]\n",
    "  \n",
    "  orig = img_data.reshape(IMG_SIZE, IMG_SIZE)\n",
    "  data = img_data.reshape(IMG_SIZE, IMG_SIZE, 1)\n",
    "  \n",
    "  model_out = model.predict([data])[0]  \n",
    "  prediction = model_out.argmax(axis=-1)\n",
    "  \n",
    "  true = img_num.argmax(axis=-1)\n",
    "  if(prediction == true): acc+=1\n",
    "result = acc/(len(test))\n",
    "print(result)"
   ]
  },
  {
   "cell_type": "code",
   "execution_count": 37,
   "metadata": {},
   "outputs": [],
   "source": [
    "from sklearn.metrics import accuracy_score"
   ]
  },
  {
   "cell_type": "code",
   "execution_count": 17,
   "metadata": {},
   "outputs": [],
   "source": [
    "pred_test = model.predict(final_test_x[:3000]).argmax(axis=-1)"
   ]
  },
  {
   "cell_type": "code",
   "execution_count": 18,
   "metadata": {},
   "outputs": [],
   "source": [
    "pred_test_p2 = model.predict(final_test_x[3000:6000]).argmax(axis=-1)\n",
    "pred_test_p3 = model.predict(final_test_x[6000:]).argmax(axis=-1)"
   ]
  },
  {
   "cell_type": "code",
   "execution_count": 19,
   "metadata": {},
   "outputs": [],
   "source": [
    "pred_test = np.hstack([pred_test,pred_test_p2,pred_test_p3])"
   ]
  },
  {
   "cell_type": "code",
   "execution_count": 20,
   "metadata": {},
   "outputs": [
    {
     "data": {
      "text/plain": [
       "(10000,)"
      ]
     },
     "execution_count": 20,
     "metadata": {},
     "output_type": "execute_result"
    }
   ],
   "source": [
    "pred_test.shape"
   ]
  },
  {
   "cell_type": "code",
   "execution_count": 22,
   "metadata": {},
   "outputs": [],
   "source": [
    "import csv"
   ]
  },
  {
   "cell_type": "code",
   "execution_count": 26,
   "metadata": {},
   "outputs": [],
   "source": [
    "with open(\"./output/submit_01.csv\",\"w\") as f:\n",
    "    wt = csv.writer(f,delimiter=',')\n",
    "    wt.writerow(['Id','Category'])\n",
    "    for idx,i in enumerate(pred_test):\n",
    "        wt.writerow([str(idx),str(categories.get(i))])"
   ]
  },
  {
   "cell_type": "code",
   "execution_count": 23,
   "metadata": {},
   "outputs": [
    {
     "name": "stdout",
     "output_type": "stream",
     "text": [
      "['\\ufeffapple', '0\\n']\n",
      "['empty', '1\\n']\n",
      "['moustache', '2\\n']\n",
      "['mouth', '3\\n']\n",
      "['mug', '4\\n']\n",
      "['nail', '5\\n']\n",
      "['nose', '6\\n']\n",
      "['octagon', '7\\n']\n",
      "['paintbrush', '8\\n']\n",
      "['panda', '9\\n']\n",
      "['parrot', '10\\n']\n",
      "['peanut', '11\\n']\n",
      "['pear', '12\\n']\n",
      "['pencil', '13\\n']\n",
      "['penguin', '14\\n']\n",
      "['pillow', '15\\n']\n",
      "['pineapple', '16\\n']\n",
      "['pool', '17\\n']\n",
      "[' ', '18\\n']\n",
      "['rhinoceros', '19\\n']\n",
      "['rifle', '20\\n']\n",
      "['rollerskates', '21\\n']\n",
      "['sailboat', '22\\n']\n",
      "['scorpion', '23\\n']\n",
      "['screwdriver', '24\\n']\n",
      "['shovel', '25\\n']\n",
      "['sink', '26\\n']\n",
      "['skateboard', '27\\n']\n",
      "['skull', '28\\n']\n",
      "['spoon', '29\\n']\n",
      "['squiggle', '30']\n"
     ]
    }
   ],
   "source": [
    "cat_dict = {}\n",
    "with open(\"./datasets/categories.csv\",'r') as f:\n",
    "    for line in f:\n",
    "        line = line.split(',')\n",
    "        print(line)"
   ]
  },
  {
   "cell_type": "code",
   "execution_count": 12,
   "metadata": {},
   "outputs": [],
   "source": [
    "from keras.models import Sequential\n",
    "from keras.layers import Dense, Dropout, Conv2D, MaxPooling2D, Flatten\n",
    "from keras.optimizers import *\n",
    "from keras.wrappers.scikit_learn import KerasClassifier\n",
    "import pprint\n",
    "\n",
    "def build_model(optimizer, learning_rate, activation, dropout_rate,\n",
    "                initilizer, num_unit):\n",
    "    model = Sequential()\n",
    "    model.add(Conv2D(30,2, activation = activation))\n",
    "    model.add(MaxPooling2D(pool_size = 2))\n",
    "    \n",
    "    model.add(Conv2D(64,2, activation = activation))\n",
    "    model.add(MaxPooling2D(pool_size = 2))\n",
    "    \n",
    "    model.add(Dropout(dropout_rate))\n",
    "    model.add(Flatten())\n",
    "    model.add(Dense(num_unit, activation = activation))\n",
    "    model.add(Dense(num_unit, activation = activation))\n",
    "    \n",
    "    model.add(Dense(31, activation = 'softmax'))\n",
    "    model.compile(loss='categorical_crossentropy', optimizer = optimizer, \n",
    "                 learning_rate = learning_rate, metrics = ['accuracy'])\n",
    "    return model"
   ]
  },
  {
   "cell_type": "code",
   "execution_count": 10,
   "metadata": {},
   "outputs": [],
   "source": [
    "batch_size = [20, 50, 100, 200]\n",
    "epochs = [5, 10, 15, 20]\n",
    "initilizer = ['lecun_uniform', 'normal', 'he_normal', 'he_uniform']\n",
    "learning_rate = [0.01, 0.1, 0.3]\n",
    "dropout_rate = [0.3, 0.2, 0.5]\n",
    "num_unit = [5,10]\n",
    "activation = ['relu', 'tanh', 'sigmoid', 'hard_sigmoid','linear']\n",
    "optimizer = ['SGD', 'Adam', 'Adamax', 'Adagrad']\n",
    "\n",
    "parameters = dict(batch_size = batch_size, epochs = epochs, \n",
    "                 dropout_rate = dropout_rate, num_unit = num_unit,\n",
    "                 initilizer = initilizer, learning_rate = learning_rate,\n",
    "                 activation = activation, optimizer = optimizer)"
   ]
  },
  {
   "cell_type": "code",
   "execution_count": 17,
   "metadata": {},
   "outputs": [],
   "source": [
    "from sklearn.model_selection import GridSearchCV\n",
    "new_model = KerasClassifier(build_fn = build_model, verbose =0)\n",
    "models = GridSearchCV(estimator = new_model, param_grid = parameters, scoring = 'accuracy')"
   ]
  },
  {
   "cell_type": "code",
   "execution_count": 16,
   "metadata": {},
   "outputs": [
    {
     "data": {
      "text/plain": [
       "(6000, 100, 100, 1)"
      ]
     },
     "execution_count": 16,
     "metadata": {},
     "output_type": "execute_result"
    }
   ],
   "source": [
    "valid_x.shape"
   ]
  },
  {
   "cell_type": "code",
   "execution_count": 23,
   "metadata": {},
   "outputs": [
    {
     "name": "stdout",
     "output_type": "stream",
     "text": [
      "Train on 6000 samples, validate on 2000 samples\n",
      "Epoch 1/15\n",
      "6000/6000 [==============================] - 36s 6ms/step - loss: 3.4542 - acc: 0.0438 - val_loss: 3.4299 - val_acc: 0.0465\n",
      "Epoch 2/15\n",
      "6000/6000 [==============================] - 33s 6ms/step - loss: 3.4195 - acc: 0.0528 - val_loss: 3.4247 - val_acc: 0.0530\n",
      "Epoch 3/15\n",
      "6000/6000 [==============================] - 33s 6ms/step - loss: 3.4046 - acc: 0.0567 - val_loss: 3.4184 - val_acc: 0.0560\n",
      "Epoch 4/15\n",
      "6000/6000 [==============================] - 33s 6ms/step - loss: 3.3860 - acc: 0.0588 - val_loss: 3.4190 - val_acc: 0.0610\n",
      "Epoch 5/15\n",
      "6000/6000 [==============================] - 33s 6ms/step - loss: 3.3674 - acc: 0.0622 - val_loss: 3.4108 - val_acc: 0.0645\n",
      "Epoch 6/15\n",
      "6000/6000 [==============================] - 35s 6ms/step - loss: 3.3448 - acc: 0.0655 - val_loss: 3.4100 - val_acc: 0.0625\n",
      "Epoch 7/15\n",
      "6000/6000 [==============================] - 33s 6ms/step - loss: 3.3174 - acc: 0.0800 - val_loss: 3.4082 - val_acc: 0.0635\n",
      "Epoch 8/15\n",
      "6000/6000 [==============================] - 33s 6ms/step - loss: 3.2922 - acc: 0.0803 - val_loss: 3.4124 - val_acc: 0.0715\n",
      "Epoch 9/15\n",
      "6000/6000 [==============================] - 33s 6ms/step - loss: 3.2647 - acc: 0.0872 - val_loss: 3.4048 - val_acc: 0.0730\n",
      "Epoch 10/15\n",
      "6000/6000 [==============================] - 33s 6ms/step - loss: 3.2319 - acc: 0.0887 - val_loss: 3.4173 - val_acc: 0.0760\n",
      "Epoch 11/15\n",
      "6000/6000 [==============================] - 33s 6ms/step - loss: 3.2033 - acc: 0.0955 - val_loss: 3.4190 - val_acc: 0.0795\n",
      "Epoch 12/15\n",
      "6000/6000 [==============================] - 35s 6ms/step - loss: 3.1765 - acc: 0.1007 - val_loss: 3.4139 - val_acc: 0.0685\n",
      "Epoch 13/15\n",
      "6000/6000 [==============================] - 33s 6ms/step - loss: 3.1447 - acc: 0.1083 - val_loss: 3.4168 - val_acc: 0.0815\n",
      "Epoch 14/15\n",
      " 400/6000 [=>............................] - ETA: 26s - loss: 3.0639 - acc: 0.1500"
     ]
    },
    {
     "ename": "KeyboardInterrupt",
     "evalue": "",
     "output_type": "error",
     "traceback": [
      "\u001b[0;31m---------------------------------------------------------------------------\u001b[0m",
      "\u001b[0;31mKeyboardInterrupt\u001b[0m                         Traceback (most recent call last)",
      "\u001b[0;32m<ipython-input-23-0f2088b7cd33>\u001b[0m in \u001b[0;36m<module>\u001b[0;34m()\u001b[0m\n\u001b[1;32m      1\u001b[0m test_model = build_model(optimizer='Adamax', learning_rate=1e-3, activation='relu', dropout_rate=0.5,\n\u001b[1;32m      2\u001b[0m                 initilizer='normal', num_unit=10)\n\u001b[0;32m----> 3\u001b[0;31m \u001b[0mbest_model\u001b[0m \u001b[0;34m=\u001b[0m \u001b[0mtest_model\u001b[0m\u001b[0;34m.\u001b[0m\u001b[0mfit\u001b[0m\u001b[0;34m(\u001b[0m\u001b[0mX\u001b[0m\u001b[0;34m,\u001b[0m\u001b[0mY\u001b[0m\u001b[0;34m,\u001b[0m \u001b[0mbatch_size\u001b[0m\u001b[0;34m=\u001b[0m\u001b[0;36m200\u001b[0m\u001b[0;34m,\u001b[0m \u001b[0mepochs\u001b[0m\u001b[0;34m=\u001b[0m\u001b[0;36m15\u001b[0m\u001b[0;34m,\u001b[0m \u001b[0mverbose\u001b[0m\u001b[0;34m=\u001b[0m\u001b[0;36m1\u001b[0m\u001b[0;34m,\u001b[0m \u001b[0mvalidation_data\u001b[0m\u001b[0;34m=\u001b[0m\u001b[0;34m(\u001b[0m\u001b[0mvalid_x\u001b[0m\u001b[0;34m,\u001b[0m \u001b[0mvalid_y\u001b[0m\u001b[0;34m)\u001b[0m\u001b[0;34m,\u001b[0m \u001b[0mshuffle\u001b[0m\u001b[0;34m=\u001b[0m\u001b[0;32mTrue\u001b[0m\u001b[0;34m,\u001b[0m \u001b[0minitial_epoch\u001b[0m\u001b[0;34m=\u001b[0m\u001b[0;36m0\u001b[0m\u001b[0;34m)\u001b[0m\u001b[0;34m\u001b[0m\u001b[0m\n\u001b[0m\u001b[1;32m      4\u001b[0m \u001b[0;31m# print('Best model :')\u001b[0m\u001b[0;34m\u001b[0m\u001b[0;34m\u001b[0m\u001b[0m\n\u001b[1;32m      5\u001b[0m \u001b[0;31m# pp.pprint(best_model.best_params_)\u001b[0m\u001b[0;34m\u001b[0m\u001b[0;34m\u001b[0m\u001b[0m\n",
      "\u001b[0;32m~/anaconda3/envs/tensorflow_p36/lib/python3.6/site-packages/keras/engine/training.py\u001b[0m in \u001b[0;36mfit\u001b[0;34m(self, x, y, batch_size, epochs, verbose, callbacks, validation_split, validation_data, shuffle, class_weight, sample_weight, initial_epoch, steps_per_epoch, validation_steps, **kwargs)\u001b[0m\n\u001b[1;32m   1035\u001b[0m                                         \u001b[0minitial_epoch\u001b[0m\u001b[0;34m=\u001b[0m\u001b[0minitial_epoch\u001b[0m\u001b[0;34m,\u001b[0m\u001b[0;34m\u001b[0m\u001b[0m\n\u001b[1;32m   1036\u001b[0m                                         \u001b[0msteps_per_epoch\u001b[0m\u001b[0;34m=\u001b[0m\u001b[0msteps_per_epoch\u001b[0m\u001b[0;34m,\u001b[0m\u001b[0;34m\u001b[0m\u001b[0m\n\u001b[0;32m-> 1037\u001b[0;31m                                         validation_steps=validation_steps)\n\u001b[0m\u001b[1;32m   1038\u001b[0m \u001b[0;34m\u001b[0m\u001b[0m\n\u001b[1;32m   1039\u001b[0m     def evaluate(self, x=None, y=None,\n",
      "\u001b[0;32m~/anaconda3/envs/tensorflow_p36/lib/python3.6/site-packages/keras/engine/training_arrays.py\u001b[0m in \u001b[0;36mfit_loop\u001b[0;34m(model, f, ins, out_labels, batch_size, epochs, verbose, callbacks, val_f, val_ins, shuffle, callback_metrics, initial_epoch, steps_per_epoch, validation_steps)\u001b[0m\n\u001b[1;32m    197\u001b[0m                     \u001b[0mins_batch\u001b[0m\u001b[0;34m[\u001b[0m\u001b[0mi\u001b[0m\u001b[0;34m]\u001b[0m \u001b[0;34m=\u001b[0m \u001b[0mins_batch\u001b[0m\u001b[0;34m[\u001b[0m\u001b[0mi\u001b[0m\u001b[0;34m]\u001b[0m\u001b[0;34m.\u001b[0m\u001b[0mtoarray\u001b[0m\u001b[0;34m(\u001b[0m\u001b[0;34m)\u001b[0m\u001b[0;34m\u001b[0m\u001b[0m\n\u001b[1;32m    198\u001b[0m \u001b[0;34m\u001b[0m\u001b[0m\n\u001b[0;32m--> 199\u001b[0;31m                 \u001b[0mouts\u001b[0m \u001b[0;34m=\u001b[0m \u001b[0mf\u001b[0m\u001b[0;34m(\u001b[0m\u001b[0mins_batch\u001b[0m\u001b[0;34m)\u001b[0m\u001b[0;34m\u001b[0m\u001b[0m\n\u001b[0m\u001b[1;32m    200\u001b[0m                 \u001b[0mouts\u001b[0m \u001b[0;34m=\u001b[0m \u001b[0mto_list\u001b[0m\u001b[0;34m(\u001b[0m\u001b[0mouts\u001b[0m\u001b[0;34m)\u001b[0m\u001b[0;34m\u001b[0m\u001b[0m\n\u001b[1;32m    201\u001b[0m                 \u001b[0;32mfor\u001b[0m \u001b[0ml\u001b[0m\u001b[0;34m,\u001b[0m \u001b[0mo\u001b[0m \u001b[0;32min\u001b[0m \u001b[0mzip\u001b[0m\u001b[0;34m(\u001b[0m\u001b[0mout_labels\u001b[0m\u001b[0;34m,\u001b[0m \u001b[0mouts\u001b[0m\u001b[0;34m)\u001b[0m\u001b[0;34m:\u001b[0m\u001b[0;34m\u001b[0m\u001b[0m\n",
      "\u001b[0;32m~/anaconda3/envs/tensorflow_p36/lib/python3.6/site-packages/keras/backend/tensorflow_backend.py\u001b[0m in \u001b[0;36m__call__\u001b[0;34m(self, inputs)\u001b[0m\n\u001b[1;32m   2664\u001b[0m                 \u001b[0;32mreturn\u001b[0m \u001b[0mself\u001b[0m\u001b[0;34m.\u001b[0m\u001b[0m_legacy_call\u001b[0m\u001b[0;34m(\u001b[0m\u001b[0minputs\u001b[0m\u001b[0;34m)\u001b[0m\u001b[0;34m\u001b[0m\u001b[0m\n\u001b[1;32m   2665\u001b[0m \u001b[0;34m\u001b[0m\u001b[0m\n\u001b[0;32m-> 2666\u001b[0;31m             \u001b[0;32mreturn\u001b[0m \u001b[0mself\u001b[0m\u001b[0;34m.\u001b[0m\u001b[0m_call\u001b[0m\u001b[0;34m(\u001b[0m\u001b[0minputs\u001b[0m\u001b[0;34m)\u001b[0m\u001b[0;34m\u001b[0m\u001b[0m\n\u001b[0m\u001b[1;32m   2667\u001b[0m         \u001b[0;32melse\u001b[0m\u001b[0;34m:\u001b[0m\u001b[0;34m\u001b[0m\u001b[0m\n\u001b[1;32m   2668\u001b[0m             \u001b[0;32mif\u001b[0m \u001b[0mpy_any\u001b[0m\u001b[0;34m(\u001b[0m\u001b[0mis_tensor\u001b[0m\u001b[0;34m(\u001b[0m\u001b[0mx\u001b[0m\u001b[0;34m)\u001b[0m \u001b[0;32mfor\u001b[0m \u001b[0mx\u001b[0m \u001b[0;32min\u001b[0m \u001b[0minputs\u001b[0m\u001b[0;34m)\u001b[0m\u001b[0;34m:\u001b[0m\u001b[0;34m\u001b[0m\u001b[0m\n",
      "\u001b[0;32m~/anaconda3/envs/tensorflow_p36/lib/python3.6/site-packages/keras/backend/tensorflow_backend.py\u001b[0m in \u001b[0;36m_call\u001b[0;34m(self, inputs)\u001b[0m\n\u001b[1;32m   2634\u001b[0m                                 \u001b[0msymbol_vals\u001b[0m\u001b[0;34m,\u001b[0m\u001b[0;34m\u001b[0m\u001b[0m\n\u001b[1;32m   2635\u001b[0m                                 session)\n\u001b[0;32m-> 2636\u001b[0;31m         \u001b[0mfetched\u001b[0m \u001b[0;34m=\u001b[0m \u001b[0mself\u001b[0m\u001b[0;34m.\u001b[0m\u001b[0m_callable_fn\u001b[0m\u001b[0;34m(\u001b[0m\u001b[0;34m*\u001b[0m\u001b[0marray_vals\u001b[0m\u001b[0;34m)\u001b[0m\u001b[0;34m\u001b[0m\u001b[0m\n\u001b[0m\u001b[1;32m   2637\u001b[0m         \u001b[0;32mreturn\u001b[0m \u001b[0mfetched\u001b[0m\u001b[0;34m[\u001b[0m\u001b[0;34m:\u001b[0m\u001b[0mlen\u001b[0m\u001b[0;34m(\u001b[0m\u001b[0mself\u001b[0m\u001b[0;34m.\u001b[0m\u001b[0moutputs\u001b[0m\u001b[0;34m)\u001b[0m\u001b[0;34m]\u001b[0m\u001b[0;34m\u001b[0m\u001b[0m\n\u001b[1;32m   2638\u001b[0m \u001b[0;34m\u001b[0m\u001b[0m\n",
      "\u001b[0;32m~/anaconda3/envs/tensorflow_p36/lib/python3.6/site-packages/tensorflow/python/client/session.py\u001b[0m in \u001b[0;36m__call__\u001b[0;34m(self, *args, **kwargs)\u001b[0m\n\u001b[1;32m   1380\u001b[0m           ret = tf_session.TF_SessionRunCallable(\n\u001b[1;32m   1381\u001b[0m               \u001b[0mself\u001b[0m\u001b[0;34m.\u001b[0m\u001b[0m_session\u001b[0m\u001b[0;34m.\u001b[0m\u001b[0m_session\u001b[0m\u001b[0;34m,\u001b[0m \u001b[0mself\u001b[0m\u001b[0;34m.\u001b[0m\u001b[0m_handle\u001b[0m\u001b[0;34m,\u001b[0m \u001b[0margs\u001b[0m\u001b[0;34m,\u001b[0m \u001b[0mstatus\u001b[0m\u001b[0;34m,\u001b[0m\u001b[0;34m\u001b[0m\u001b[0m\n\u001b[0;32m-> 1382\u001b[0;31m               run_metadata_ptr)\n\u001b[0m\u001b[1;32m   1383\u001b[0m         \u001b[0;32mif\u001b[0m \u001b[0mrun_metadata\u001b[0m\u001b[0;34m:\u001b[0m\u001b[0;34m\u001b[0m\u001b[0m\n\u001b[1;32m   1384\u001b[0m           \u001b[0mproto_data\u001b[0m \u001b[0;34m=\u001b[0m \u001b[0mtf_session\u001b[0m\u001b[0;34m.\u001b[0m\u001b[0mTF_GetBuffer\u001b[0m\u001b[0;34m(\u001b[0m\u001b[0mrun_metadata_ptr\u001b[0m\u001b[0;34m)\u001b[0m\u001b[0;34m\u001b[0m\u001b[0m\n",
      "\u001b[0;31mKeyboardInterrupt\u001b[0m: "
     ]
    }
   ],
   "source": [
    "test_model = build_model(optimizer='Adamax', learning_rate=1e-3, activation='relu', dropout_rate=0.5,\n",
    "                initilizer='normal', num_unit=10)\n",
    "best_model = test_model.fit(X,Y, batch_size=200, epochs=15, verbose=1, validation_data=(valid_x, valid_y), shuffle=True, initial_epoch=0)\n",
    "# print('Best model :')\n",
    "# pp.pprint(best_model.best_params_)"
   ]
  },
  {
   "cell_type": "code",
   "execution_count": null,
   "metadata": {},
   "outputs": [],
   "source": []
  }
 ],
 "metadata": {
  "accelerator": "GPU",
  "colab": {
   "collapsed_sections": [],
   "include_colab_link": true,
   "name": "“model_cnn.ipynb”",
   "provenance": [],
   "version": "0.3.2"
  },
  "kernelspec": {
   "display_name": "Python 3",
   "language": "python",
   "name": "python3"
  },
  "language_info": {
   "codemirror_mode": {
    "name": "ipython",
    "version": 3
   },
   "file_extension": ".py",
   "mimetype": "text/x-python",
   "name": "python",
   "nbconvert_exporter": "python",
   "pygments_lexer": "ipython3",
   "version": "3.6.5"
  }
 },
 "nbformat": 4,
 "nbformat_minor": 1
}
