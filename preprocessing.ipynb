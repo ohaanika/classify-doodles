{
 "cells": [
  {
   "cell_type": "code",
   "execution_count": null,
   "metadata": {
    "collapsed": true
   },
   "outputs": [],
   "source": [
    "# import necessary libraries\n",
    "import os\n",
    "import numpy as np\n",
    "import pandas as pd\n",
    "import csv\n",
    "import matplotlib.pyplot as plt\n",
    "import cv2"
   ]
  },
  {
   "cell_type": "code",
   "execution_count": null,
   "metadata": {
    "collapsed": true
   },
   "outputs": [],
   "source": [
    "# import datasets \n",
    "train_labels = np.array(pd.read_csv(\"datasets/train_labels.csv\", delimiter=\",\", header=0, index_col=0))\n",
    "train_images = np.load(\"datasets/train_images.npy\", encoding=\"latin1\")\n",
    "test_images = np.load(\"datasets/train_images.npy\", encoding=\"latin1\")"
   ]
  },
  {
   "cell_type": "code",
   "execution_count": null,
   "metadata": {
    "collapsed": true
   },
   "outputs": [],
   "source": [
    "# reshape images (10000 --> 100*100)\n",
    "def reshape(dataset):\n",
    "    output = []\n",
    "    for img in dataset:\n",
    "        output.append(img.reshape(100,100))\n",
    "    return np.array(output, dtype=int)"
   ]
  },
  {
   "cell_type": "code",
   "execution_count": null,
   "metadata": {
    "collapsed": true
   },
   "outputs": [],
   "source": [
    "# unravel images (100*100 --> 10000)\n",
    "def unravel(dataset):\n",
    "    output = []\n",
    "    for img in dataset:\n",
    "        output.append(img.ravel())\n",
    "    return np.array(output, dtype=int)"
   ]
  },
  {
   "cell_type": "code",
   "execution_count": null,
   "metadata": {
    "collapsed": true
   },
   "outputs": [],
   "source": [
    "def prepareToSaveNPY(dataset):\n",
    "    output = []\n",
    "    for i in range(len(dataset)):\n",
    "        output.append((int(i), np.array(dataset[i], dtype=float)))\n",
    "    return np.array(output, dtype=object)"
   ]
  },
  {
   "cell_type": "code",
   "execution_count": null,
   "metadata": {
    "collapsed": true
   },
   "outputs": [],
   "source": [
    "# convert greyscale to binary according to threshold\n",
    "def binarize(dataset, threshold):\n",
    "    output = []\n",
    "    for img in dataset:\n",
    "        img[img < threshold] = 0\n",
    "        img[img >= threshold] = 255\n",
    "        output.append(img)\n",
    "    return np.array(output, dtype=int)"
   ]
  },
  {
   "cell_type": "code",
   "execution_count": null,
   "metadata": {
    "collapsed": true
   },
   "outputs": [],
   "source": [
    "# remove noise surrounding connected component i.e. supposed doodle\n",
    "def denoise(dataset, connectivity):\n",
    "    output = []\n",
    "    for img in dataset:\n",
    "        img_binary = (img > 0).astype(np.uint8)\n",
    "        nb_components, labels, stats, centroids = cv2.connectedComponentsWithStats(img_binary, connectivity, cv2.CV_32S)\n",
    "        areas = stats[:,-1]\n",
    "        max_label = 1\n",
    "        max_area = areas[1]\n",
    "        for j in range(1, nb_components):\n",
    "            if areas[j] > max_area:\n",
    "                max_label = j\n",
    "                max_area = areas[j]\n",
    "        labels[labels != max_label] = 0\n",
    "        output.append(labels)\n",
    "    return np.array(output, dtype=int)"
   ]
  },
  {
   "cell_type": "code",
   "execution_count": null,
   "metadata": {
    "collapsed": true
   },
   "outputs": [],
   "source": [
    "# preprocess datasets of images\n",
    "train_x = reshape(train_images[:,1])\n",
    "train_x = binarize(train_x, 100)\n",
    "train_x = denoise(train_x, 8)\n",
    "test_x = reshape(test_images[:,1])\n",
    "test_x = binarize(test_x, 100)\n",
    "test_x = denoise(test_x, 8)"
   ]
  },
  {
   "cell_type": "code",
   "execution_count": null,
   "metadata": {
    "collapsed": true
   },
   "outputs": [],
   "source": [
    "# check preprocessing results\n",
    "plot = [67,150,250,350,450,650,750,850,950,1050,1150,1250]\n",
    "fig = plt.figure(figsize = (18,12))\n",
    "for i in range(len(plot)):\n",
    "    img = train_x[plot[i]]\n",
    "    label = train_labels[plot[i]]\n",
    "    subplot = fig.add_subplot(3,4,i+1)\n",
    "    subplot.imshow(img, cmap ='gray_r')\n",
    "    plt.title(label)\n",
    "    subplot.axes.get_xaxis().set_visible(False)\n",
    "    subplot.axes.get_yaxis().set_visible(False)\n",
    "plt.show()"
   ]
  },
  {
   "cell_type": "code",
   "execution_count": null,
   "metadata": {
    "collapsed": true
   },
   "outputs": [],
   "source": [
    "np.save(\"datasets/preprocessed_train_images.npy\", prepareToSaveNPY(unravel(train_x)))\n",
    "np.save(\"datasets/preprocessed_test_images.npy\", prepareToSaveNPY(unravel(test_x)))"
   ]
  },
  {
   "cell_type": "code",
   "execution_count": null,
   "metadata": {
    "collapsed": true
   },
   "outputs": [],
   "source": []
  }
 ],
 "metadata": {
  "kernelspec": {
   "display_name": "Python 3",
   "language": "python",
   "name": "python3"
  },
  "language_info": {
   "codemirror_mode": {
    "name": "ipython",
    "version": 3
   },
   "file_extension": ".py",
   "mimetype": "text/x-python",
   "name": "python",
   "nbconvert_exporter": "python",
   "pygments_lexer": "ipython3",
   "version": "3.6.1"
  }
 },
 "nbformat": 4,
 "nbformat_minor": 2
}
