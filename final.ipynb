{
  "nbformat": 4,
  "nbformat_minor": 0,
  "metadata": {
    "colab": {
      "name": "final.ipynb",
      "version": "0.3.2",
      "provenance": [],
      "toc_visible": true
    },
    "kernelspec": {
      "display_name": "Python 3",
      "language": "python",
      "name": "python3"
    }
  },
  "cells": [
    {
      "metadata": {
        "id": "2cG_17Tgkw-u",
        "colab_type": "code",
        "colab": {}
      },
      "cell_type": "code",
      "source": [
        "# import necessary libraries\n",
        "import os\n",
        "import numpy as np\n",
        "import pandas as pd\n",
        "import matplotlib.pyplot as plt\n",
        "import cv2\n",
        "# preprocessing\n",
        "from sklearn import preprocessing\n",
        "from sklearn.model_selection import train_test_split"
      ],
      "execution_count": 0,
      "outputs": []
    },
    {
      "metadata": {
        "id": "96MP5IhOkw-z",
        "colab_type": "code",
        "colab": {}
      },
      "cell_type": "code",
      "source": [
        "# import datasets \n",
        "train_labels = pd.read_csv(\"datasets/train_labels.csv\", delimiter=\",\", header=0, index_col=0)\n",
        "train_images = np.load(\"datasets/train_images.npy\", encoding=\"latin1\")\n",
        "test_images = np.load(\"datasets/train_images.npy\", encoding=\"latin1\")"
      ],
      "execution_count": 0,
      "outputs": []
    },
    {
      "metadata": {
        "id": "CK6kKKp6kw-2",
        "colab_type": "code",
        "colab": {}
      },
      "cell_type": "code",
      "source": [
        "# store copies, may wish to retrieve original datasets\n",
        "copy_train_labels = np.copy(train_labels)\n",
        "copy_train_images = np.copy(train_images)\n",
        "copy_test_images = np.copy(test_images)\n",
        " \n",
        "# restore original datasets\n",
        "def restore():\n",
        "    train_labels = np.copy(copy_train_labels)\n",
        "    train_images = np.copy(copy_train_images)\n",
        "    test_images = np.copy(copy_test_images)\n",
        "    return train_labels, train_images, test_images"
      ],
      "execution_count": 0,
      "outputs": []
    },
    {
      "metadata": {
        "id": "iDuZqErakw-4",
        "colab_type": "code",
        "colab": {
          "base_uri": "https://localhost:8080/",
          "height": 68
        },
        "outputId": "c0937375-b61a-4388-b6ad-7f4d9c2b2ab7"
      },
      "cell_type": "code",
      "source": [
        "# check shape\n",
        "print(train_labels.shape)\n",
        "print(train_images.shape)\n",
        "print(test_images.shape)"
      ],
      "execution_count": 14,
      "outputs": [
        {
          "output_type": "stream",
          "text": [
            "(10000, 1)\n",
            "(10000, 2)\n",
            "(10000, 2)\n"
          ],
          "name": "stdout"
        }
      ]
    },
    {
      "metadata": {
        "id": "bKG9UmRqkw-9",
        "colab_type": "code",
        "colab": {}
      },
      "cell_type": "code",
      "source": [
        "# RUN FROM| FROM HERE IF DATASETS NEED TO BE RESTORED\n",
        "train_labels, train_images, test_images = restore()"
      ],
      "execution_count": 0,
      "outputs": []
    },
    {
      "metadata": {
        "id": "wuvvlNNikw-_",
        "colab_type": "code",
        "colab": {}
      },
      "cell_type": "code",
      "source": [
        "# reshape labels to 1d array, encode labels to integers\n",
        "train_labels = np.array(train_labels).reshape(-1)\n",
        "le = preprocessing.LabelEncoder()\n",
        "le.fit(train_labels)\n",
        "train_y = le.transform(train_labels)"
      ],
      "execution_count": 0,
      "outputs": []
    },
    {
      "metadata": {
        "id": "dYuAZTo1kw_B",
        "colab_type": "code",
        "colab": {
          "base_uri": "https://localhost:8080/",
          "height": 51
        },
        "outputId": "214104e0-c1f5-4e1c-9d19-8ec054845e89"
      },
      "cell_type": "code",
      "source": [
        "# check labels\n",
        "print(train_labels)\n",
        "print(train_y)"
      ],
      "execution_count": 17,
      "outputs": [
        {
          "output_type": "stream",
          "text": [
            "['shovel' 'rifle' 'scorpion' ... 'rollerskates' 'mouth' 'pencil']\n",
            "[25 20 23 ... 21  3 13]\n"
          ],
          "name": "stdout"
        }
      ]
    },
    {
      "metadata": {
        "id": "gIjduGfHkw_G",
        "colab_type": "code",
        "colab": {}
      },
      "cell_type": "code",
      "source": [
        "# reshape images\n",
        "#train_images = train_images[:,1].reshape(-1, 100, 100)\n",
        "train_x = []\n",
        "for i in train_images[:,1]:\n",
        "    train_x.append(i.reshape(100,100))\n",
        "train_x = np.array(train_x, dtype=float) "
      ],
      "execution_count": 0,
      "outputs": []
    },
    {
      "metadata": {
        "id": "3L8rkq-7kw_I",
        "colab_type": "code",
        "colab": {
          "base_uri": "https://localhost:8080/",
          "height": 34
        },
        "outputId": "fd07616b-81e8-4375-8215-fdb393679b54"
      },
      "cell_type": "code",
      "source": [
        "# check shape\n",
        "print(train_x.shape)"
      ],
      "execution_count": 19,
      "outputs": [
        {
          "output_type": "stream",
          "text": [
            "(10000, 100, 100)\n"
          ],
          "name": "stdout"
        }
      ]
    },
    {
      "metadata": {
        "id": "1kxM1cf3kw_L",
        "colab_type": "text"
      },
      "cell_type": "markdown",
      "source": [
        "# Noise Reduction"
      ]
    },
    {
      "metadata": {
        "id": "TqOxJo30kw_L",
        "colab_type": "code",
        "colab": {
          "base_uri": "https://localhost:8080/",
          "height": 34
        },
        "outputId": "9bc17c18-db17-48f5-a52a-c7bd62a1437b"
      },
      "cell_type": "code",
      "source": [
        "import keras\n",
        "from keras.layers import Input, Dense, Conv2D, MaxPooling2D, UpSampling2D\n",
        "from keras.models import Model"
      ],
      "execution_count": 20,
      "outputs": [
        {
          "output_type": "stream",
          "text": [
            "Using TensorFlow backend.\n"
          ],
          "name": "stderr"
        }
      ]
    },
    {
      "metadata": {
        "id": "oSl_2nbrkw_O",
        "colab_type": "code",
        "colab": {}
      },
      "cell_type": "code",
      "source": [
        "def make_convolutional_autoencoder():\n",
        "    # encoding\n",
        "    inputs = Input(shape=(100, 100, 1))\n",
        "    x = Conv2D(16, 3, activation='relu', padding='same')(inputs)\n",
        "    x = MaxPooling2D(padding='same')(x)\n",
        "    x = Conv2D( 8, 3, activation='relu', padding='same')(x)\n",
        "    x = MaxPooling2D(padding='same')(x)\n",
        "    x = Conv2D( 8, 3, activation='relu', padding='same')(x)\n",
        "    encoded = MaxPooling2D(padding='same')(x)    \n",
        "    \n",
        "    # decoding\n",
        "    x = Conv2D( 8, 3, activation='relu', padding='same')(encoded)\n",
        "    x = UpSampling2D()(x)\n",
        "    x = Conv2D( 8, 3, activation='relu', padding='same')(x)\n",
        "    x = UpSampling2D()(x)\n",
        "    x = Conv2D(16, 3, activation='relu')(x) # <= padding='valid'!\n",
        "    x = UpSampling2D()(x)\n",
        "    decoded = Conv2D(1, 3, activation='sigmoid', padding='same')(x)    \n",
        "    \n",
        "    # autoencoder\n",
        "    autoencoder = Model(inputs, decoded)\n",
        "    autoencoder.compile(optimizer='adam', loss='binary_crossentropy')\n",
        "    return autoencoder"
      ],
      "execution_count": 0,
      "outputs": []
    },
    {
      "metadata": {
        "id": "BQw4ESLskw_R",
        "colab_type": "code",
        "colab": {
          "base_uri": "https://localhost:8080/",
          "height": 400
        },
        "outputId": "b099ee7a-8cf2-4c3d-8f33-1d4f074d65f7"
      },
      "cell_type": "code",
      "source": [
        "empty_labels = pd.read_csv(\"datasets/empty.csv\", delimiter=\",\")\n",
        "#print(empty_labels)\n",
        "empty_labels =np.array(empty_labels)\n",
        "empty_x = []\n",
        "for n in empty_labels[:, 0]:\n",
        "    empty_x.append(train_x[n])\n",
        "# print(len(empty_x))\n",
        "plt.imshow(empty_x[321], cmap='gray')\n",
        "\n",
        "black_x = []\n",
        "black = np.zeros((100, 100))\n",
        "for n in range(322):\n",
        "    black_x.append(black)\n",
        "# print(len(black_x))\n",
        "plt.imshow(black_x[321], cmap='gray')"
      ],
      "execution_count": 25,
      "outputs": [
        {
          "output_type": "stream",
          "text": [
            "322\n",
            "322\n"
          ],
          "name": "stdout"
        },
        {
          "output_type": "execute_result",
          "data": {
            "text/plain": [
              "<matplotlib.image.AxesImage at 0x7fc3f1922438>"
            ]
          },
          "metadata": {
            "tags": []
          },
          "execution_count": 25
        },
        {
          "output_type": "display_data",
          "data": {
            "image/png": "[encoded data removed]",
            "text/plain": [
              "<matplotlib.figure.Figure at 0x7fc3f1fc7b00>"
            ]
          },
          "metadata": {
            "tags": []
          }
        }
      ]
    },
    {
      "metadata": {
        "id": "tzRu621olxmc",
        "colab_type": "code",
        "colab": {}
      },
      "cell_type": "code",
      "source": [
        "empty_x=np.asarray(empty_x)"
      ],
      "execution_count": 0,
      "outputs": []
    },
    {
      "metadata": {
        "id": "0nsvRGygnSzy",
        "colab_type": "code",
        "colab": {}
      },
      "cell_type": "code",
      "source": [
        "black_x = np.asarray(black_x)"
      ],
      "execution_count": 0,
      "outputs": []
    },
    {
      "metadata": {
        "id": "nnI-_y8pm_74",
        "colab_type": "code",
        "colab": {}
      },
      "cell_type": "code",
      "source": [
        "empty_temp = empty_x.reshape(-1,100,100,1)\n",
        "black_temp = black_x.reshape(-1,100,100,1)"
      ],
      "execution_count": 0,
      "outputs": []
    },
    {
      "metadata": {
        "id": "36kuTPRjnHZ5",
        "colab_type": "code",
        "colab": {
          "base_uri": "https://localhost:8080/",
          "height": 34
        },
        "outputId": "f5808a38-dd9c-4b38-ee35-06e05adaa202"
      },
      "cell_type": "code",
      "source": [
        "temp.shape"
      ],
      "execution_count": 37,
      "outputs": [
        {
          "output_type": "execute_result",
          "data": {
            "text/plain": [
              "(322, 100, 100, 1)"
            ]
          },
          "metadata": {
            "tags": []
          },
          "execution_count": 37
        }
      ]
    },
    {
      "metadata": {
        "id": "YriC-2V5kw_U",
        "colab_type": "code",
        "colab": {
          "base_uri": "https://localhost:8080/",
          "height": 306
        },
        "outputId": "5051510e-a777-42cb-ddb5-470b5f7f60e4"
      },
      "cell_type": "code",
      "source": [
        "\n",
        "autoencoder = make_convolutional_autoencoder()\n",
        "autoencoder.fit(empty_temp, black_temp, \n",
        "                epochs=8, \n",
        "                batch_size=322)"
      ],
      "execution_count": 42,
      "outputs": [
        {
          "output_type": "stream",
          "text": [
            "Epoch 1/8\n",
            "322/322 [==============================] - 6s 18ms/step - loss: 5.0374\n",
            "Epoch 2/8\n",
            "322/322 [==============================] - 5s 16ms/step - loss: 2.3414\n",
            "Epoch 3/8\n",
            "322/322 [==============================] - 5s 16ms/step - loss: 1.0992\n",
            "Epoch 4/8\n",
            "322/322 [==============================] - 5s 16ms/step - loss: 0.4549\n",
            "Epoch 5/8\n",
            "322/322 [==============================] - 5s 16ms/step - loss: 0.1731\n",
            "Epoch 6/8\n",
            "322/322 [==============================] - 5s 16ms/step - loss: 0.0705\n",
            "Epoch 7/8\n",
            "322/322 [==============================] - 5s 16ms/step - loss: 0.0336\n",
            "Epoch 8/8\n",
            "322/322 [==============================] - 5s 16ms/step - loss: 0.0186\n"
          ],
          "name": "stdout"
        },
        {
          "output_type": "execute_result",
          "data": {
            "text/plain": [
              "<keras.callbacks.History at 0x7fc3eb30b8d0>"
            ]
          },
          "metadata": {
            "tags": []
          },
          "execution_count": 42
        }
      ]
    },
    {
      "metadata": {
        "id": "sbT5bCOGoTFu",
        "colab_type": "code",
        "colab": {}
      },
      "cell_type": "code",
      "source": [
        "temp_train = train_x[:3].reshape(-1,100,100,1)"
      ],
      "execution_count": 0,
      "outputs": []
    },
    {
      "metadata": {
        "id": "FfaSXtf5odEf",
        "colab_type": "code",
        "colab": {
          "base_uri": "https://localhost:8080/",
          "height": 34
        },
        "outputId": "9a6e7f25-e8c7-4257-8301-246d48399eb9"
      },
      "cell_type": "code",
      "source": [
        "temp_train.shape"
      ],
      "execution_count": 49,
      "outputs": [
        {
          "output_type": "execute_result",
          "data": {
            "text/plain": [
              "(3, 100, 100, 1)"
            ]
          },
          "metadata": {
            "tags": []
          },
          "execution_count": 49
        }
      ]
    },
    {
      "metadata": {
        "id": "hbKUF2Q4kw_X",
        "colab_type": "code",
        "colab": {}
      },
      "cell_type": "code",
      "source": [
        "train_x_decoded = autoencoder.predict(temp_train)"
      ],
      "execution_count": 0,
      "outputs": []
    },
    {
      "metadata": {
        "id": "M5NTcFDVkw_b",
        "colab_type": "code",
        "colab": {
          "base_uri": "https://localhost:8080/",
          "height": 349
        },
        "outputId": "82258e04-981b-47d3-afb0-7534b374cae2"
      },
      "cell_type": "code",
      "source": [
        "plt.imshow(train_x_decoded[2].reshape(100,100))\n",
        "plt.show()"
      ],
      "execution_count": 54,
      "outputs": [
        {
          "output_type": "display_data",
          "data": {
            "image/png": "[encoded data removed]",
            "text/plain": [
              "<matplotlib.figure.Figure at 0x7fc3ea194a90>"
            ]
          },
          "metadata": {
            "tags": []
          }
        }
      ]
    },
    {
      "metadata": {
        "id": "nPciuJIFkw_e",
        "colab_type": "code",
        "colab": {
          "base_uri": "https://localhost:8080/",
          "height": 349
        },
        "outputId": "8683960a-fa58-4352-d5d0-497e08c0c1b4"
      },
      "cell_type": "code",
      "source": [
        "plt.imshow(train_x[0])\n",
        "plt.show()"
      ],
      "execution_count": 55,
      "outputs": [
        {
          "output_type": "display_data",
          "data": {
            "image/png": "[encoded data removed]",
            "text/plain": [
              "<matplotlib.figure.Figure at 0x7fc3ea14d518>"
            ]
          },
          "metadata": {
            "tags": []
          }
        }
      ]
    },
    {
      "metadata": {
        "id": "sE85CLUEkw_h",
        "colab_type": "code",
        "colab": {}
      },
      "cell_type": "code",
      "source": [
        ""
      ],
      "execution_count": 0,
      "outputs": []
    },
    {
      "metadata": {
        "id": "Rw90PC76kw_l",
        "colab_type": "code",
        "colab": {}
      },
      "cell_type": "code",
      "source": [
        ""
      ],
      "execution_count": 0,
      "outputs": []
    },
    {
      "metadata": {
        "id": "-WTb1caKkw_o",
        "colab_type": "code",
        "colab": {}
      },
      "cell_type": "code",
      "source": [
        ""
      ],
      "execution_count": 0,
      "outputs": []
    },
    {
      "metadata": {
        "id": "io9LVWXdkw_s",
        "colab_type": "code",
        "colab": {}
      },
      "cell_type": "code",
      "source": [
        ""
      ],
      "execution_count": 0,
      "outputs": []
    },
    {
      "metadata": {
        "id": "PxPjzEcikw_z",
        "colab_type": "code",
        "colab": {}
      },
      "cell_type": "code",
      "source": [
        ""
      ],
      "execution_count": 0,
      "outputs": []
    },
    {
      "metadata": {
        "id": "uyk-xz7alV7a",
        "colab_type": "code",
        "colab": {}
      },
      "cell_type": "code",
      "source": [
        ""
      ],
      "execution_count": 0,
      "outputs": []
    }
  ]
}